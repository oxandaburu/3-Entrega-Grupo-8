{
  "cells": [
    {
      "cell_type": "markdown",
      "id": "8543752c",
      "metadata": {
        "id": "8543752c"
      },
      "source": [
        "### Aprendizaje supervisado"
      ]
    },
    {
      "cell_type": "markdown",
      "id": "91f002e8",
      "metadata": {
        "id": "91f002e8"
      },
      "source": [
        "### Analisis exploratorio"
      ]
    },
    {
      "cell_type": "code",
      "execution_count": 4,
      "id": "fd5532ad",
      "metadata": {
        "id": "fd5532ad"
      },
      "outputs": [],
      "source": [
        "import pandas as pd\n",
        "import numpy as np\n",
        "import matplotlib.pyplot as plt\n",
        "import seaborn as sns"
      ]
    },
    {
      "cell_type": "code",
      "execution_count": 6,
      "id": "889e1971",
      "metadata": {
        "id": "889e1971"
      },
      "outputs": [],
      "source": [
        "PasajerosAerolineas = pd.read_csv('Passanger_booking_data.csv')"
      ]
    },
    {
      "cell_type": "markdown",
      "id": "42a515b1",
      "metadata": {
        "id": "42a515b1"
      },
      "source": [
        "* Vamos a visualizar el DataFrame y observa cuantas filas y columnas tiene."
      ]
    },
    {
      "cell_type": "code",
      "execution_count": 7,
      "id": "a9de0618",
      "metadata": {
        "colab": {
          "base_uri": "https://localhost:8080/",
          "height": 226
        },
        "id": "a9de0618",
        "outputId": "6582c014-827a-47b7-bc5d-82bd3c717472"
      },
      "outputs": [
        {
          "output_type": "execute_result",
          "data": {
            "text/plain": [
              "   num_passengers sales_channel  trip_type  purchase_lead  length_of_stay  \\\n",
              "0               1      Internet  RoundTrip             21              12   \n",
              "1               2      Internet  RoundTrip            262              19   \n",
              "2               1      Internet  RoundTrip            112              20   \n",
              "3               2      Internet  RoundTrip            243              22   \n",
              "4               1      Internet  RoundTrip             96              31   \n",
              "\n",
              "   flight_hour flight_day   route booking_origin  wants_extra_baggage  \\\n",
              "0            6        Tue  AKLHGH      Australia                    0   \n",
              "1            7        Sat  AKLDEL    New Zealand                    1   \n",
              "2            3        Sat  AKLDEL    New Zealand                    0   \n",
              "3           17        Wed  AKLDEL          India                    1   \n",
              "4            4        Sat  AKLDEL    New Zealand                    0   \n",
              "\n",
              "   wants_preferred_seat  wants_in_flight_meals  flight_duration  \\\n",
              "0                     0                      0             7.21   \n",
              "1                     0                      0             5.52   \n",
              "2                     0                      0             5.52   \n",
              "3                     1                      0             5.52   \n",
              "4                     0                      1             5.52   \n",
              "\n",
              "   booking_complete  \n",
              "0                 1  \n",
              "1                 0  \n",
              "2                 0  \n",
              "3                 0  \n",
              "4                 0  "
            ],
            "text/html": [
              "\n",
              "  <div id=\"df-b8847183-6a95-448c-86f2-51608b4acd4c\" class=\"colab-df-container\">\n",
              "    <div>\n",
              "<style scoped>\n",
              "    .dataframe tbody tr th:only-of-type {\n",
              "        vertical-align: middle;\n",
              "    }\n",
              "\n",
              "    .dataframe tbody tr th {\n",
              "        vertical-align: top;\n",
              "    }\n",
              "\n",
              "    .dataframe thead th {\n",
              "        text-align: right;\n",
              "    }\n",
              "</style>\n",
              "<table border=\"1\" class=\"dataframe\">\n",
              "  <thead>\n",
              "    <tr style=\"text-align: right;\">\n",
              "      <th></th>\n",
              "      <th>num_passengers</th>\n",
              "      <th>sales_channel</th>\n",
              "      <th>trip_type</th>\n",
              "      <th>purchase_lead</th>\n",
              "      <th>length_of_stay</th>\n",
              "      <th>flight_hour</th>\n",
              "      <th>flight_day</th>\n",
              "      <th>route</th>\n",
              "      <th>booking_origin</th>\n",
              "      <th>wants_extra_baggage</th>\n",
              "      <th>wants_preferred_seat</th>\n",
              "      <th>wants_in_flight_meals</th>\n",
              "      <th>flight_duration</th>\n",
              "      <th>booking_complete</th>\n",
              "    </tr>\n",
              "  </thead>\n",
              "  <tbody>\n",
              "    <tr>\n",
              "      <th>0</th>\n",
              "      <td>1</td>\n",
              "      <td>Internet</td>\n",
              "      <td>RoundTrip</td>\n",
              "      <td>21</td>\n",
              "      <td>12</td>\n",
              "      <td>6</td>\n",
              "      <td>Tue</td>\n",
              "      <td>AKLHGH</td>\n",
              "      <td>Australia</td>\n",
              "      <td>0</td>\n",
              "      <td>0</td>\n",
              "      <td>0</td>\n",
              "      <td>7.21</td>\n",
              "      <td>1</td>\n",
              "    </tr>\n",
              "    <tr>\n",
              "      <th>1</th>\n",
              "      <td>2</td>\n",
              "      <td>Internet</td>\n",
              "      <td>RoundTrip</td>\n",
              "      <td>262</td>\n",
              "      <td>19</td>\n",
              "      <td>7</td>\n",
              "      <td>Sat</td>\n",
              "      <td>AKLDEL</td>\n",
              "      <td>New Zealand</td>\n",
              "      <td>1</td>\n",
              "      <td>0</td>\n",
              "      <td>0</td>\n",
              "      <td>5.52</td>\n",
              "      <td>0</td>\n",
              "    </tr>\n",
              "    <tr>\n",
              "      <th>2</th>\n",
              "      <td>1</td>\n",
              "      <td>Internet</td>\n",
              "      <td>RoundTrip</td>\n",
              "      <td>112</td>\n",
              "      <td>20</td>\n",
              "      <td>3</td>\n",
              "      <td>Sat</td>\n",
              "      <td>AKLDEL</td>\n",
              "      <td>New Zealand</td>\n",
              "      <td>0</td>\n",
              "      <td>0</td>\n",
              "      <td>0</td>\n",
              "      <td>5.52</td>\n",
              "      <td>0</td>\n",
              "    </tr>\n",
              "    <tr>\n",
              "      <th>3</th>\n",
              "      <td>2</td>\n",
              "      <td>Internet</td>\n",
              "      <td>RoundTrip</td>\n",
              "      <td>243</td>\n",
              "      <td>22</td>\n",
              "      <td>17</td>\n",
              "      <td>Wed</td>\n",
              "      <td>AKLDEL</td>\n",
              "      <td>India</td>\n",
              "      <td>1</td>\n",
              "      <td>1</td>\n",
              "      <td>0</td>\n",
              "      <td>5.52</td>\n",
              "      <td>0</td>\n",
              "    </tr>\n",
              "    <tr>\n",
              "      <th>4</th>\n",
              "      <td>1</td>\n",
              "      <td>Internet</td>\n",
              "      <td>RoundTrip</td>\n",
              "      <td>96</td>\n",
              "      <td>31</td>\n",
              "      <td>4</td>\n",
              "      <td>Sat</td>\n",
              "      <td>AKLDEL</td>\n",
              "      <td>New Zealand</td>\n",
              "      <td>0</td>\n",
              "      <td>0</td>\n",
              "      <td>1</td>\n",
              "      <td>5.52</td>\n",
              "      <td>0</td>\n",
              "    </tr>\n",
              "  </tbody>\n",
              "</table>\n",
              "</div>\n",
              "    <div class=\"colab-df-buttons\">\n",
              "\n",
              "  <div class=\"colab-df-container\">\n",
              "    <button class=\"colab-df-convert\" onclick=\"convertToInteractive('df-b8847183-6a95-448c-86f2-51608b4acd4c')\"\n",
              "            title=\"Convert this dataframe to an interactive table.\"\n",
              "            style=\"display:none;\">\n",
              "\n",
              "  <svg xmlns=\"http://www.w3.org/2000/svg\" height=\"24px\" viewBox=\"0 -960 960 960\">\n",
              "    <path d=\"M120-120v-720h720v720H120Zm60-500h600v-160H180v160Zm220 220h160v-160H400v160Zm0 220h160v-160H400v160ZM180-400h160v-160H180v160Zm440 0h160v-160H620v160ZM180-180h160v-160H180v160Zm440 0h160v-160H620v160Z\"/>\n",
              "  </svg>\n",
              "    </button>\n",
              "\n",
              "  <style>\n",
              "    .colab-df-container {\n",
              "      display:flex;\n",
              "      gap: 12px;\n",
              "    }\n",
              "\n",
              "    .colab-df-convert {\n",
              "      background-color: #E8F0FE;\n",
              "      border: none;\n",
              "      border-radius: 50%;\n",
              "      cursor: pointer;\n",
              "      display: none;\n",
              "      fill: #1967D2;\n",
              "      height: 32px;\n",
              "      padding: 0 0 0 0;\n",
              "      width: 32px;\n",
              "    }\n",
              "\n",
              "    .colab-df-convert:hover {\n",
              "      background-color: #E2EBFA;\n",
              "      box-shadow: 0px 1px 2px rgba(60, 64, 67, 0.3), 0px 1px 3px 1px rgba(60, 64, 67, 0.15);\n",
              "      fill: #174EA6;\n",
              "    }\n",
              "\n",
              "    .colab-df-buttons div {\n",
              "      margin-bottom: 4px;\n",
              "    }\n",
              "\n",
              "    [theme=dark] .colab-df-convert {\n",
              "      background-color: #3B4455;\n",
              "      fill: #D2E3FC;\n",
              "    }\n",
              "\n",
              "    [theme=dark] .colab-df-convert:hover {\n",
              "      background-color: #434B5C;\n",
              "      box-shadow: 0px 1px 3px 1px rgba(0, 0, 0, 0.15);\n",
              "      filter: drop-shadow(0px 1px 2px rgba(0, 0, 0, 0.3));\n",
              "      fill: #FFFFFF;\n",
              "    }\n",
              "  </style>\n",
              "\n",
              "    <script>\n",
              "      const buttonEl =\n",
              "        document.querySelector('#df-b8847183-6a95-448c-86f2-51608b4acd4c button.colab-df-convert');\n",
              "      buttonEl.style.display =\n",
              "        google.colab.kernel.accessAllowed ? 'block' : 'none';\n",
              "\n",
              "      async function convertToInteractive(key) {\n",
              "        const element = document.querySelector('#df-b8847183-6a95-448c-86f2-51608b4acd4c');\n",
              "        const dataTable =\n",
              "          await google.colab.kernel.invokeFunction('convertToInteractive',\n",
              "                                                    [key], {});\n",
              "        if (!dataTable) return;\n",
              "\n",
              "        const docLinkHtml = 'Like what you see? Visit the ' +\n",
              "          '<a target=\"_blank\" href=https://colab.research.google.com/notebooks/data_table.ipynb>data table notebook</a>'\n",
              "          + ' to learn more about interactive tables.';\n",
              "        element.innerHTML = '';\n",
              "        dataTable['output_type'] = 'display_data';\n",
              "        await google.colab.output.renderOutput(dataTable, element);\n",
              "        const docLink = document.createElement('div');\n",
              "        docLink.innerHTML = docLinkHtml;\n",
              "        element.appendChild(docLink);\n",
              "      }\n",
              "    </script>\n",
              "  </div>\n",
              "\n",
              "\n",
              "<div id=\"df-c756a37d-9be9-4bd3-b022-d431f9ea336b\">\n",
              "  <button class=\"colab-df-quickchart\" onclick=\"quickchart('df-c756a37d-9be9-4bd3-b022-d431f9ea336b')\"\n",
              "            title=\"Suggest charts.\"\n",
              "            style=\"display:none;\">\n",
              "\n",
              "<svg xmlns=\"http://www.w3.org/2000/svg\" height=\"24px\"viewBox=\"0 0 24 24\"\n",
              "     width=\"24px\">\n",
              "    <g>\n",
              "        <path d=\"M19 3H5c-1.1 0-2 .9-2 2v14c0 1.1.9 2 2 2h14c1.1 0 2-.9 2-2V5c0-1.1-.9-2-2-2zM9 17H7v-7h2v7zm4 0h-2V7h2v10zm4 0h-2v-4h2v4z\"/>\n",
              "    </g>\n",
              "</svg>\n",
              "  </button>\n",
              "\n",
              "<style>\n",
              "  .colab-df-quickchart {\n",
              "      --bg-color: #E8F0FE;\n",
              "      --fill-color: #1967D2;\n",
              "      --hover-bg-color: #E2EBFA;\n",
              "      --hover-fill-color: #174EA6;\n",
              "      --disabled-fill-color: #AAA;\n",
              "      --disabled-bg-color: #DDD;\n",
              "  }\n",
              "\n",
              "  [theme=dark] .colab-df-quickchart {\n",
              "      --bg-color: #3B4455;\n",
              "      --fill-color: #D2E3FC;\n",
              "      --hover-bg-color: #434B5C;\n",
              "      --hover-fill-color: #FFFFFF;\n",
              "      --disabled-bg-color: #3B4455;\n",
              "      --disabled-fill-color: #666;\n",
              "  }\n",
              "\n",
              "  .colab-df-quickchart {\n",
              "    background-color: var(--bg-color);\n",
              "    border: none;\n",
              "    border-radius: 50%;\n",
              "    cursor: pointer;\n",
              "    display: none;\n",
              "    fill: var(--fill-color);\n",
              "    height: 32px;\n",
              "    padding: 0;\n",
              "    width: 32px;\n",
              "  }\n",
              "\n",
              "  .colab-df-quickchart:hover {\n",
              "    background-color: var(--hover-bg-color);\n",
              "    box-shadow: 0 1px 2px rgba(60, 64, 67, 0.3), 0 1px 3px 1px rgba(60, 64, 67, 0.15);\n",
              "    fill: var(--button-hover-fill-color);\n",
              "  }\n",
              "\n",
              "  .colab-df-quickchart-complete:disabled,\n",
              "  .colab-df-quickchart-complete:disabled:hover {\n",
              "    background-color: var(--disabled-bg-color);\n",
              "    fill: var(--disabled-fill-color);\n",
              "    box-shadow: none;\n",
              "  }\n",
              "\n",
              "  .colab-df-spinner {\n",
              "    border: 2px solid var(--fill-color);\n",
              "    border-color: transparent;\n",
              "    border-bottom-color: var(--fill-color);\n",
              "    animation:\n",
              "      spin 1s steps(1) infinite;\n",
              "  }\n",
              "\n",
              "  @keyframes spin {\n",
              "    0% {\n",
              "      border-color: transparent;\n",
              "      border-bottom-color: var(--fill-color);\n",
              "      border-left-color: var(--fill-color);\n",
              "    }\n",
              "    20% {\n",
              "      border-color: transparent;\n",
              "      border-left-color: var(--fill-color);\n",
              "      border-top-color: var(--fill-color);\n",
              "    }\n",
              "    30% {\n",
              "      border-color: transparent;\n",
              "      border-left-color: var(--fill-color);\n",
              "      border-top-color: var(--fill-color);\n",
              "      border-right-color: var(--fill-color);\n",
              "    }\n",
              "    40% {\n",
              "      border-color: transparent;\n",
              "      border-right-color: var(--fill-color);\n",
              "      border-top-color: var(--fill-color);\n",
              "    }\n",
              "    60% {\n",
              "      border-color: transparent;\n",
              "      border-right-color: var(--fill-color);\n",
              "    }\n",
              "    80% {\n",
              "      border-color: transparent;\n",
              "      border-right-color: var(--fill-color);\n",
              "      border-bottom-color: var(--fill-color);\n",
              "    }\n",
              "    90% {\n",
              "      border-color: transparent;\n",
              "      border-bottom-color: var(--fill-color);\n",
              "    }\n",
              "  }\n",
              "</style>\n",
              "\n",
              "  <script>\n",
              "    async function quickchart(key) {\n",
              "      const quickchartButtonEl =\n",
              "        document.querySelector('#' + key + ' button');\n",
              "      quickchartButtonEl.disabled = true;  // To prevent multiple clicks.\n",
              "      quickchartButtonEl.classList.add('colab-df-spinner');\n",
              "      try {\n",
              "        const charts = await google.colab.kernel.invokeFunction(\n",
              "            'suggestCharts', [key], {});\n",
              "      } catch (error) {\n",
              "        console.error('Error during call to suggestCharts:', error);\n",
              "      }\n",
              "      quickchartButtonEl.classList.remove('colab-df-spinner');\n",
              "      quickchartButtonEl.classList.add('colab-df-quickchart-complete');\n",
              "    }\n",
              "    (() => {\n",
              "      let quickchartButtonEl =\n",
              "        document.querySelector('#df-c756a37d-9be9-4bd3-b022-d431f9ea336b button');\n",
              "      quickchartButtonEl.style.display =\n",
              "        google.colab.kernel.accessAllowed ? 'block' : 'none';\n",
              "    })();\n",
              "  </script>\n",
              "</div>\n",
              "    </div>\n",
              "  </div>\n"
            ]
          },
          "metadata": {},
          "execution_count": 7
        }
      ],
      "source": [
        "PasajerosAerolineas.head()"
      ]
    },
    {
      "cell_type": "code",
      "execution_count": 8,
      "id": "c2e11a75",
      "metadata": {
        "colab": {
          "base_uri": "https://localhost:8080/"
        },
        "id": "c2e11a75",
        "outputId": "7d8d1c49-08e7-443c-d436-3ee15f5681d9"
      },
      "outputs": [
        {
          "output_type": "execute_result",
          "data": {
            "text/plain": [
              "(50002, 14)"
            ]
          },
          "metadata": {},
          "execution_count": 8
        }
      ],
      "source": [
        "PasajerosAerolineas.shape"
      ]
    },
    {
      "cell_type": "markdown",
      "id": "8c7369e2",
      "metadata": {
        "id": "8c7369e2"
      },
      "source": [
        "* Veamos el nombre y tipo de datos de las columnas contenidas en el Dataset"
      ]
    },
    {
      "cell_type": "code",
      "execution_count": 9,
      "id": "2f1af6e3",
      "metadata": {
        "colab": {
          "base_uri": "https://localhost:8080/"
        },
        "id": "2f1af6e3",
        "outputId": "9a7b195e-b269-4e70-bebc-03859b19d1fa"
      },
      "outputs": [
        {
          "output_type": "execute_result",
          "data": {
            "text/plain": [
              "Index(['num_passengers', 'sales_channel', 'trip_type', 'purchase_lead',\n",
              "       'length_of_stay', 'flight_hour', 'flight_day', 'route',\n",
              "       'booking_origin', 'wants_extra_baggage', 'wants_preferred_seat',\n",
              "       'wants_in_flight_meals', 'flight_duration', 'booking_complete'],\n",
              "      dtype='object')"
            ]
          },
          "metadata": {},
          "execution_count": 9
        }
      ],
      "source": [
        "PasajerosAerolineas.columns"
      ]
    },
    {
      "cell_type": "code",
      "execution_count": 10,
      "id": "95447c95",
      "metadata": {
        "colab": {
          "base_uri": "https://localhost:8080/"
        },
        "id": "95447c95",
        "outputId": "4d1aef0d-1cd7-420f-c8b0-e9d468cc9324"
      },
      "outputs": [
        {
          "output_type": "execute_result",
          "data": {
            "text/plain": [
              "num_passengers             int64\n",
              "sales_channel             object\n",
              "trip_type                 object\n",
              "purchase_lead              int64\n",
              "length_of_stay             int64\n",
              "flight_hour                int64\n",
              "flight_day                object\n",
              "route                     object\n",
              "booking_origin            object\n",
              "wants_extra_baggage        int64\n",
              "wants_preferred_seat       int64\n",
              "wants_in_flight_meals      int64\n",
              "flight_duration          float64\n",
              "booking_complete           int64\n",
              "dtype: object"
            ]
          },
          "metadata": {},
          "execution_count": 10
        }
      ],
      "source": [
        "PasajerosAerolineas.dtypes"
      ]
    },
    {
      "cell_type": "markdown",
      "id": "7d2b52bc",
      "metadata": {
        "id": "7d2b52bc"
      },
      "source": [
        "* Modificamos el nombre de las columnas para que sea mas comodo trabajar"
      ]
    },
    {
      "cell_type": "code",
      "execution_count": 11,
      "id": "7d12fc9c",
      "metadata": {
        "id": "7d12fc9c"
      },
      "outputs": [],
      "source": [
        "PasajerosAerolineas = PasajerosAerolineas.rename(columns=\n",
        "                           {'num_passengers':'NumeroDePasajeros',\n",
        "                            'sales_channel' : 'CanalDeVenta',\n",
        "                            'trip_type'     : 'TipoDeViaje',\n",
        "                            'purchase_lead' : 'ClientePotencial',\n",
        "                            'length_of_stay': 'Estadia',\n",
        "                            'flight_hour'   : 'HorarioDelVuelo',\n",
        "                            'flight_day'    : 'DiaDelVuelo',\n",
        "                            'route'         : 'Ruta',\n",
        "                            'booking_origin': 'OrigenReserva',\n",
        "                            'wants_extra_baggage' : 'EquipajeExtra',\n",
        "                            'wants_preferred_seat': 'AsientosPreferido',\n",
        "                            'wants_in_flight_meals': 'QuiereComidaEnVuelo',\n",
        "                            'flight_duration'      : 'DuracionDelVuelo',\n",
        "                            'booking_complete'     : 'ReservaCompleta'\n",
        "                            })"
      ]
    },
    {
      "cell_type": "markdown",
      "id": "33aed91a",
      "metadata": {
        "id": "33aed91a"
      },
      "source": [
        "* Vemos como quedaron las columnas con el nuevo nombre asignado"
      ]
    },
    {
      "cell_type": "code",
      "execution_count": 12,
      "id": "23cf3c62",
      "metadata": {
        "colab": {
          "base_uri": "https://localhost:8080/"
        },
        "id": "23cf3c62",
        "outputId": "86d99660-ce51-4a42-d22d-c9183e5028e3"
      },
      "outputs": [
        {
          "output_type": "execute_result",
          "data": {
            "text/plain": [
              "Index(['NumeroDePasajeros', 'CanalDeVenta', 'TipoDeViaje', 'ClientePotencial',\n",
              "       'Estadia', 'HorarioDelVuelo', 'DiaDelVuelo', 'Ruta', 'OrigenReserva',\n",
              "       'EquipajeExtra', 'AsientosPreferido', 'QuiereComidaEnVuelo',\n",
              "       'DuracionDelVuelo', 'ReservaCompleta'],\n",
              "      dtype='object')"
            ]
          },
          "metadata": {},
          "execution_count": 12
        }
      ],
      "source": [
        "PasajerosAerolineas.columns"
      ]
    },
    {
      "cell_type": "markdown",
      "id": "3f02dcad",
      "metadata": {
        "id": "3f02dcad"
      },
      "source": [
        "* Chequeamos si el Dataframe tiene valores faltantes y vemos las filas que los tienen."
      ]
    },
    {
      "cell_type": "code",
      "execution_count": 13,
      "id": "ee26fe2c",
      "metadata": {
        "colab": {
          "base_uri": "https://localhost:8080/"
        },
        "id": "ee26fe2c",
        "outputId": "e097f351-fccc-4db1-f2ab-e9d9eecb5856"
      },
      "outputs": [
        {
          "output_type": "execute_result",
          "data": {
            "text/plain": [
              "NumeroDePasajeros      0\n",
              "CanalDeVenta           0\n",
              "TipoDeViaje            0\n",
              "ClientePotencial       0\n",
              "Estadia                0\n",
              "HorarioDelVuelo        0\n",
              "DiaDelVuelo            0\n",
              "Ruta                   0\n",
              "OrigenReserva          0\n",
              "EquipajeExtra          0\n",
              "AsientosPreferido      0\n",
              "QuiereComidaEnVuelo    0\n",
              "DuracionDelVuelo       0\n",
              "ReservaCompleta        0\n",
              "dtype: int64"
            ]
          },
          "metadata": {},
          "execution_count": 13
        }
      ],
      "source": [
        "PasajerosAerolineas.isna().sum()"
      ]
    },
    {
      "cell_type": "markdown",
      "id": "9d0404b3",
      "metadata": {
        "id": "9d0404b3"
      },
      "source": [
        "* No hay valores faltanes"
      ]
    },
    {
      "cell_type": "markdown",
      "id": "8a340524",
      "metadata": {
        "id": "8a340524"
      },
      "source": [
        "* Descripcion estadistica del Dataframe PasajerosAerolinas, por columna"
      ]
    },
    {
      "cell_type": "code",
      "execution_count": 14,
      "id": "c5ce9797",
      "metadata": {
        "colab": {
          "base_uri": "https://localhost:8080/",
          "height": 320
        },
        "id": "c5ce9797",
        "outputId": "3b1b8822-2a8d-4e39-abf4-0ac6f8512a97"
      },
      "outputs": [
        {
          "output_type": "execute_result",
          "data": {
            "text/plain": [
              "       NumeroDePasajeros  ClientePotencial       Estadia  HorarioDelVuelo  \\\n",
              "count       50002.000000      50002.000000  50002.000000     50002.000000   \n",
              "mean            1.591256         84.940582     23.044778         9.066277   \n",
              "std             1.020167         90.450548     33.887171         5.412569   \n",
              "min             1.000000          0.000000      0.000000         0.000000   \n",
              "25%             1.000000         21.000000      5.000000         5.000000   \n",
              "50%             1.000000         51.000000     17.000000         9.000000   \n",
              "75%             2.000000        115.000000     28.000000        13.000000   \n",
              "max             9.000000        867.000000    778.000000        23.000000   \n",
              "\n",
              "       EquipajeExtra  AsientosPreferido  QuiereComidaEnVuelo  \\\n",
              "count   50002.000000       50002.000000         50002.000000   \n",
              "mean        0.668773           0.296968             0.427143   \n",
              "std         0.470659           0.456927             0.494668   \n",
              "min         0.000000           0.000000             0.000000   \n",
              "25%         0.000000           0.000000             0.000000   \n",
              "50%         1.000000           0.000000             0.000000   \n",
              "75%         1.000000           1.000000             1.000000   \n",
              "max         1.000000           1.000000             1.000000   \n",
              "\n",
              "       DuracionDelVuelo  ReservaCompleta  \n",
              "count      50002.000000     50002.000000  \n",
              "mean           7.277524         0.149574  \n",
              "std            1.496854         0.356657  \n",
              "min            4.670000         0.000000  \n",
              "25%            5.620000         0.000000  \n",
              "50%            7.570000         0.000000  \n",
              "75%            8.830000         0.000000  \n",
              "max            9.500000         1.000000  "
            ],
            "text/html": [
              "\n",
              "  <div id=\"df-436f5cb6-8769-49a7-9aa8-592ee5461807\" class=\"colab-df-container\">\n",
              "    <div>\n",
              "<style scoped>\n",
              "    .dataframe tbody tr th:only-of-type {\n",
              "        vertical-align: middle;\n",
              "    }\n",
              "\n",
              "    .dataframe tbody tr th {\n",
              "        vertical-align: top;\n",
              "    }\n",
              "\n",
              "    .dataframe thead th {\n",
              "        text-align: right;\n",
              "    }\n",
              "</style>\n",
              "<table border=\"1\" class=\"dataframe\">\n",
              "  <thead>\n",
              "    <tr style=\"text-align: right;\">\n",
              "      <th></th>\n",
              "      <th>NumeroDePasajeros</th>\n",
              "      <th>ClientePotencial</th>\n",
              "      <th>Estadia</th>\n",
              "      <th>HorarioDelVuelo</th>\n",
              "      <th>EquipajeExtra</th>\n",
              "      <th>AsientosPreferido</th>\n",
              "      <th>QuiereComidaEnVuelo</th>\n",
              "      <th>DuracionDelVuelo</th>\n",
              "      <th>ReservaCompleta</th>\n",
              "    </tr>\n",
              "  </thead>\n",
              "  <tbody>\n",
              "    <tr>\n",
              "      <th>count</th>\n",
              "      <td>50002.000000</td>\n",
              "      <td>50002.000000</td>\n",
              "      <td>50002.000000</td>\n",
              "      <td>50002.000000</td>\n",
              "      <td>50002.000000</td>\n",
              "      <td>50002.000000</td>\n",
              "      <td>50002.000000</td>\n",
              "      <td>50002.000000</td>\n",
              "      <td>50002.000000</td>\n",
              "    </tr>\n",
              "    <tr>\n",
              "      <th>mean</th>\n",
              "      <td>1.591256</td>\n",
              "      <td>84.940582</td>\n",
              "      <td>23.044778</td>\n",
              "      <td>9.066277</td>\n",
              "      <td>0.668773</td>\n",
              "      <td>0.296968</td>\n",
              "      <td>0.427143</td>\n",
              "      <td>7.277524</td>\n",
              "      <td>0.149574</td>\n",
              "    </tr>\n",
              "    <tr>\n",
              "      <th>std</th>\n",
              "      <td>1.020167</td>\n",
              "      <td>90.450548</td>\n",
              "      <td>33.887171</td>\n",
              "      <td>5.412569</td>\n",
              "      <td>0.470659</td>\n",
              "      <td>0.456927</td>\n",
              "      <td>0.494668</td>\n",
              "      <td>1.496854</td>\n",
              "      <td>0.356657</td>\n",
              "    </tr>\n",
              "    <tr>\n",
              "      <th>min</th>\n",
              "      <td>1.000000</td>\n",
              "      <td>0.000000</td>\n",
              "      <td>0.000000</td>\n",
              "      <td>0.000000</td>\n",
              "      <td>0.000000</td>\n",
              "      <td>0.000000</td>\n",
              "      <td>0.000000</td>\n",
              "      <td>4.670000</td>\n",
              "      <td>0.000000</td>\n",
              "    </tr>\n",
              "    <tr>\n",
              "      <th>25%</th>\n",
              "      <td>1.000000</td>\n",
              "      <td>21.000000</td>\n",
              "      <td>5.000000</td>\n",
              "      <td>5.000000</td>\n",
              "      <td>0.000000</td>\n",
              "      <td>0.000000</td>\n",
              "      <td>0.000000</td>\n",
              "      <td>5.620000</td>\n",
              "      <td>0.000000</td>\n",
              "    </tr>\n",
              "    <tr>\n",
              "      <th>50%</th>\n",
              "      <td>1.000000</td>\n",
              "      <td>51.000000</td>\n",
              "      <td>17.000000</td>\n",
              "      <td>9.000000</td>\n",
              "      <td>1.000000</td>\n",
              "      <td>0.000000</td>\n",
              "      <td>0.000000</td>\n",
              "      <td>7.570000</td>\n",
              "      <td>0.000000</td>\n",
              "    </tr>\n",
              "    <tr>\n",
              "      <th>75%</th>\n",
              "      <td>2.000000</td>\n",
              "      <td>115.000000</td>\n",
              "      <td>28.000000</td>\n",
              "      <td>13.000000</td>\n",
              "      <td>1.000000</td>\n",
              "      <td>1.000000</td>\n",
              "      <td>1.000000</td>\n",
              "      <td>8.830000</td>\n",
              "      <td>0.000000</td>\n",
              "    </tr>\n",
              "    <tr>\n",
              "      <th>max</th>\n",
              "      <td>9.000000</td>\n",
              "      <td>867.000000</td>\n",
              "      <td>778.000000</td>\n",
              "      <td>23.000000</td>\n",
              "      <td>1.000000</td>\n",
              "      <td>1.000000</td>\n",
              "      <td>1.000000</td>\n",
              "      <td>9.500000</td>\n",
              "      <td>1.000000</td>\n",
              "    </tr>\n",
              "  </tbody>\n",
              "</table>\n",
              "</div>\n",
              "    <div class=\"colab-df-buttons\">\n",
              "\n",
              "  <div class=\"colab-df-container\">\n",
              "    <button class=\"colab-df-convert\" onclick=\"convertToInteractive('df-436f5cb6-8769-49a7-9aa8-592ee5461807')\"\n",
              "            title=\"Convert this dataframe to an interactive table.\"\n",
              "            style=\"display:none;\">\n",
              "\n",
              "  <svg xmlns=\"http://www.w3.org/2000/svg\" height=\"24px\" viewBox=\"0 -960 960 960\">\n",
              "    <path d=\"M120-120v-720h720v720H120Zm60-500h600v-160H180v160Zm220 220h160v-160H400v160Zm0 220h160v-160H400v160ZM180-400h160v-160H180v160Zm440 0h160v-160H620v160ZM180-180h160v-160H180v160Zm440 0h160v-160H620v160Z\"/>\n",
              "  </svg>\n",
              "    </button>\n",
              "\n",
              "  <style>\n",
              "    .colab-df-container {\n",
              "      display:flex;\n",
              "      gap: 12px;\n",
              "    }\n",
              "\n",
              "    .colab-df-convert {\n",
              "      background-color: #E8F0FE;\n",
              "      border: none;\n",
              "      border-radius: 50%;\n",
              "      cursor: pointer;\n",
              "      display: none;\n",
              "      fill: #1967D2;\n",
              "      height: 32px;\n",
              "      padding: 0 0 0 0;\n",
              "      width: 32px;\n",
              "    }\n",
              "\n",
              "    .colab-df-convert:hover {\n",
              "      background-color: #E2EBFA;\n",
              "      box-shadow: 0px 1px 2px rgba(60, 64, 67, 0.3), 0px 1px 3px 1px rgba(60, 64, 67, 0.15);\n",
              "      fill: #174EA6;\n",
              "    }\n",
              "\n",
              "    .colab-df-buttons div {\n",
              "      margin-bottom: 4px;\n",
              "    }\n",
              "\n",
              "    [theme=dark] .colab-df-convert {\n",
              "      background-color: #3B4455;\n",
              "      fill: #D2E3FC;\n",
              "    }\n",
              "\n",
              "    [theme=dark] .colab-df-convert:hover {\n",
              "      background-color: #434B5C;\n",
              "      box-shadow: 0px 1px 3px 1px rgba(0, 0, 0, 0.15);\n",
              "      filter: drop-shadow(0px 1px 2px rgba(0, 0, 0, 0.3));\n",
              "      fill: #FFFFFF;\n",
              "    }\n",
              "  </style>\n",
              "\n",
              "    <script>\n",
              "      const buttonEl =\n",
              "        document.querySelector('#df-436f5cb6-8769-49a7-9aa8-592ee5461807 button.colab-df-convert');\n",
              "      buttonEl.style.display =\n",
              "        google.colab.kernel.accessAllowed ? 'block' : 'none';\n",
              "\n",
              "      async function convertToInteractive(key) {\n",
              "        const element = document.querySelector('#df-436f5cb6-8769-49a7-9aa8-592ee5461807');\n",
              "        const dataTable =\n",
              "          await google.colab.kernel.invokeFunction('convertToInteractive',\n",
              "                                                    [key], {});\n",
              "        if (!dataTable) return;\n",
              "\n",
              "        const docLinkHtml = 'Like what you see? Visit the ' +\n",
              "          '<a target=\"_blank\" href=https://colab.research.google.com/notebooks/data_table.ipynb>data table notebook</a>'\n",
              "          + ' to learn more about interactive tables.';\n",
              "        element.innerHTML = '';\n",
              "        dataTable['output_type'] = 'display_data';\n",
              "        await google.colab.output.renderOutput(dataTable, element);\n",
              "        const docLink = document.createElement('div');\n",
              "        docLink.innerHTML = docLinkHtml;\n",
              "        element.appendChild(docLink);\n",
              "      }\n",
              "    </script>\n",
              "  </div>\n",
              "\n",
              "\n",
              "<div id=\"df-ac57a5ed-d8d6-48b7-9ca7-b64160be76db\">\n",
              "  <button class=\"colab-df-quickchart\" onclick=\"quickchart('df-ac57a5ed-d8d6-48b7-9ca7-b64160be76db')\"\n",
              "            title=\"Suggest charts.\"\n",
              "            style=\"display:none;\">\n",
              "\n",
              "<svg xmlns=\"http://www.w3.org/2000/svg\" height=\"24px\"viewBox=\"0 0 24 24\"\n",
              "     width=\"24px\">\n",
              "    <g>\n",
              "        <path d=\"M19 3H5c-1.1 0-2 .9-2 2v14c0 1.1.9 2 2 2h14c1.1 0 2-.9 2-2V5c0-1.1-.9-2-2-2zM9 17H7v-7h2v7zm4 0h-2V7h2v10zm4 0h-2v-4h2v4z\"/>\n",
              "    </g>\n",
              "</svg>\n",
              "  </button>\n",
              "\n",
              "<style>\n",
              "  .colab-df-quickchart {\n",
              "      --bg-color: #E8F0FE;\n",
              "      --fill-color: #1967D2;\n",
              "      --hover-bg-color: #E2EBFA;\n",
              "      --hover-fill-color: #174EA6;\n",
              "      --disabled-fill-color: #AAA;\n",
              "      --disabled-bg-color: #DDD;\n",
              "  }\n",
              "\n",
              "  [theme=dark] .colab-df-quickchart {\n",
              "      --bg-color: #3B4455;\n",
              "      --fill-color: #D2E3FC;\n",
              "      --hover-bg-color: #434B5C;\n",
              "      --hover-fill-color: #FFFFFF;\n",
              "      --disabled-bg-color: #3B4455;\n",
              "      --disabled-fill-color: #666;\n",
              "  }\n",
              "\n",
              "  .colab-df-quickchart {\n",
              "    background-color: var(--bg-color);\n",
              "    border: none;\n",
              "    border-radius: 50%;\n",
              "    cursor: pointer;\n",
              "    display: none;\n",
              "    fill: var(--fill-color);\n",
              "    height: 32px;\n",
              "    padding: 0;\n",
              "    width: 32px;\n",
              "  }\n",
              "\n",
              "  .colab-df-quickchart:hover {\n",
              "    background-color: var(--hover-bg-color);\n",
              "    box-shadow: 0 1px 2px rgba(60, 64, 67, 0.3), 0 1px 3px 1px rgba(60, 64, 67, 0.15);\n",
              "    fill: var(--button-hover-fill-color);\n",
              "  }\n",
              "\n",
              "  .colab-df-quickchart-complete:disabled,\n",
              "  .colab-df-quickchart-complete:disabled:hover {\n",
              "    background-color: var(--disabled-bg-color);\n",
              "    fill: var(--disabled-fill-color);\n",
              "    box-shadow: none;\n",
              "  }\n",
              "\n",
              "  .colab-df-spinner {\n",
              "    border: 2px solid var(--fill-color);\n",
              "    border-color: transparent;\n",
              "    border-bottom-color: var(--fill-color);\n",
              "    animation:\n",
              "      spin 1s steps(1) infinite;\n",
              "  }\n",
              "\n",
              "  @keyframes spin {\n",
              "    0% {\n",
              "      border-color: transparent;\n",
              "      border-bottom-color: var(--fill-color);\n",
              "      border-left-color: var(--fill-color);\n",
              "    }\n",
              "    20% {\n",
              "      border-color: transparent;\n",
              "      border-left-color: var(--fill-color);\n",
              "      border-top-color: var(--fill-color);\n",
              "    }\n",
              "    30% {\n",
              "      border-color: transparent;\n",
              "      border-left-color: var(--fill-color);\n",
              "      border-top-color: var(--fill-color);\n",
              "      border-right-color: var(--fill-color);\n",
              "    }\n",
              "    40% {\n",
              "      border-color: transparent;\n",
              "      border-right-color: var(--fill-color);\n",
              "      border-top-color: var(--fill-color);\n",
              "    }\n",
              "    60% {\n",
              "      border-color: transparent;\n",
              "      border-right-color: var(--fill-color);\n",
              "    }\n",
              "    80% {\n",
              "      border-color: transparent;\n",
              "      border-right-color: var(--fill-color);\n",
              "      border-bottom-color: var(--fill-color);\n",
              "    }\n",
              "    90% {\n",
              "      border-color: transparent;\n",
              "      border-bottom-color: var(--fill-color);\n",
              "    }\n",
              "  }\n",
              "</style>\n",
              "\n",
              "  <script>\n",
              "    async function quickchart(key) {\n",
              "      const quickchartButtonEl =\n",
              "        document.querySelector('#' + key + ' button');\n",
              "      quickchartButtonEl.disabled = true;  // To prevent multiple clicks.\n",
              "      quickchartButtonEl.classList.add('colab-df-spinner');\n",
              "      try {\n",
              "        const charts = await google.colab.kernel.invokeFunction(\n",
              "            'suggestCharts', [key], {});\n",
              "      } catch (error) {\n",
              "        console.error('Error during call to suggestCharts:', error);\n",
              "      }\n",
              "      quickchartButtonEl.classList.remove('colab-df-spinner');\n",
              "      quickchartButtonEl.classList.add('colab-df-quickchart-complete');\n",
              "    }\n",
              "    (() => {\n",
              "      let quickchartButtonEl =\n",
              "        document.querySelector('#df-ac57a5ed-d8d6-48b7-9ca7-b64160be76db button');\n",
              "      quickchartButtonEl.style.display =\n",
              "        google.colab.kernel.accessAllowed ? 'block' : 'none';\n",
              "    })();\n",
              "  </script>\n",
              "</div>\n",
              "    </div>\n",
              "  </div>\n"
            ]
          },
          "metadata": {},
          "execution_count": 14
        }
      ],
      "source": [
        "PasajerosAerolineas.describe()"
      ]
    },
    {
      "cell_type": "markdown",
      "id": "f11aed21",
      "metadata": {
        "id": "f11aed21"
      },
      "source": [
        "* Exploramos los datos del Dataframe PasajerosAerolineas\n",
        "* Veamos los valores existentes dentro de las columnas"
      ]
    },
    {
      "cell_type": "code",
      "execution_count": 15,
      "id": "439d97b6",
      "metadata": {
        "colab": {
          "base_uri": "https://localhost:8080/"
        },
        "id": "439d97b6",
        "outputId": "0668ceb8-f5c3-4270-debf-bc9cf174431a"
      },
      "outputs": [
        {
          "output_type": "execute_result",
          "data": {
            "text/plain": [
              "Index(['NumeroDePasajeros', 'CanalDeVenta', 'TipoDeViaje', 'ClientePotencial',\n",
              "       'Estadia', 'HorarioDelVuelo', 'DiaDelVuelo', 'Ruta', 'OrigenReserva',\n",
              "       'EquipajeExtra', 'AsientosPreferido', 'QuiereComidaEnVuelo',\n",
              "       'DuracionDelVuelo', 'ReservaCompleta'],\n",
              "      dtype='object')"
            ]
          },
          "metadata": {},
          "execution_count": 15
        }
      ],
      "source": [
        "PasajerosAerolineas.columns"
      ]
    },
    {
      "cell_type": "code",
      "execution_count": 16,
      "id": "8efd0a6a",
      "metadata": {
        "colab": {
          "base_uri": "https://localhost:8080/"
        },
        "id": "8efd0a6a",
        "outputId": "07f0da72-8bd3-4e9a-a42a-38de5f755ddd"
      },
      "outputs": [
        {
          "output_type": "execute_result",
          "data": {
            "text/plain": [
              "1    31353\n",
              "2    12804\n",
              "3     2942\n",
              "4     1784\n",
              "5      561\n",
              "6      289\n",
              "7      114\n",
              "8       89\n",
              "9       66\n",
              "Name: NumeroDePasajeros, dtype: int64"
            ]
          },
          "metadata": {},
          "execution_count": 16
        }
      ],
      "source": [
        "PasajerosAerolineas[\"NumeroDePasajeros\"].value_counts()"
      ]
    },
    {
      "cell_type": "markdown",
      "id": "79ff9bc1",
      "metadata": {
        "id": "79ff9bc1"
      },
      "source": [
        "* Observamos que la mayoria de los vuelos son de 1 solo pasajero"
      ]
    },
    {
      "cell_type": "code",
      "execution_count": null,
      "id": "823a9dae",
      "metadata": {
        "id": "823a9dae",
        "outputId": "dbeeeec0-6a94-46dc-d74a-7e035f9d87ff"
      },
      "outputs": [
        {
          "data": {
            "text/plain": [
              "Internet    44383\n",
              "Mobile       5619\n",
              "Name: CanalDeVenta, dtype: int64"
            ]
          },
          "execution_count": 14,
          "metadata": {},
          "output_type": "execute_result"
        }
      ],
      "source": [
        "PasajerosAerolineas[\"CanalDeVenta\"].value_counts()"
      ]
    },
    {
      "cell_type": "markdown",
      "id": "45f96cd2",
      "metadata": {
        "id": "45f96cd2"
      },
      "source": [
        "* Visualizamos que el canal de preferencia es \"Internet\""
      ]
    },
    {
      "cell_type": "code",
      "execution_count": 17,
      "id": "26202a79",
      "metadata": {
        "colab": {
          "base_uri": "https://localhost:8080/"
        },
        "id": "26202a79",
        "outputId": "48ab406e-2307-430a-9f80-d4c1b01ecd04"
      },
      "outputs": [
        {
          "output_type": "execute_result",
          "data": {
            "text/plain": [
              "RoundTrip     49498\n",
              "OneWay          387\n",
              "CircleTrip      117\n",
              "Name: TipoDeViaje, dtype: int64"
            ]
          },
          "metadata": {},
          "execution_count": 17
        }
      ],
      "source": [
        "PasajerosAerolineas[\"TipoDeViaje\"].value_counts()"
      ]
    },
    {
      "cell_type": "markdown",
      "id": "2b0855c7",
      "metadata": {
        "id": "2b0855c7"
      },
      "source": [
        "* La preferencia de los clientes es reservar pasajes de \"Ida y Vuelta\" / \"RoundTrip\""
      ]
    },
    {
      "cell_type": "code",
      "execution_count": 18,
      "id": "0d65b6b6",
      "metadata": {
        "colab": {
          "base_uri": "https://localhost:8080/"
        },
        "id": "0d65b6b6",
        "outputId": "d3c37f2f-8f48-495c-caf4-50b2fd212330"
      },
      "outputs": [
        {
          "output_type": "execute_result",
          "data": {
            "text/plain": [
              "6      7757\n",
              "5      7286\n",
              "4      5655\n",
              "3      2839\n",
              "17     1849\n",
              "       ... \n",
              "379       1\n",
              "226       1\n",
              "415       1\n",
              "778       1\n",
              "12        1\n",
              "Name: Estadia, Length: 336, dtype: int64"
            ]
          },
          "metadata": {},
          "execution_count": 18
        }
      ],
      "source": [
        "PasajerosAerolineas[\"Estadia\"].value_counts()"
      ]
    },
    {
      "cell_type": "markdown",
      "id": "3a462dd2",
      "metadata": {
        "id": "3a462dd2"
      },
      "source": [
        "* La estadia mas frecuente es de 6 dias de duracion"
      ]
    },
    {
      "cell_type": "code",
      "execution_count": 19,
      "id": "da35a90c",
      "metadata": {
        "colab": {
          "base_uri": "https://localhost:8080/"
        },
        "id": "da35a90c",
        "outputId": "3d7f3e17-7de5-46bd-9da8-b2fa189d68e0"
      },
      "outputs": [
        {
          "output_type": "execute_result",
          "data": {
            "text/plain": [
              "8     3165\n",
              "12    3163\n",
              "9     3133\n",
              "7     3126\n",
              "11    3110\n",
              "13    3101\n",
              "10    3085\n",
              "6     3051\n",
              "5     2851\n",
              "4     2843\n",
              "14    2833\n",
              "3     2655\n",
              "2     2642\n",
              "15    2234\n",
              "1     2089\n",
              "16    1557\n",
              "0     1539\n",
              "23     986\n",
              "17     861\n",
              "22     579\n",
              "18     439\n",
              "21     389\n",
              "19     295\n",
              "20     276\n",
              "Name: HorarioDelVuelo, dtype: int64"
            ]
          },
          "metadata": {},
          "execution_count": 19
        }
      ],
      "source": [
        "PasajerosAerolineas[\"HorarioDelVuelo\"].value_counts()"
      ]
    },
    {
      "cell_type": "markdown",
      "id": "f4f5b3cb",
      "metadata": {
        "id": "f4f5b3cb"
      },
      "source": [
        "* Los horarios de vuelo mas elegido son 8 AM, 12 AM y 9 AM"
      ]
    },
    {
      "cell_type": "code",
      "execution_count": 20,
      "id": "1ca8b342",
      "metadata": {
        "colab": {
          "base_uri": "https://localhost:8080/"
        },
        "id": "1ca8b342",
        "outputId": "a8a76cad-fd88-45d2-d83a-eb08909e660b"
      },
      "outputs": [
        {
          "output_type": "execute_result",
          "data": {
            "text/plain": [
              "Mon    8102\n",
              "Wed    7675\n",
              "Tue    7674\n",
              "Thu    7424\n",
              "Fri    6761\n",
              "Sun    6554\n",
              "Sat    5812\n",
              "Name: DiaDelVuelo, dtype: int64"
            ]
          },
          "metadata": {},
          "execution_count": 20
        }
      ],
      "source": [
        "PasajerosAerolineas[\"DiaDelVuelo\"].value_counts()"
      ]
    },
    {
      "cell_type": "markdown",
      "id": "9bf20f1e",
      "metadata": {
        "id": "9bf20f1e"
      },
      "source": [
        "* El dia mas elegido para volar es el dia lunes"
      ]
    },
    {
      "cell_type": "code",
      "execution_count": 21,
      "id": "eb966c2c",
      "metadata": {
        "colab": {
          "base_uri": "https://localhost:8080/"
        },
        "id": "eb966c2c",
        "outputId": "edc41d3b-80a3-42d8-bab7-81c443e6fffd"
      },
      "outputs": [
        {
          "output_type": "execute_result",
          "data": {
            "text/plain": [
              "AKLKUL    2680\n",
              "PENTPE     924\n",
              "MELSGN     842\n",
              "ICNSIN     801\n",
              "DMKKIX     744\n",
              "          ... \n",
              "DELKBR       1\n",
              "LBUTPE       1\n",
              "KOSSYD       1\n",
              "OOLWUH       1\n",
              "MRUXIY       1\n",
              "Name: Ruta, Length: 799, dtype: int64"
            ]
          },
          "metadata": {},
          "execution_count": 21
        }
      ],
      "source": [
        "PasajerosAerolineas[\"Ruta\"].value_counts()"
      ]
    },
    {
      "cell_type": "code",
      "execution_count": 22,
      "id": "ccb0e56d",
      "metadata": {
        "colab": {
          "base_uri": "https://localhost:8080/"
        },
        "id": "ccb0e56d",
        "outputId": "6ad47b8f-4c48-4586-d62f-f78b316ec915"
      },
      "outputs": [
        {
          "output_type": "execute_result",
          "data": {
            "text/plain": [
              "array(['AKLHGH', 'AKLDEL', 'AKLHND', 'AKLICN', 'AKLKIX', 'AKLKTM',\n",
              "       'AKLKUL', 'AKLMRU', 'AKLPEK', 'AKLPVG', 'AKLTPE', 'AORICN',\n",
              "       'AORKIX', 'AORKTM', 'AORMEL', 'BBIMEL', 'BBIOOL', 'BBIPER',\n",
              "       'BBISYD', 'BDOCTS', 'BDOCTU', 'BDOHGH', 'BDOICN', 'BDOIKA',\n",
              "       'BDOKIX', 'BDOMEL', 'BDOOOL', 'BDOPEK', 'BDOPER', 'BDOPUS',\n",
              "       'BDOPVG', 'BDOSYD', 'BDOTPE', 'BDOXIY', 'BKICKG', 'BKICTS',\n",
              "       'BKICTU', 'BKIHND', 'BKIICN', 'BKIKIX', 'BKIKTM', 'BKIMEL',\n",
              "       'BKIMRU', 'BKIOOL', 'BKIPEK', 'BKIPER', 'BKIPUS', 'BKIPVG',\n",
              "       'BKISYD', 'BKIXIY', 'BLRICN', 'BLRMEL', 'BLRPER', 'BLRSYD',\n",
              "       'BOMMEL', 'BOMOOL', 'BOMPER', 'BOMSYD', 'BTJJED', 'BTUICN',\n",
              "       'BTUPER', 'BTUSYD', 'BTUWUH', 'BWNCKG', 'BWNDEL', 'BWNHGH',\n",
              "       'BWNIKA', 'BWNKTM', 'BWNMEL', 'BWNOOL', 'BWNPER', 'BWNSYD',\n",
              "       'BWNTPE', 'CANDEL', 'CANIKA', 'CANMEL', 'CANMRU', 'CANOOL',\n",
              "       'CANPER', 'CANSYD', 'CCUMEL', 'CCUMRU', 'CCUOOL', 'CCUPER',\n",
              "       'CCUSYD', 'CCUTPE', 'CEBMEL', 'CEBOOL', 'CEBPER', 'CEBSYD',\n",
              "       'CGKCKG', 'CGKCTS', 'CGKCTU', 'CGKDEL', 'CGKHGH', 'CGKHND',\n",
              "       'CGKICN', 'CGKIKA', 'CGKJED', 'CGKKIX', 'CGKKTM', 'CGKMEL',\n",
              "       'CGKMRU', 'CGKOOL', 'CGKPEK', 'CGKPER', 'CGKPUS', 'CGKPVG',\n",
              "       'CGKSYD', 'CGKTPE', 'CGKWUH', 'CGKXIY', 'CKGCOK', 'CKGDPS',\n",
              "       'CKGJHB', 'CKGKCH', 'CKGLOP', 'CKGMAA', 'CKGMEL', 'CKGMYY',\n",
              "       'CKGOOL', 'CKGPEN', 'CKGPER', 'CKGPNH', 'CKGSBW', 'CKGSIN',\n",
              "       'CKGSUB', 'CKGSYD', 'CKGTGG', 'CKGTRZ', 'CKGTWU', 'CMBCTS',\n",
              "       'CMBCTU', 'CMBHGH', 'CMBHND', 'CMBICN', 'CMBKIX', 'CMBMEL',\n",
              "       'CMBMRU', 'CMBOOL', 'CMBPEK', 'CMBPER', 'CMBPVG', 'CMBSYD',\n",
              "       'CMBWUH', 'CNXHND', 'CNXICN', 'CNXKIX', 'CNXMEL', 'CNXOOL',\n",
              "       'CNXPEK', 'CNXPER', 'CNXPVG', 'CNXSYD', 'CNXTPE', 'COKCTU',\n",
              "       'COKHGH', 'COKICN', 'COKKIX', 'COKMEL', 'COKOOL', 'COKPER',\n",
              "       'COKPUS', 'COKSYD', 'COKTPE', 'COKWUH', 'CRKMEL', 'CRKOOL',\n",
              "       'CRKSYD', 'CSXPER', 'CTSDMK', 'CTSDPS', 'CTSHKT', 'CTSJHB',\n",
              "       'CTSKBR', 'CTSKCH', 'CTSKNO', 'CTSLGK', 'CTSMEL', 'CTSMYY',\n",
              "       'CTSOOL', 'CTSPEN', 'CTSPER', 'CTSSGN', 'CTSSIN', 'CTSSUB',\n",
              "       'CTSSYD', 'CTUDPS', 'CTUHKT', 'CTUIKA', 'CTUJHB', 'CTUKBV',\n",
              "       'CTUKCH', 'CTUKNO', 'CTUMAA', 'CTUMEL', 'CTUMRU', 'CTUMYY',\n",
              "       'CTUOOL', 'CTUPEN', 'CTUPER', 'CTUSBW', 'CTUSIN', 'CTUSUB',\n",
              "       'CTUSYD', 'CTUTGG', 'CTUTRZ', 'CTUTWU', 'CXRMEL', 'DACHGH',\n",
              "       'DACHND', 'DACICN', 'DACKIX', 'DACMEL', 'DACOOL', 'DACPER',\n",
              "       'DACSYD', 'DACTPE', 'DADMEL', 'DADOOL', 'DADSYD', 'DELDMK',\n",
              "       'DELDPS', 'DELHKG', 'DELHKT', 'DELHND', 'DELJHB', 'DELJOG',\n",
              "       'DELKBV', 'DELKCH', 'DELKIX', 'DELKNO', 'DELLGK', 'DELMEL',\n",
              "       'DELMFM', 'DELMNL', 'DELMRU', 'DELMYY', 'DELOOL', 'DELPEN',\n",
              "       'DELPER', 'DELPNH', 'DELSBW', 'DELSGN', 'DELSIN', 'DELSUB',\n",
              "       'DELSYD', 'DELSZX', 'DMKHGH', 'DMKHND', 'DMKICN', 'DMKIKA',\n",
              "       'DMKKIX', 'DMKKTM', 'DMKMEL', 'DMKMRU', 'DMKOOL', 'DMKPEK',\n",
              "       'DMKPER', 'DMKPUS', 'DMKPVG', 'DMKSYD', 'DMKTPE', 'DPSHGH',\n",
              "       'DPSHND', 'DPSICN', 'DPSIKA', 'DPSKIX', 'DPSKTM', 'DPSMEL',\n",
              "       'DPSMRU', 'DPSOOL', 'DPSPEK', 'DPSPUS', 'DPSPVG', 'DPSSYD',\n",
              "       'DPSTPE', 'DPSXIY', 'GOIKUL', 'GOIMEL', 'GOIOOL', 'GOIPER',\n",
              "       'GOISYD', 'HANKTM', 'HANMEL', 'HANOOL', 'HANPER', 'HANSYD',\n",
              "       'HDYHGH', 'HDYKTM', 'HDYMEL', 'HDYOOL', 'HDYPEK', 'HDYPER',\n",
              "       'HDYPVG', 'HDYSYD', 'HDYTPE', 'HGHHKT', 'HGHJHB', 'HGHJOG',\n",
              "       'HGHKBR', 'HGHKBV', 'HGHKCH', 'HGHKNO', 'HGHLGK', 'HGHLOP',\n",
              "       'HGHMAA', 'HGHMEL', 'HGHMYY', 'HGHOOL', 'HGHPEN', 'HGHPER',\n",
              "       'HGHSBW', 'HGHSUB', 'HGHSYD', 'HGHTRZ', 'HKGIKA', 'HKGKTM',\n",
              "       'HKGMEL', 'HKGMRU', 'HKGOOL', 'HKGPER', 'HKGSYD', 'HKTHND',\n",
              "       'HKTICN', 'HKTKIX', 'HKTKTM', 'HKTMEL', 'HKTMRU', 'HKTOOL',\n",
              "       'HKTPEK', 'HKTPER', 'HKTPUS', 'HKTPVG', 'HKTSYD', 'HKTTPE',\n",
              "       'HKTXIY', 'HNDIKA', 'HNDJOG', 'HNDKBR', 'HNDKBV', 'HNDKCH',\n",
              "       'HNDKNO', 'HNDKTM', 'HNDLGK', 'HNDLOP', 'HNDMAA', 'HNDMEL',\n",
              "       'HNDMLE', 'HNDOOL', 'HNDPEN', 'HNDPER', 'HNDPNH', 'HNDREP',\n",
              "       'HNDRGN', 'HNDSBW', 'HNDSGN', 'HNDSIN', 'HNDSUB', 'HNDSYD',\n",
              "       'HNDTRZ', 'HYDMEL', 'HYDOOL', 'HYDPER', 'HYDSYD', 'HYDWUH',\n",
              "       'ICNIKA', 'ICNJED', 'ICNJHB', 'ICNKBR', 'ICNKBV', 'ICNKCH',\n",
              "       'ICNKNO', 'ICNKTM', 'ICNLGK', 'ICNMAA', 'ICNMEL', 'ICNMLE',\n",
              "       'ICNMYY', 'ICNOOL', 'ICNPEN', 'ICNPER', 'ICNREP', 'ICNRGN',\n",
              "       'ICNSBW', 'ICNSDK', 'ICNSGN', 'ICNSIN', 'ICNSUB', 'ICNSYD',\n",
              "       'ICNTRZ', 'ICNVTZ', 'IKAKCH', 'IKAKIX', 'IKALOP', 'IKAMEL',\n",
              "       'IKAMFM', 'IKAMNL', 'IKAOOL', 'IKAPEK', 'IKAPEN', 'IKAPER',\n",
              "       'IKAPUS', 'IKAPVG', 'IKASGN', 'IKASIN', 'IKASUB', 'IKASYD',\n",
              "       'IKATPE', 'JEDJOG', 'JEDKNO', 'JEDMEL', 'JEDMNL', 'JEDPDG',\n",
              "       'JEDPEN', 'JEDSUB', 'JHBKIX', 'JHBKTM', 'JHBMEL', 'JHBMRU',\n",
              "       'JHBPEK', 'JHBPUS', 'JHBPVG', 'JHBSYD', 'JHBTPE', 'JHBWUH',\n",
              "       'JHBXIY', 'JOGKIX', 'JOGKTM', 'JOGMEL', 'JOGOOL', 'JOGPER',\n",
              "       'JOGPVG', 'JOGSYD', 'JOGTPE', 'KBRKIX', 'KBRKTM', 'KBRMEL',\n",
              "       'KBROOL', 'KBRPEK', 'KBRPER', 'KBRPVG', 'KBRSYD', 'KBRTPE',\n",
              "       'KBVKTM', 'KBVMEL', 'KBVOOL', 'KBVPEK', 'KBVPER', 'KBVPVG',\n",
              "       'KBVSYD', 'KCHKIX', 'KCHKTM', 'KCHMEL', 'KCHMRU', 'KCHOOL',\n",
              "       'KCHPEK', 'KCHPER', 'KCHPUS', 'KCHPVG', 'KCHSYD', 'KCHTPE',\n",
              "       'KCHXIY', 'KHHMEL', 'KHHOOL', 'KHHPER', 'KHHSYD', 'KIXKNO',\n",
              "       'KIXKTM', 'KIXLGK', 'KIXLOP', 'KIXMAA', 'KIXMEL', 'KIXMLE',\n",
              "       'KIXMYY', 'KIXOOL', 'KIXPEN', 'KIXPER', 'KIXPNH', 'KIXREP',\n",
              "       'KIXRGN', 'KIXSBW', 'KIXSGN', 'KIXSIN', 'KIXSUB', 'KIXSYD',\n",
              "       'KIXTGG', 'KIXTRZ', 'KLOMEL', 'KLOOOL', 'KNOKTM', 'KNOMEL',\n",
              "       'KNOOOL', 'KNOPEK', 'KNOPER', 'KNOPUS', 'KNOPVG', 'KNOSYD',\n",
              "       'KNOTPE', 'KNOXIY', 'KOSMEL', 'KOSOOL', 'KOSPEK', 'KOSSYD',\n",
              "       'KTMMEL', 'KTMMFM', 'KTMMYY', 'KTMPEN', 'KTMPER', 'KTMREP',\n",
              "       'KTMSGN', 'KTMSIN', 'KTMSUB', 'KTMSYD', 'KTMTGG', 'KTMTPE',\n",
              "       'KTMURT', 'KWLPER', 'LBUPER', 'LGKMEL', 'LGKOOL', 'LGKPER',\n",
              "       'LGKPUS', 'LGKPVG', 'LGKSYD', 'LGKTPE', 'LOPOOL', 'LOPPEK',\n",
              "       'LOPPVG', 'LOPSYD', 'LOPTPE', 'LOPXIY', 'LPQMEL', 'LPQOOL',\n",
              "       'LPQPER', 'LPQTPE', 'MAAMEL', 'MAAMRU', 'MAAOOL', 'MAAPER',\n",
              "       'MAAPVG', 'MAASYD', 'MAATPE', 'MAAWUH', 'MELMFM', 'MELMLE',\n",
              "       'MELMNL', 'MELMRU', 'MELMYY', 'MELPEK', 'MELPEN', 'MELPNH',\n",
              "       'MELPUS', 'MELPVG', 'MELREP', 'MELRGN', 'MELSBW', 'MELSGN',\n",
              "       'MELSIN', 'MELSUB', 'MELSWA', 'MELSZX', 'MELTGG', 'MELTPE',\n",
              "       'MELTRZ', 'MELTWU', 'MELURT', 'MELUTP', 'MELVTE', 'MELVTZ',\n",
              "       'MELWUH', 'MELXIY', 'MFMOOL', 'MFMPER', 'MFMSYD', 'MLEPEK',\n",
              "       'MLEPER', 'MLESYD', 'MNLMRU', 'MNLOOL', 'MNLPER', 'MNLSYD',\n",
              "       'MRUOOL', 'MRUPEK', 'MRUPEN', 'MRUPER', 'MRUPVG', 'MRUSGN',\n",
              "       'MRUSIN', 'MRUSUB', 'MRUSYD', 'MRUSZX', 'MYYOOL', 'MYYPER',\n",
              "       'MYYPUS', 'MYYSYD', 'MYYXIY', 'NRTSYD', 'OOLPEK', 'OOLPEN',\n",
              "       'OOLPNH', 'OOLPUS', 'OOLPVG', 'OOLREP', 'OOLRGN', 'OOLSBW',\n",
              "       'OOLSDK', 'OOLSGN', 'OOLSIN', 'OOLSUB', 'OOLSZX', 'OOLTGG',\n",
              "       'OOLTPE', 'OOLTRZ', 'OOLTWU', 'OOLURT', 'OOLUTP', 'OOLVTE',\n",
              "       'OOLWUH', 'OOLXIY', 'PEKPEN', 'PEKPER', 'PEKREP', 'PEKRGN',\n",
              "       'PEKSBW', 'PEKSIN', 'PEKSUB', 'PEKSYD', 'PEKTGG', 'PEKTRZ',\n",
              "       'PEKTWU', 'PENPER', 'PENPUS', 'PENPVG', 'PENSYD', 'PENTPE',\n",
              "       'PENWUH', 'PENXIY', 'PERPNH', 'PERPUS', 'PERPVG', 'PERREP',\n",
              "       'PERRGN', 'PERSBW', 'PERSDK', 'PERSGN', 'PERSIN', 'PERSWA',\n",
              "       'PERSZX', 'PERTGG', 'PERTPE', 'PERTRZ', 'PERTWU', 'PERUTP',\n",
              "       'PERVTE', 'PERVTZ', 'PERWUH', 'PERXIY', 'PNHSYD', 'PNHTPE',\n",
              "       'PNKTPE', 'PUSRGN', 'PUSSBW', 'PUSSGN', 'PUSSIN', 'PUSSUB',\n",
              "       'PUSSYD', 'PUSTRZ', 'PVGREP', 'PVGRGN', 'PVGSIN', 'PVGSUB',\n",
              "       'PVGSYD', 'PVGTGG', 'PVGTWU', 'PVGURT', 'REPSYD', 'REPTPE',\n",
              "       'RGNSYD', 'RGNTPE', 'SBWSYD', 'SBWTPE', 'SBWXIY', 'SDKSYD',\n",
              "       'SGNSYD', 'SGNXIY', 'SINSYD', 'SINTPE', 'SINWUH', 'SINXIY',\n",
              "       'SRGTPE', 'SUBSYD', 'SUBTPE', 'SUBXIY', 'SYDSZX', 'SYDTPE',\n",
              "       'SYDTRZ', 'SYDTWU', 'SYDVTE', 'SYDVTZ', 'SYDXIY', 'TGGTPE',\n",
              "       'TGGXIY', 'TPETRZ', 'TPEVTE', 'TRZWUH', 'TRZXIY', 'TWUXIY',\n",
              "       'HGHSGN', 'ICNTGG', 'JHBOOL', 'KBRXIY', 'KBVTPE', 'KIXTWU',\n",
              "       'LBUTPE', 'PVGSGN', 'SBWWUH', 'DELREP', 'DPSWUH', 'HKGJED',\n",
              "       'KBVKIX', 'KBVPUS', 'KIXLPQ', 'LGKPEK', 'LGKXIY', 'LOPPER',\n",
              "       'PEKSGN', 'PERSUB', 'TPETWU', 'BDOWUH', 'BKIDEL', 'CKGSGN',\n",
              "       'CTUKBR', 'CTULGK', 'CTUREP', 'DACMRU', 'DACPEK', 'DELRGN',\n",
              "       'HDYXIY', 'HGHTGG', 'HKTWUH', 'ICNVTE', 'KBRPUS', 'KCHWUH',\n",
              "       'KLOSYD', 'KNOWUH', 'MLETPE', 'SDKTPE', 'SUBWUH', 'TWUWUH',\n",
              "       'AORPUS', 'BTUCKG', 'BWNWUH', 'CKGKNO', 'CKGLGK', 'CNXDEL',\n",
              "       'CNXPUS', 'CTSJOG', 'CTSSBW', 'CTUDMK', 'CTULOP', 'DELKBR',\n",
              "       'DELURT', 'HDYKIX', 'HGHSIN', 'HGHTWU', 'HYDMRU', 'IKASZX',\n",
              "       'KBVWUH', 'KBVXIY', 'KIXLBU', 'LGKWUH', 'MELNRT', 'MLEOOL',\n",
              "       'MRUTPE', 'TPEURT', 'URTXIY', 'AORPER', 'CKGHKT', 'CKGMRU',\n",
              "       'CNXXIY', 'COKCTS', 'CSXMRU', 'CSXSYD', 'CTUMLE', 'CTUSGN',\n",
              "       'CTUSRG', 'CTUURT', 'DACPUS', 'HGHMRU', 'HKTIKA', 'HKTJED',\n",
              "       'ICNMRU', 'JEDMFM', 'KBRWUH', 'KIXMRU', 'KTMTWU', 'MLEPVG',\n",
              "       'MRUXIY'], dtype=object)"
            ]
          },
          "metadata": {},
          "execution_count": 22
        }
      ],
      "source": [
        "PasajerosAerolineas['Ruta'].unique()"
      ]
    },
    {
      "cell_type": "code",
      "execution_count": 23,
      "id": "f8e8b035",
      "metadata": {
        "id": "f8e8b035"
      },
      "outputs": [],
      "source": [
        "#Podriamos tomar la decision de eliminar esta columnna ya que no es relevante para nuestra prediccion!!"
      ]
    },
    {
      "cell_type": "markdown",
      "id": "b715412e",
      "metadata": {
        "id": "b715412e"
      },
      "source": [
        "* Separa los codigos en una nueva columna (iata)(icao)"
      ]
    },
    {
      "cell_type": "code",
      "execution_count": 24,
      "id": "2c1d8ea5",
      "metadata": {
        "colab": {
          "base_uri": "https://localhost:8080/"
        },
        "id": "2c1d8ea5",
        "outputId": "ccb2827e-6100-41ca-e33c-66d8677d4bfb"
      },
      "outputs": [
        {
          "output_type": "execute_result",
          "data": {
            "text/plain": [
              "Australia               17873\n",
              "Malaysia                 7174\n",
              "South Korea              4559\n",
              "Japan                    3885\n",
              "China                    3387\n",
              "                        ...  \n",
              "Tanzania                    1\n",
              "Jordan                      1\n",
              "Lebanon                     1\n",
              "Bulgaria                    1\n",
              "Svalbard & Jan Mayen        1\n",
              "Name: OrigenReserva, Length: 104, dtype: int64"
            ]
          },
          "metadata": {},
          "execution_count": 24
        }
      ],
      "source": [
        "PasajerosAerolineas[\"OrigenReserva\"].value_counts()"
      ]
    },
    {
      "cell_type": "code",
      "execution_count": 25,
      "id": "7ec71fb2",
      "metadata": {
        "colab": {
          "base_uri": "https://localhost:8080/"
        },
        "id": "7ec71fb2",
        "outputId": "e1ae22b8-e0ab-49fe-a9d1-b8bf8e660367"
      },
      "outputs": [
        {
          "output_type": "execute_result",
          "data": {
            "text/plain": [
              "Australia               35.744570\n",
              "Malaysia                14.347426\n",
              "South Korea              9.117635\n",
              "Japan                    7.769689\n",
              "China                    6.773729\n",
              "                          ...    \n",
              "Tanzania                 0.002000\n",
              "Jordan                   0.002000\n",
              "Lebanon                  0.002000\n",
              "Bulgaria                 0.002000\n",
              "Svalbard & Jan Mayen     0.002000\n",
              "Name: OrigenReserva, Length: 104, dtype: float64"
            ]
          },
          "metadata": {},
          "execution_count": 25
        }
      ],
      "source": [
        "PasajerosAerolineas[\"OrigenReserva\"].value_counts()/PasajerosAerolineas.shape[0] * 100"
      ]
    },
    {
      "cell_type": "markdown",
      "id": "3dda83f0",
      "metadata": {
        "id": "3dda83f0"
      },
      "source": [
        "* El 35.74 % de las reservas se realizan desde Asutralia"
      ]
    },
    {
      "cell_type": "code",
      "execution_count": 26,
      "id": "8d1a39fd",
      "metadata": {
        "colab": {
          "base_uri": "https://localhost:8080/"
        },
        "id": "8d1a39fd",
        "outputId": "ab27b661-7a2f-4300-c74e-fa898e4f5812"
      },
      "outputs": [
        {
          "output_type": "execute_result",
          "data": {
            "text/plain": [
              "array(['Australia', 'New Zealand', 'India', 'United Kingdom', 'China',\n",
              "       'South Korea', 'Canada', 'Japan', 'Malaysia', 'Singapore',\n",
              "       'Switzerland', 'Germany', 'Indonesia', 'Czech Republic', 'Vietnam',\n",
              "       'Thailand', 'Spain', 'Romania', 'Ireland', 'Italy', 'Slovakia',\n",
              "       'United Arab Emirates', 'Tonga', 'Réunion', '(not set)',\n",
              "       'Saudi Arabia', 'Netherlands', 'Qatar', 'Hong Kong', 'Philippines',\n",
              "       'Sri Lanka', 'France', 'Croatia', 'United States', 'Laos',\n",
              "       'Hungary', 'Portugal', 'Cyprus', 'Cambodia', 'Poland', 'Belgium',\n",
              "       'Oman', 'Bangladesh', 'Kazakhstan', 'Brazil', 'Turkey', 'Kenya',\n",
              "       'Taiwan', 'Brunei', 'Chile', 'Bulgaria', 'Ukraine', 'Denmark',\n",
              "       'Colombia', 'Iran', 'Bahrain', 'Solomon Islands', 'Slovenia',\n",
              "       'Mauritius', 'Nepal', 'Russia', 'Kuwait', 'Mexico', 'Sweden',\n",
              "       'Austria', 'Lebanon', 'Jordan', 'Greece', 'Mongolia', 'Tanzania',\n",
              "       'Peru', 'Timor-Leste', 'Argentina', 'New Caledonia', 'Macau',\n",
              "       'Myanmar (Burma)', 'Norway', 'Panama', 'Bhutan', 'Norfolk Island',\n",
              "       'Finland', 'Nicaragua', 'Maldives', 'Egypt', 'Israel', 'Tunisia',\n",
              "       'South Africa', 'Papua New Guinea', 'Paraguay', 'Estonia',\n",
              "       'Seychelles', 'Afghanistan', 'Guam', 'Czechia', 'Malta', 'Vanuatu',\n",
              "       'Belarus', 'Pakistan', 'Iraq', 'Ghana', 'Gibraltar', 'Guatemala',\n",
              "       'Algeria', 'Svalbard & Jan Mayen'], dtype=object)"
            ]
          },
          "metadata": {},
          "execution_count": 26
        }
      ],
      "source": [
        "PasajerosAerolineas[\"OrigenReserva\"].unique()"
      ]
    },
    {
      "cell_type": "code",
      "execution_count": 27,
      "id": "804d2eb0",
      "metadata": {
        "colab": {
          "base_uri": "https://localhost:8080/"
        },
        "id": "804d2eb0",
        "outputId": "d314c8e4-e75c-4900-fcd1-42e234ddfe7c"
      },
      "outputs": [
        {
          "output_type": "execute_result",
          "data": {
            "text/plain": [
              "1    33440\n",
              "0    16562\n",
              "Name: EquipajeExtra, dtype: int64"
            ]
          },
          "metadata": {},
          "execution_count": 27
        }
      ],
      "source": [
        "PasajerosAerolineas[\"EquipajeExtra\"].value_counts()"
      ]
    },
    {
      "cell_type": "markdown",
      "id": "0242df23",
      "metadata": {
        "id": "0242df23"
      },
      "source": [
        "* Mas de la mitad de los pasajeron eligen llevar equipaje extra"
      ]
    },
    {
      "cell_type": "code",
      "execution_count": 28,
      "id": "fb200376",
      "metadata": {
        "colab": {
          "base_uri": "https://localhost:8080/"
        },
        "id": "fb200376",
        "outputId": "29c17e77-e2e9-44f8-ebcb-5dac19e81275"
      },
      "outputs": [
        {
          "output_type": "execute_result",
          "data": {
            "text/plain": [
              "0    35153\n",
              "1    14849\n",
              "Name: AsientosPreferido, dtype: int64"
            ]
          },
          "metadata": {},
          "execution_count": 28
        }
      ],
      "source": [
        "PasajerosAerolineas[\"AsientosPreferido\"].value_counts()"
      ]
    },
    {
      "cell_type": "markdown",
      "id": "95787ca7",
      "metadata": {
        "id": "95787ca7"
      },
      "source": [
        "* La eleccion del asiento parece no ser relevante"
      ]
    },
    {
      "cell_type": "code",
      "execution_count": 29,
      "id": "7888d892",
      "metadata": {
        "colab": {
          "base_uri": "https://localhost:8080/"
        },
        "id": "7888d892",
        "outputId": "f1d842b0-32e5-4947-ed87-0e525f534930"
      },
      "outputs": [
        {
          "output_type": "execute_result",
          "data": {
            "text/plain": [
              "0    28644\n",
              "1    21358\n",
              "Name: QuiereComidaEnVuelo, dtype: int64"
            ]
          },
          "metadata": {},
          "execution_count": 29
        }
      ],
      "source": [
        "PasajerosAerolineas[\"QuiereComidaEnVuelo\"].value_counts()"
      ]
    },
    {
      "cell_type": "markdown",
      "id": "0a8c6e44",
      "metadata": {
        "id": "0a8c6e44"
      },
      "source": [
        "* La mayoria de los pasajero prefieron no comer durante el vuelo"
      ]
    },
    {
      "cell_type": "code",
      "execution_count": 30,
      "id": "beaa4820",
      "metadata": {
        "colab": {
          "base_uri": "https://localhost:8080/"
        },
        "id": "beaa4820",
        "outputId": "02deaac9-e852-476c-e9f4-b47ad85ffa32"
      },
      "outputs": [
        {
          "output_type": "execute_result",
          "data": {
            "text/plain": [
              "8.83    14520\n",
              "8.58     6965\n",
              "5.62     5524\n",
              "6.62     4721\n",
              "7.00     3374\n",
              "7.57     2835\n",
              "4.67     2743\n",
              "6.42     1737\n",
              "5.33     1554\n",
              "4.75     1255\n",
              "6.33     1190\n",
              "8.67      807\n",
              "5.52      668\n",
              "5.07      512\n",
              "4.72      502\n",
              "8.15      311\n",
              "5.00      241\n",
              "7.42      224\n",
              "4.83      156\n",
              "5.13      125\n",
              "9.50       37\n",
              "7.21        1\n",
              "Name: DuracionDelVuelo, dtype: int64"
            ]
          },
          "metadata": {},
          "execution_count": 30
        }
      ],
      "source": [
        "PasajerosAerolineas[\"DuracionDelVuelo\"].value_counts()"
      ]
    },
    {
      "cell_type": "markdown",
      "id": "5218c52c",
      "metadata": {
        "id": "5218c52c"
      },
      "source": [
        "* El promedio de duracion de los vuelos es de 8 hs"
      ]
    },
    {
      "cell_type": "code",
      "execution_count": 31,
      "id": "5ff079af",
      "metadata": {
        "colab": {
          "base_uri": "https://localhost:8080/"
        },
        "id": "5ff079af",
        "outputId": "a6100a4a-b956-4b8d-eca2-585a5f199486"
      },
      "outputs": [
        {
          "output_type": "execute_result",
          "data": {
            "text/plain": [
              "0    42523\n",
              "1     7479\n",
              "Name: ReservaCompleta, dtype: int64"
            ]
          },
          "metadata": {},
          "execution_count": 31
        }
      ],
      "source": [
        "PasajerosAerolineas[\"ReservaCompleta\"].value_counts()"
      ]
    },
    {
      "cell_type": "code",
      "execution_count": 32,
      "id": "0d3e5d13",
      "metadata": {
        "colab": {
          "base_uri": "https://localhost:8080/"
        },
        "id": "0d3e5d13",
        "outputId": "626c1ebe-9539-44d4-ab41-e77cd5af4240"
      },
      "outputs": [
        {
          "output_type": "execute_result",
          "data": {
            "text/plain": [
              "CanalDeVenta  TipoDeViaje\n",
              "Internet      CircleTrip     7.834911\n",
              "              OneWay         8.003225\n",
              "              RoundTrip      7.290835\n",
              "Mobile        CircleTrip     5.746000\n",
              "              OneWay         7.219444\n",
              "              RoundTrip      7.115645\n",
              "Name: DuracionDelVuelo, dtype: float64"
            ]
          },
          "metadata": {},
          "execution_count": 32
        }
      ],
      "source": [
        "PasajerosAerolineas.groupby(by=['CanalDeVenta', 'TipoDeViaje'])['DuracionDelVuelo'].mean()"
      ]
    },
    {
      "cell_type": "code",
      "execution_count": 33,
      "id": "c504c355",
      "metadata": {
        "colab": {
          "base_uri": "https://localhost:8080/"
        },
        "id": "c504c355",
        "outputId": "66970b06-5cd1-45ab-a564-790ad2eb262d"
      },
      "outputs": [
        {
          "output_type": "execute_result",
          "data": {
            "text/plain": [
              "CanalDeVenta  TipoDeViaje\n",
              "Internet      CircleTrip       112\n",
              "              OneWay           369\n",
              "              RoundTrip      43902\n",
              "Mobile        CircleTrip         5\n",
              "              OneWay            18\n",
              "              RoundTrip       5596\n",
              "Name: DiaDelVuelo, dtype: int64"
            ]
          },
          "metadata": {},
          "execution_count": 33
        }
      ],
      "source": [
        "PasajerosAerolineas.groupby(by=['CanalDeVenta', 'TipoDeViaje'])['DiaDelVuelo'].count()"
      ]
    },
    {
      "cell_type": "code",
      "execution_count": 34,
      "id": "15a7cfd6",
      "metadata": {
        "colab": {
          "base_uri": "https://localhost:8080/"
        },
        "id": "15a7cfd6",
        "outputId": "1693ba7e-367e-4ee1-9698-c11bf1d66baf"
      },
      "outputs": [
        {
          "output_type": "execute_result",
          "data": {
            "text/plain": [
              "NumeroDePasajeros  Estadia\n",
              "1                  0             5\n",
              "                   1           209\n",
              "                   2           699\n",
              "                   3          1922\n",
              "                   4          3206\n",
              "                              ... \n",
              "9                  17            2\n",
              "                   18            1\n",
              "                   20            1\n",
              "                   22            1\n",
              "                   30            1\n",
              "Name: EquipajeExtra, Length: 810, dtype: int64"
            ]
          },
          "metadata": {},
          "execution_count": 34
        }
      ],
      "source": [
        "PasajerosAerolineas.groupby(by=['NumeroDePasajeros','Estadia'])['EquipajeExtra'].count()"
      ]
    },
    {
      "cell_type": "code",
      "execution_count": 35,
      "id": "e86687cf",
      "metadata": {
        "colab": {
          "base_uri": "https://localhost:8080/"
        },
        "id": "e86687cf",
        "outputId": "0fd5046f-d155-4203-ac6b-0bd1b2eb16c1"
      },
      "outputs": [
        {
          "output_type": "execute_result",
          "data": {
            "text/plain": [
              "CanalDeVenta  DiaDelVuelo\n",
              "Internet      Fri            5947\n",
              "              Mon            7269\n",
              "              Sat            5008\n",
              "              Sun            5665\n",
              "              Thu            6681\n",
              "              Tue            6901\n",
              "              Wed            6912\n",
              "Mobile        Fri             814\n",
              "              Mon             833\n",
              "              Sat             804\n",
              "              Sun             889\n",
              "              Thu             743\n",
              "              Tue             773\n",
              "              Wed             763\n",
              "Name: NumeroDePasajeros, dtype: int64"
            ]
          },
          "metadata": {},
          "execution_count": 35
        }
      ],
      "source": [
        "PasajerosAerolineas.groupby(by=['CanalDeVenta','DiaDelVuelo'])['NumeroDePasajeros'].count()"
      ]
    },
    {
      "cell_type": "markdown",
      "id": "4857a6c6",
      "metadata": {
        "id": "4857a6c6"
      },
      "source": [
        "## Visualización de datos"
      ]
    },
    {
      "cell_type": "code",
      "execution_count": 36,
      "id": "e41d8aa3",
      "metadata": {
        "colab": {
          "base_uri": "https://localhost:8080/"
        },
        "id": "e41d8aa3",
        "outputId": "3543a5f0-e087-4ff8-e969-20b0a74563c7"
      },
      "outputs": [
        {
          "output_type": "execute_result",
          "data": {
            "text/plain": [
              "Index(['NumeroDePasajeros', 'CanalDeVenta', 'TipoDeViaje', 'ClientePotencial',\n",
              "       'Estadia', 'HorarioDelVuelo', 'DiaDelVuelo', 'Ruta', 'OrigenReserva',\n",
              "       'EquipajeExtra', 'AsientosPreferido', 'QuiereComidaEnVuelo',\n",
              "       'DuracionDelVuelo', 'ReservaCompleta'],\n",
              "      dtype='object')"
            ]
          },
          "metadata": {},
          "execution_count": 36
        }
      ],
      "source": [
        "PasajerosAerolineas.columns"
      ]
    },
    {
      "cell_type": "code",
      "execution_count": 37,
      "id": "fa1d0c43",
      "metadata": {
        "colab": {
          "base_uri": "https://localhost:8080/",
          "height": 505
        },
        "id": "fa1d0c43",
        "outputId": "5a087a31-7fb7-40f1-fc30-5d3d8a8d69f1"
      },
      "outputs": [
        {
          "output_type": "display_data",
          "data": {
            "text/plain": [
              "<Figure size 640x480 with 1 Axes>"
            ],
            "image/png": "[encoded data removed]"
          },
          "metadata": {}
        }
      ],
      "source": [
        "plt.figure()\n",
        "plt.hist(PasajerosAerolineas['CanalDeVenta'].dropna(), bins=3, color=\"blue\", alpha=0.3)\n",
        "plt.ylabel(\"Cantidad\", size=10)\n",
        "plt.xlabel(\"Tipo de canal de venta\", size=14)\n",
        "plt.title(\"Tipo de canal de venta elegido\", size=16, pad=25)\n",
        "plt.gca().spines[\"top\"].set_visible(False)\n",
        "plt.gca().spines[\"right\"].set_visible(False)\n",
        "plt.grid(True)\n",
        "plt.show()"
      ]
    },
    {
      "cell_type": "markdown",
      "id": "88d2c721",
      "metadata": {
        "id": "88d2c721"
      },
      "source": [
        "* Se puede ver claramente que el canal mas elegido para realizar las reservas es Internet"
      ]
    },
    {
      "cell_type": "code",
      "execution_count": 38,
      "id": "a0f560cb",
      "metadata": {
        "colab": {
          "base_uri": "https://localhost:8080/",
          "height": 505
        },
        "id": "a0f560cb",
        "outputId": "2f6a628d-eb80-47cd-da26-d1bbf010acb1"
      },
      "outputs": [
        {
          "output_type": "display_data",
          "data": {
            "text/plain": [
              "<Figure size 640x480 with 1 Axes>"
            ],
            "image/png": "[encoded data removed]"
          },
          "metadata": {}
        }
      ],
      "source": [
        "plt.figure()\n",
        "plt.hist(PasajerosAerolineas['EquipajeExtra'].dropna(), bins=3, color=\"blue\", alpha=0.3)\n",
        "plt.ylabel(\"Cantidad\", size=10)\n",
        "plt.xlabel(\"Equipaje Extra\", size=14)\n",
        "plt.title(\"Eleccion de Equipaje extra\", size=16, pad=25)\n",
        "plt.gca().spines[\"top\"].set_visible(False)\n",
        "plt.gca().spines[\"right\"].set_visible(False)\n",
        "plt.grid(True)\n",
        "plt.show()"
      ]
    },
    {
      "cell_type": "code",
      "execution_count": 39,
      "id": "d1264420",
      "metadata": {
        "colab": {
          "base_uri": "https://localhost:8080/",
          "height": 574
        },
        "id": "d1264420",
        "outputId": "6fe41b9d-de76-44f8-b5e0-ae2c00011fee"
      },
      "outputs": [
        {
          "output_type": "execute_result",
          "data": {
            "text/plain": [
              "Text(0.5, 1.0, 'Distribucion de vuelos en dias de la semana')"
            ]
          },
          "metadata": {},
          "execution_count": 39
        },
        {
          "output_type": "display_data",
          "data": {
            "text/plain": [
              "<Figure size 500x500 with 1 Axes>"
            ],
            "image/png": "[encoded data removed]"
          },
          "metadata": {}
        }
      ],
      "source": [
        "grafico_2=sns.displot(PasajerosAerolineas['DiaDelVuelo'])\n",
        "plt.title(\"Distribucion de vuelos en dias de la semana\", size=16, pad=25)"
      ]
    },
    {
      "cell_type": "markdown",
      "id": "8cbf03b5",
      "metadata": {
        "id": "8cbf03b5"
      },
      "source": [
        "* Podemos ver que el dia que mas se vuela es el dia LUNES"
      ]
    },
    {
      "cell_type": "code",
      "execution_count": 40,
      "id": "a6a415eb",
      "metadata": {
        "colab": {
          "base_uri": "https://localhost:8080/",
          "height": 574
        },
        "id": "a6a415eb",
        "outputId": "40498eef-5d1a-4330-9aac-c332010ff1e4"
      },
      "outputs": [
        {
          "output_type": "display_data",
          "data": {
            "text/plain": [
              "<Figure size 640x480 with 0 Axes>"
            ]
          },
          "metadata": {}
        },
        {
          "output_type": "display_data",
          "data": {
            "text/plain": [
              "<Figure size 500x500 with 1 Axes>"
            ],
            "image/png": "[encoded data removed]"
          },
          "metadata": {}
        }
      ],
      "source": [
        "plt.figure()\n",
        "sns.displot(PasajerosAerolineas[\"DiaDelVuelo\"], color=\"#7D3C98\", kde=True)\n",
        "plt.title(\"Distribucion de vuelos en dias de la semana\", size=16, pad=25)\n",
        "plt.xlabel('Dia de laSemana')\n",
        "plt.ylabel('Cantidad')\n",
        "sns.despine()\n",
        "plt.show()"
      ]
    },
    {
      "cell_type": "code",
      "execution_count": 41,
      "id": "82623c6c",
      "metadata": {
        "colab": {
          "base_uri": "https://localhost:8080/",
          "height": 505
        },
        "id": "82623c6c",
        "outputId": "3c4793e2-1fa5-46d7-f052-948c21f8bd13"
      },
      "outputs": [
        {
          "output_type": "display_data",
          "data": {
            "text/plain": [
              "<Figure size 640x480 with 1 Axes>"
            ],
            "image/png": "[encoded data removed]"
          },
          "metadata": {}
        }
      ],
      "source": [
        "plt.figure()\n",
        "plt.hist(PasajerosAerolineas['HorarioDelVuelo'].dropna(), bins=50, color=\"#16A085\", alpha=0.3)\n",
        "plt.ylabel(\"Cantidad de vuelos\", size=10)\n",
        "plt.xlabel(\"Horario\", size=14)\n",
        "plt.title(\"Horarios de vuelos\", size=16, pad=25)\n",
        "plt.gca().spines[\"top\"].set_visible(False)\n",
        "plt.gca().spines[\"right\"].set_visible(False)\n",
        "plt.grid(True)\n",
        "plt.show()"
      ]
    },
    {
      "cell_type": "code",
      "execution_count": 42,
      "id": "a57b37cb",
      "metadata": {
        "colab": {
          "base_uri": "https://localhost:8080/",
          "height": 411
        },
        "id": "a57b37cb",
        "outputId": "e84932e1-0dcf-4626-d113-49ac3a33cc38"
      },
      "outputs": [
        {
          "output_type": "display_data",
          "data": {
            "text/plain": [
              "<Figure size 640x480 with 1 Axes>"
            ],
            "image/png": "[encoded data removed]"
          },
          "metadata": {}
        }
      ],
      "source": [
        "sns.boxplot(y = PasajerosAerolineas['Estadia'],\n",
        "            color = \"#8E44AD\")\n",
        "sns.despine()"
      ]
    },
    {
      "cell_type": "code",
      "execution_count": 43,
      "id": "b23d0166",
      "metadata": {
        "colab": {
          "base_uri": "https://localhost:8080/",
          "height": 411
        },
        "id": "b23d0166",
        "outputId": "4c0ed347-02c8-4825-c143-bffa9da974d3"
      },
      "outputs": [
        {
          "output_type": "display_data",
          "data": {
            "text/plain": [
              "<Figure size 640x480 with 1 Axes>"
            ],
            "image/png": "[encoded data removed]"
          },
          "metadata": {}
        }
      ],
      "source": [
        "sns.boxplot(y = PasajerosAerolineas['HorarioDelVuelo'],\n",
        "            color = \"#8E44AD\")\n",
        "sns.despine()"
      ]
    },
    {
      "cell_type": "code",
      "execution_count": 44,
      "id": "c072abd6",
      "metadata": {
        "colab": {
          "base_uri": "https://localhost:8080/",
          "height": 411
        },
        "id": "c072abd6",
        "outputId": "2889415e-f4e3-4331-cce6-f374c86f2cc4"
      },
      "outputs": [
        {
          "output_type": "display_data",
          "data": {
            "text/plain": [
              "<Figure size 640x480 with 1 Axes>"
            ],
            "image/png": "[encoded data removed]"
          },
          "metadata": {}
        }
      ],
      "source": [
        "sns.boxplot(y = PasajerosAerolineas['DuracionDelVuelo'],\n",
        "            color = \"#5DADE2\")\n",
        "sns.despine()"
      ]
    },
    {
      "cell_type": "code",
      "execution_count": 45,
      "id": "ff849c5d",
      "metadata": {
        "colab": {
          "base_uri": "https://localhost:8080/"
        },
        "id": "ff849c5d",
        "outputId": "f35036d4-e05e-44bb-be41-973353dc0251"
      },
      "outputs": [
        {
          "output_type": "stream",
          "name": "stdout",
          "text": [
            "      CanalDeVenta          variable  value\n",
            "0         Internet  DuracionDelVuelo   7.21\n",
            "1         Internet  DuracionDelVuelo   5.52\n",
            "2         Internet  DuracionDelVuelo   5.52\n",
            "3         Internet  DuracionDelVuelo   5.52\n",
            "4         Internet  DuracionDelVuelo   5.52\n",
            "...            ...               ...    ...\n",
            "49997     Internet  DuracionDelVuelo   5.62\n",
            "49998     Internet  DuracionDelVuelo   5.62\n",
            "49999     Internet  DuracionDelVuelo   5.62\n",
            "50000     Internet  DuracionDelVuelo   5.62\n",
            "50001     Internet  DuracionDelVuelo   5.62\n",
            "\n",
            "[50002 rows x 3 columns]\n"
          ]
        }
      ],
      "source": [
        "# 'NumeroDePasajeros', 'CanalDeVenta', 'TipoDeViaje', 'ClientePotencial',\n",
        "# 'Estadia', 'HorasDeVuelo', 'DiaDelVuelo', 'Ruta', 'OrigenReserva',\n",
        "# 'EquipajeExtra', 'AsientosPreferido', 'QuiereComidaEnVuelo',\n",
        "# 'DuracionDelVuelo', 'ReservaCompleta']\n",
        "\n",
        "boxplot_PasajerosAerolineas = PasajerosAerolineas.melt(id_vars='CanalDeVenta', value_vars=['DuracionDelVuelo'])\n",
        "print(boxplot_PasajerosAerolineas)"
      ]
    },
    {
      "cell_type": "code",
      "execution_count": 46,
      "id": "76fc6daf",
      "metadata": {
        "colab": {
          "base_uri": "https://localhost:8080/"
        },
        "id": "76fc6daf",
        "outputId": "2452dc31-9309-48e5-efc4-0ab52fcdc7b6"
      },
      "outputs": [
        {
          "output_type": "stream",
          "name": "stdout",
          "text": [
            "       Estadia       variable  value\n",
            "0           12  EquipajeExtra      0\n",
            "1           19  EquipajeExtra      1\n",
            "2           20  EquipajeExtra      0\n",
            "3           22  EquipajeExtra      1\n",
            "4           31  EquipajeExtra      0\n",
            "...        ...            ...    ...\n",
            "49997        6  EquipajeExtra      1\n",
            "49998        6  EquipajeExtra      0\n",
            "49999        6  EquipajeExtra      0\n",
            "50000        6  EquipajeExtra      1\n",
            "50001        6  EquipajeExtra      0\n",
            "\n",
            "[50002 rows x 3 columns]\n"
          ]
        }
      ],
      "source": [
        "boxplot_PasajerosAerolineas = PasajerosAerolineas.melt(id_vars='Estadia', value_vars=['EquipajeExtra'])\n",
        "print(boxplot_PasajerosAerolineas)"
      ]
    },
    {
      "cell_type": "code",
      "execution_count": 47,
      "id": "7a30d3f8",
      "metadata": {
        "colab": {
          "base_uri": "https://localhost:8080/",
          "height": 206
        },
        "id": "7a30d3f8",
        "outputId": "aea38697-fbc6-4be0-b210-8ed3184293d0"
      },
      "outputs": [
        {
          "output_type": "execute_result",
          "data": {
            "text/plain": [
              "   Estadia       variable  value\n",
              "0       12  EquipajeExtra      0\n",
              "1       19  EquipajeExtra      1\n",
              "2       20  EquipajeExtra      0\n",
              "3       22  EquipajeExtra      1\n",
              "4       31  EquipajeExtra      0"
            ],
            "text/html": [
              "\n",
              "  <div id=\"df-8a4a7e23-ee3b-4c40-9b29-9b7b1244b89e\" class=\"colab-df-container\">\n",
              "    <div>\n",
              "<style scoped>\n",
              "    .dataframe tbody tr th:only-of-type {\n",
              "        vertical-align: middle;\n",
              "    }\n",
              "\n",
              "    .dataframe tbody tr th {\n",
              "        vertical-align: top;\n",
              "    }\n",
              "\n",
              "    .dataframe thead th {\n",
              "        text-align: right;\n",
              "    }\n",
              "</style>\n",
              "<table border=\"1\" class=\"dataframe\">\n",
              "  <thead>\n",
              "    <tr style=\"text-align: right;\">\n",
              "      <th></th>\n",
              "      <th>Estadia</th>\n",
              "      <th>variable</th>\n",
              "      <th>value</th>\n",
              "    </tr>\n",
              "  </thead>\n",
              "  <tbody>\n",
              "    <tr>\n",
              "      <th>0</th>\n",
              "      <td>12</td>\n",
              "      <td>EquipajeExtra</td>\n",
              "      <td>0</td>\n",
              "    </tr>\n",
              "    <tr>\n",
              "      <th>1</th>\n",
              "      <td>19</td>\n",
              "      <td>EquipajeExtra</td>\n",
              "      <td>1</td>\n",
              "    </tr>\n",
              "    <tr>\n",
              "      <th>2</th>\n",
              "      <td>20</td>\n",
              "      <td>EquipajeExtra</td>\n",
              "      <td>0</td>\n",
              "    </tr>\n",
              "    <tr>\n",
              "      <th>3</th>\n",
              "      <td>22</td>\n",
              "      <td>EquipajeExtra</td>\n",
              "      <td>1</td>\n",
              "    </tr>\n",
              "    <tr>\n",
              "      <th>4</th>\n",
              "      <td>31</td>\n",
              "      <td>EquipajeExtra</td>\n",
              "      <td>0</td>\n",
              "    </tr>\n",
              "  </tbody>\n",
              "</table>\n",
              "</div>\n",
              "    <div class=\"colab-df-buttons\">\n",
              "\n",
              "  <div class=\"colab-df-container\">\n",
              "    <button class=\"colab-df-convert\" onclick=\"convertToInteractive('df-8a4a7e23-ee3b-4c40-9b29-9b7b1244b89e')\"\n",
              "            title=\"Convert this dataframe to an interactive table.\"\n",
              "            style=\"display:none;\">\n",
              "\n",
              "  <svg xmlns=\"http://www.w3.org/2000/svg\" height=\"24px\" viewBox=\"0 -960 960 960\">\n",
              "    <path d=\"M120-120v-720h720v720H120Zm60-500h600v-160H180v160Zm220 220h160v-160H400v160Zm0 220h160v-160H400v160ZM180-400h160v-160H180v160Zm440 0h160v-160H620v160ZM180-180h160v-160H180v160Zm440 0h160v-160H620v160Z\"/>\n",
              "  </svg>\n",
              "    </button>\n",
              "\n",
              "  <style>\n",
              "    .colab-df-container {\n",
              "      display:flex;\n",
              "      gap: 12px;\n",
              "    }\n",
              "\n",
              "    .colab-df-convert {\n",
              "      background-color: #E8F0FE;\n",
              "      border: none;\n",
              "      border-radius: 50%;\n",
              "      cursor: pointer;\n",
              "      display: none;\n",
              "      fill: #1967D2;\n",
              "      height: 32px;\n",
              "      padding: 0 0 0 0;\n",
              "      width: 32px;\n",
              "    }\n",
              "\n",
              "    .colab-df-convert:hover {\n",
              "      background-color: #E2EBFA;\n",
              "      box-shadow: 0px 1px 2px rgba(60, 64, 67, 0.3), 0px 1px 3px 1px rgba(60, 64, 67, 0.15);\n",
              "      fill: #174EA6;\n",
              "    }\n",
              "\n",
              "    .colab-df-buttons div {\n",
              "      margin-bottom: 4px;\n",
              "    }\n",
              "\n",
              "    [theme=dark] .colab-df-convert {\n",
              "      background-color: #3B4455;\n",
              "      fill: #D2E3FC;\n",
              "    }\n",
              "\n",
              "    [theme=dark] .colab-df-convert:hover {\n",
              "      background-color: #434B5C;\n",
              "      box-shadow: 0px 1px 3px 1px rgba(0, 0, 0, 0.15);\n",
              "      filter: drop-shadow(0px 1px 2px rgba(0, 0, 0, 0.3));\n",
              "      fill: #FFFFFF;\n",
              "    }\n",
              "  </style>\n",
              "\n",
              "    <script>\n",
              "      const buttonEl =\n",
              "        document.querySelector('#df-8a4a7e23-ee3b-4c40-9b29-9b7b1244b89e button.colab-df-convert');\n",
              "      buttonEl.style.display =\n",
              "        google.colab.kernel.accessAllowed ? 'block' : 'none';\n",
              "\n",
              "      async function convertToInteractive(key) {\n",
              "        const element = document.querySelector('#df-8a4a7e23-ee3b-4c40-9b29-9b7b1244b89e');\n",
              "        const dataTable =\n",
              "          await google.colab.kernel.invokeFunction('convertToInteractive',\n",
              "                                                    [key], {});\n",
              "        if (!dataTable) return;\n",
              "\n",
              "        const docLinkHtml = 'Like what you see? Visit the ' +\n",
              "          '<a target=\"_blank\" href=https://colab.research.google.com/notebooks/data_table.ipynb>data table notebook</a>'\n",
              "          + ' to learn more about interactive tables.';\n",
              "        element.innerHTML = '';\n",
              "        dataTable['output_type'] = 'display_data';\n",
              "        await google.colab.output.renderOutput(dataTable, element);\n",
              "        const docLink = document.createElement('div');\n",
              "        docLink.innerHTML = docLinkHtml;\n",
              "        element.appendChild(docLink);\n",
              "      }\n",
              "    </script>\n",
              "  </div>\n",
              "\n",
              "\n",
              "<div id=\"df-51207a76-9149-47e9-b640-6151d308e1bc\">\n",
              "  <button class=\"colab-df-quickchart\" onclick=\"quickchart('df-51207a76-9149-47e9-b640-6151d308e1bc')\"\n",
              "            title=\"Suggest charts.\"\n",
              "            style=\"display:none;\">\n",
              "\n",
              "<svg xmlns=\"http://www.w3.org/2000/svg\" height=\"24px\"viewBox=\"0 0 24 24\"\n",
              "     width=\"24px\">\n",
              "    <g>\n",
              "        <path d=\"M19 3H5c-1.1 0-2 .9-2 2v14c0 1.1.9 2 2 2h14c1.1 0 2-.9 2-2V5c0-1.1-.9-2-2-2zM9 17H7v-7h2v7zm4 0h-2V7h2v10zm4 0h-2v-4h2v4z\"/>\n",
              "    </g>\n",
              "</svg>\n",
              "  </button>\n",
              "\n",
              "<style>\n",
              "  .colab-df-quickchart {\n",
              "      --bg-color: #E8F0FE;\n",
              "      --fill-color: #1967D2;\n",
              "      --hover-bg-color: #E2EBFA;\n",
              "      --hover-fill-color: #174EA6;\n",
              "      --disabled-fill-color: #AAA;\n",
              "      --disabled-bg-color: #DDD;\n",
              "  }\n",
              "\n",
              "  [theme=dark] .colab-df-quickchart {\n",
              "      --bg-color: #3B4455;\n",
              "      --fill-color: #D2E3FC;\n",
              "      --hover-bg-color: #434B5C;\n",
              "      --hover-fill-color: #FFFFFF;\n",
              "      --disabled-bg-color: #3B4455;\n",
              "      --disabled-fill-color: #666;\n",
              "  }\n",
              "\n",
              "  .colab-df-quickchart {\n",
              "    background-color: var(--bg-color);\n",
              "    border: none;\n",
              "    border-radius: 50%;\n",
              "    cursor: pointer;\n",
              "    display: none;\n",
              "    fill: var(--fill-color);\n",
              "    height: 32px;\n",
              "    padding: 0;\n",
              "    width: 32px;\n",
              "  }\n",
              "\n",
              "  .colab-df-quickchart:hover {\n",
              "    background-color: var(--hover-bg-color);\n",
              "    box-shadow: 0 1px 2px rgba(60, 64, 67, 0.3), 0 1px 3px 1px rgba(60, 64, 67, 0.15);\n",
              "    fill: var(--button-hover-fill-color);\n",
              "  }\n",
              "\n",
              "  .colab-df-quickchart-complete:disabled,\n",
              "  .colab-df-quickchart-complete:disabled:hover {\n",
              "    background-color: var(--disabled-bg-color);\n",
              "    fill: var(--disabled-fill-color);\n",
              "    box-shadow: none;\n",
              "  }\n",
              "\n",
              "  .colab-df-spinner {\n",
              "    border: 2px solid var(--fill-color);\n",
              "    border-color: transparent;\n",
              "    border-bottom-color: var(--fill-color);\n",
              "    animation:\n",
              "      spin 1s steps(1) infinite;\n",
              "  }\n",
              "\n",
              "  @keyframes spin {\n",
              "    0% {\n",
              "      border-color: transparent;\n",
              "      border-bottom-color: var(--fill-color);\n",
              "      border-left-color: var(--fill-color);\n",
              "    }\n",
              "    20% {\n",
              "      border-color: transparent;\n",
              "      border-left-color: var(--fill-color);\n",
              "      border-top-color: var(--fill-color);\n",
              "    }\n",
              "    30% {\n",
              "      border-color: transparent;\n",
              "      border-left-color: var(--fill-color);\n",
              "      border-top-color: var(--fill-color);\n",
              "      border-right-color: var(--fill-color);\n",
              "    }\n",
              "    40% {\n",
              "      border-color: transparent;\n",
              "      border-right-color: var(--fill-color);\n",
              "      border-top-color: var(--fill-color);\n",
              "    }\n",
              "    60% {\n",
              "      border-color: transparent;\n",
              "      border-right-color: var(--fill-color);\n",
              "    }\n",
              "    80% {\n",
              "      border-color: transparent;\n",
              "      border-right-color: var(--fill-color);\n",
              "      border-bottom-color: var(--fill-color);\n",
              "    }\n",
              "    90% {\n",
              "      border-color: transparent;\n",
              "      border-bottom-color: var(--fill-color);\n",
              "    }\n",
              "  }\n",
              "</style>\n",
              "\n",
              "  <script>\n",
              "    async function quickchart(key) {\n",
              "      const quickchartButtonEl =\n",
              "        document.querySelector('#' + key + ' button');\n",
              "      quickchartButtonEl.disabled = true;  // To prevent multiple clicks.\n",
              "      quickchartButtonEl.classList.add('colab-df-spinner');\n",
              "      try {\n",
              "        const charts = await google.colab.kernel.invokeFunction(\n",
              "            'suggestCharts', [key], {});\n",
              "      } catch (error) {\n",
              "        console.error('Error during call to suggestCharts:', error);\n",
              "      }\n",
              "      quickchartButtonEl.classList.remove('colab-df-spinner');\n",
              "      quickchartButtonEl.classList.add('colab-df-quickchart-complete');\n",
              "    }\n",
              "    (() => {\n",
              "      let quickchartButtonEl =\n",
              "        document.querySelector('#df-51207a76-9149-47e9-b640-6151d308e1bc button');\n",
              "      quickchartButtonEl.style.display =\n",
              "        google.colab.kernel.accessAllowed ? 'block' : 'none';\n",
              "    })();\n",
              "  </script>\n",
              "</div>\n",
              "    </div>\n",
              "  </div>\n"
            ]
          },
          "metadata": {},
          "execution_count": 47
        }
      ],
      "source": [
        "boxplot_PasajerosAerolineas.head()"
      ]
    },
    {
      "cell_type": "code",
      "execution_count": 51,
      "id": "64d11c57",
      "metadata": {
        "colab": {
          "base_uri": "https://localhost:8080/",
          "height": 388
        },
        "id": "64d11c57",
        "outputId": "a0fc4596-71c4-4bf5-8a5e-1978d8344039"
      },
      "outputs": [
        {
          "output_type": "display_data",
          "data": {
            "text/plain": [
              "<Figure size 1000x400 with 3 Axes>"
            ],
            "image/png": "[encoded data removed]"
          },
          "metadata": {}
        }
      ],
      "source": [
        "# Distribucion de la estadia , segun el tipo de Viaje reservado\n",
        "# Podriamos ajustar la estadia a rangos para poder visualizarlo mejor\n",
        "# Inicio subplots\n",
        "fig, ax = plt.subplots(nrows=1, ncols=3, figsize=(10, 4))\n",
        "# Establezco colores\n",
        "colors = np.arange(959)\n",
        "\n",
        "# primer grafico\n",
        "ax[0].hist(PasajerosAerolineas[PasajerosAerolineas['TipoDeViaje'] == 'RoundTrip'][\"Estadia\"], color=\"#8E44AD\", alpha=0.5, bins=15)\n",
        "# segundo grafico\n",
        "ax[1].hist(PasajerosAerolineas[PasajerosAerolineas['TipoDeViaje'] == 'OneWay'][\"Estadia\"], color=\"#2471A3\", alpha=0.4, bins=20)\n",
        "# segundo grafico\n",
        "ax[2].hist(PasajerosAerolineas[PasajerosAerolineas['TipoDeViaje'] == 'CircleTrip'][\"Estadia\"], color=\"#17A589\", alpha=0.4, bins=20)\n",
        "# modifico primer grafico\n",
        "\n",
        "\n",
        "ax[0].spines[\"top\"].set_visible(False)\n",
        "ax[0].spines[\"right\"].set_visible(False)\n",
        "\n",
        "# modifico segundo grafico\n",
        "ax[1].spines[\"top\"].set_visible(False)\n",
        "ax[1].spines[\"right\"].set_visible(False)\n",
        "\n",
        "ax[2].spines[\"top\"].set_visible(False)\n",
        "ax[2].spines[\"right\"].set_visible(False)\n",
        "\n",
        "\n",
        "plt.xlabel('Dias de laSemana')\n",
        "plt.ylabel('Cantidad')\n",
        "\n",
        "plt.show()\n",
        "#NumeroDePasa"
      ]
    },
    {
      "cell_type": "code",
      "execution_count": 49,
      "id": "b21ff892",
      "metadata": {
        "colab": {
          "base_uri": "https://localhost:8080/",
          "height": 388
        },
        "id": "b21ff892",
        "outputId": "5e6181ee-6a48-4c48-c919-a2b2cfcd1374"
      },
      "outputs": [
        {
          "output_type": "display_data",
          "data": {
            "text/plain": [
              "<Figure size 1000x400 with 2 Axes>"
            ],
            "image/png": "[encoded data removed]"
          },
          "metadata": {}
        }
      ],
      "source": [
        "# Preferncia por dias de vuelo, segun el canal de venta elegido\n",
        "# Inicio subplots\n",
        "fig, ax = plt.subplots(nrows=1, ncols=2, figsize=(10, 4))\n",
        "# Establezco colores\n",
        "colors = np.arange(959)\n",
        "# primer grafico\n",
        "ax[0].hist(PasajerosAerolineas[PasajerosAerolineas['CanalDeVenta'] == 'Internet'][\"DiaDelVuelo\"], color=\"#8E44AD\", alpha=0.5, bins=15)\n",
        "# segundo grafico\n",
        "ax[1].hist(PasajerosAerolineas[PasajerosAerolineas['CanalDeVenta'] == 'Mobile'][\"DiaDelVuelo\"], color=\"#2471A3\", alpha=0.4, bins=20)\n",
        "# modifico primer grafico\n",
        "ax[0].spines[\"top\"].set_visible(False)\n",
        "ax[0].spines[\"right\"].set_visible(False)\n",
        "# modifico segundo grafico\n",
        "ax[1].spines[\"top\"].set_visible(False)\n",
        "ax[1].spines[\"right\"].set_visible(False)\n",
        "\n",
        "plt.xlabel('Dias de laSemana')\n",
        "plt.ylabel('Cantidad')\n",
        "\n",
        "plt.show()"
      ]
    },
    {
      "cell_type": "code",
      "execution_count": 50,
      "id": "08263291",
      "metadata": {
        "colab": {
          "base_uri": "https://localhost:8080/"
        },
        "id": "08263291",
        "outputId": "17434838-1cc4-4401-88ca-2e30dff21fbc"
      },
      "outputs": [
        {
          "output_type": "execute_result",
          "data": {
            "text/plain": [
              "array([0, 1])"
            ]
          },
          "metadata": {},
          "execution_count": 50
        }
      ],
      "source": [
        "PasajerosAerolineas['EquipajeExtra'].unique()"
      ]
    },
    {
      "cell_type": "code",
      "execution_count": 50,
      "id": "d191df60",
      "metadata": {
        "id": "d191df60"
      },
      "outputs": [],
      "source": []
    }
  ],
  "metadata": {
    "kernelspec": {
      "display_name": "Python 3 (ipykernel)",
      "language": "python",
      "name": "python3"
    },
    "language_info": {
      "codemirror_mode": {
        "name": "ipython",
        "version": 3
      },
      "file_extension": ".py",
      "mimetype": "text/x-python",
      "name": "python",
      "nbconvert_exporter": "python",
      "pygments_lexer": "ipython3",
      "version": "3.10.9"
    },
    "colab": {
      "provenance": []
    }
  },
  "nbformat": 4,
  "nbformat_minor": 5
}