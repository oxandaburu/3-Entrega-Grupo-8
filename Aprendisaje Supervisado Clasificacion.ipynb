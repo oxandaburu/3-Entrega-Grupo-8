{
 "cells": [
  {
   "cell_type": "markdown",
   "id": "8543752c",
   "metadata": {},
   "source": [
    "### Aprendizaje supervisado"
   ]
  },
  {
   "cell_type": "markdown",
   "id": "91f002e8",
   "metadata": {},
   "source": [
    "### Exploracion y procesamiento de los datos"
   ]
  },
  {
   "cell_type": "code",
   "execution_count": 1,
   "id": "fd5532ad",
   "metadata": {},
   "outputs": [],
   "source": [
    "import pandas as pd\n",
    "import numpy as np\n",
    "import matplotlib.pyplot as plt\n",
    "import seaborn as sns"
   ]
  },
  {
   "cell_type": "code",
   "execution_count": 2,
   "id": "889e1971",
   "metadata": {},
   "outputs": [],
   "source": [
    "PasajerosAerolineas = pd.read_csv('Passanger_booking_data.csv')"
   ]
  },
  {
   "cell_type": "markdown",
   "id": "42a515b1",
   "metadata": {},
   "source": [
    "* Vamos a visualizar el DataFrame y observa cuantas filas y columnas tiene."
   ]
  },
  {
   "cell_type": "code",
   "execution_count": 3,
   "id": "a9de0618",
   "metadata": {},
   "outputs": [
    {
     "data": {
      "text/html": [
       "<div>\n",
       "<style scoped>\n",
       "    .dataframe tbody tr th:only-of-type {\n",
       "        vertical-align: middle;\n",
       "    }\n",
       "\n",
       "    .dataframe tbody tr th {\n",
       "        vertical-align: top;\n",
       "    }\n",
       "\n",
       "    .dataframe thead th {\n",
       "        text-align: right;\n",
       "    }\n",
       "</style>\n",
       "<table border=\"1\" class=\"dataframe\">\n",
       "  <thead>\n",
       "    <tr style=\"text-align: right;\">\n",
       "      <th></th>\n",
       "      <th>num_passengers</th>\n",
       "      <th>sales_channel</th>\n",
       "      <th>trip_type</th>\n",
       "      <th>purchase_lead</th>\n",
       "      <th>length_of_stay</th>\n",
       "      <th>flight_hour</th>\n",
       "      <th>flight_day</th>\n",
       "      <th>route</th>\n",
       "      <th>booking_origin</th>\n",
       "      <th>wants_extra_baggage</th>\n",
       "      <th>wants_preferred_seat</th>\n",
       "      <th>wants_in_flight_meals</th>\n",
       "      <th>flight_duration</th>\n",
       "      <th>booking_complete</th>\n",
       "    </tr>\n",
       "  </thead>\n",
       "  <tbody>\n",
       "    <tr>\n",
       "      <th>0</th>\n",
       "      <td>1</td>\n",
       "      <td>Internet</td>\n",
       "      <td>RoundTrip</td>\n",
       "      <td>21</td>\n",
       "      <td>12</td>\n",
       "      <td>6</td>\n",
       "      <td>Tue</td>\n",
       "      <td>AKLHGH</td>\n",
       "      <td>Australia</td>\n",
       "      <td>0</td>\n",
       "      <td>0</td>\n",
       "      <td>0</td>\n",
       "      <td>7.21</td>\n",
       "      <td>1</td>\n",
       "    </tr>\n",
       "    <tr>\n",
       "      <th>1</th>\n",
       "      <td>2</td>\n",
       "      <td>Internet</td>\n",
       "      <td>RoundTrip</td>\n",
       "      <td>262</td>\n",
       "      <td>19</td>\n",
       "      <td>7</td>\n",
       "      <td>Sat</td>\n",
       "      <td>AKLDEL</td>\n",
       "      <td>New Zealand</td>\n",
       "      <td>1</td>\n",
       "      <td>0</td>\n",
       "      <td>0</td>\n",
       "      <td>5.52</td>\n",
       "      <td>0</td>\n",
       "    </tr>\n",
       "    <tr>\n",
       "      <th>2</th>\n",
       "      <td>1</td>\n",
       "      <td>Internet</td>\n",
       "      <td>RoundTrip</td>\n",
       "      <td>112</td>\n",
       "      <td>20</td>\n",
       "      <td>3</td>\n",
       "      <td>Sat</td>\n",
       "      <td>AKLDEL</td>\n",
       "      <td>New Zealand</td>\n",
       "      <td>0</td>\n",
       "      <td>0</td>\n",
       "      <td>0</td>\n",
       "      <td>5.52</td>\n",
       "      <td>0</td>\n",
       "    </tr>\n",
       "    <tr>\n",
       "      <th>3</th>\n",
       "      <td>2</td>\n",
       "      <td>Internet</td>\n",
       "      <td>RoundTrip</td>\n",
       "      <td>243</td>\n",
       "      <td>22</td>\n",
       "      <td>17</td>\n",
       "      <td>Wed</td>\n",
       "      <td>AKLDEL</td>\n",
       "      <td>India</td>\n",
       "      <td>1</td>\n",
       "      <td>1</td>\n",
       "      <td>0</td>\n",
       "      <td>5.52</td>\n",
       "      <td>0</td>\n",
       "    </tr>\n",
       "    <tr>\n",
       "      <th>4</th>\n",
       "      <td>1</td>\n",
       "      <td>Internet</td>\n",
       "      <td>RoundTrip</td>\n",
       "      <td>96</td>\n",
       "      <td>31</td>\n",
       "      <td>4</td>\n",
       "      <td>Sat</td>\n",
       "      <td>AKLDEL</td>\n",
       "      <td>New Zealand</td>\n",
       "      <td>0</td>\n",
       "      <td>0</td>\n",
       "      <td>1</td>\n",
       "      <td>5.52</td>\n",
       "      <td>0</td>\n",
       "    </tr>\n",
       "  </tbody>\n",
       "</table>\n",
       "</div>"
      ],
      "text/plain": [
       "   num_passengers sales_channel  trip_type  purchase_lead  length_of_stay  \\\n",
       "0               1      Internet  RoundTrip             21              12   \n",
       "1               2      Internet  RoundTrip            262              19   \n",
       "2               1      Internet  RoundTrip            112              20   \n",
       "3               2      Internet  RoundTrip            243              22   \n",
       "4               1      Internet  RoundTrip             96              31   \n",
       "\n",
       "   flight_hour flight_day   route booking_origin  wants_extra_baggage  \\\n",
       "0            6        Tue  AKLHGH      Australia                    0   \n",
       "1            7        Sat  AKLDEL    New Zealand                    1   \n",
       "2            3        Sat  AKLDEL    New Zealand                    0   \n",
       "3           17        Wed  AKLDEL          India                    1   \n",
       "4            4        Sat  AKLDEL    New Zealand                    0   \n",
       "\n",
       "   wants_preferred_seat  wants_in_flight_meals  flight_duration  \\\n",
       "0                     0                      0             7.21   \n",
       "1                     0                      0             5.52   \n",
       "2                     0                      0             5.52   \n",
       "3                     1                      0             5.52   \n",
       "4                     0                      1             5.52   \n",
       "\n",
       "   booking_complete  \n",
       "0                 1  \n",
       "1                 0  \n",
       "2                 0  \n",
       "3                 0  \n",
       "4                 0  "
      ]
     },
     "execution_count": 3,
     "metadata": {},
     "output_type": "execute_result"
    }
   ],
   "source": [
    "PasajerosAerolineas.head()"
   ]
  },
  {
   "cell_type": "code",
   "execution_count": 4,
   "id": "c2e11a75",
   "metadata": {},
   "outputs": [
    {
     "data": {
      "text/plain": [
       "(50002, 14)"
      ]
     },
     "execution_count": 4,
     "metadata": {},
     "output_type": "execute_result"
    }
   ],
   "source": [
    "PasajerosAerolineas.shape"
   ]
  },
  {
   "cell_type": "markdown",
   "id": "8c7369e2",
   "metadata": {},
   "source": [
    "* Veamos el nombre y tipo de datos de las columnas contenidas en el Dataset"
   ]
  },
  {
   "cell_type": "code",
   "execution_count": 5,
   "id": "2f1af6e3",
   "metadata": {},
   "outputs": [
    {
     "data": {
      "text/plain": [
       "Index(['num_passengers', 'sales_channel', 'trip_type', 'purchase_lead',\n",
       "       'length_of_stay', 'flight_hour', 'flight_day', 'route',\n",
       "       'booking_origin', 'wants_extra_baggage', 'wants_preferred_seat',\n",
       "       'wants_in_flight_meals', 'flight_duration', 'booking_complete'],\n",
       "      dtype='object')"
      ]
     },
     "execution_count": 5,
     "metadata": {},
     "output_type": "execute_result"
    }
   ],
   "source": [
    "PasajerosAerolineas.columns"
   ]
  },
  {
   "cell_type": "code",
   "execution_count": 6,
   "id": "95447c95",
   "metadata": {},
   "outputs": [
    {
     "data": {
      "text/plain": [
       "num_passengers             int64\n",
       "sales_channel             object\n",
       "trip_type                 object\n",
       "purchase_lead              int64\n",
       "length_of_stay             int64\n",
       "flight_hour                int64\n",
       "flight_day                object\n",
       "route                     object\n",
       "booking_origin            object\n",
       "wants_extra_baggage        int64\n",
       "wants_preferred_seat       int64\n",
       "wants_in_flight_meals      int64\n",
       "flight_duration          float64\n",
       "booking_complete           int64\n",
       "dtype: object"
      ]
     },
     "execution_count": 6,
     "metadata": {},
     "output_type": "execute_result"
    }
   ],
   "source": [
    "PasajerosAerolineas.dtypes"
   ]
  },
  {
   "cell_type": "markdown",
   "id": "7d2b52bc",
   "metadata": {},
   "source": [
    "* Modificamos el nombre de las columnas para que sea mas comodo trabajar"
   ]
  },
  {
   "cell_type": "code",
   "execution_count": 7,
   "id": "7d12fc9c",
   "metadata": {},
   "outputs": [],
   "source": [
    "PasajerosAerolineas = PasajerosAerolineas.rename(columns=\n",
    "                           {'num_passengers':'NumeroDePasajeros',\n",
    "                            'sales_channel' : 'CanalDeVenta',\n",
    "                            'trip_type'     : 'TipoDeViaje',\n",
    "                            'purchase_lead' : 'ClientePotencial',\n",
    "                            'length_of_stay': 'Estadia',\n",
    "                            'flight_hour'   : 'HorarioDelVuelo',\n",
    "                            'flight_day'    : 'DiaDelVuelo',\n",
    "                            'route'         : 'Ruta',\n",
    "                            'booking_origin': 'OrigenReserva', \n",
    "                            'wants_extra_baggage' : 'EquipajeExtra', \n",
    "                            'wants_preferred_seat': 'AsientosPreferido', \n",
    "                            'wants_in_flight_meals': 'QuiereComidaEnVuelo',\n",
    "                            'flight_duration'      : 'DuracionDelVuelo',     \n",
    "                            'booking_complete'     : 'ReservaCompleta'                            \n",
    "                            })"
   ]
  },
  {
   "cell_type": "markdown",
   "id": "33aed91a",
   "metadata": {},
   "source": [
    "* Vemos como quedaron las columnas con el nuevo nombre asignado"
   ]
  },
  {
   "cell_type": "code",
   "execution_count": 8,
   "id": "23cf3c62",
   "metadata": {},
   "outputs": [
    {
     "data": {
      "text/plain": [
       "Index(['NumeroDePasajeros', 'CanalDeVenta', 'TipoDeViaje', 'ClientePotencial',\n",
       "       'Estadia', 'HorarioDelVuelo', 'DiaDelVuelo', 'Ruta', 'OrigenReserva',\n",
       "       'EquipajeExtra', 'AsientosPreferido', 'QuiereComidaEnVuelo',\n",
       "       'DuracionDelVuelo', 'ReservaCompleta'],\n",
       "      dtype='object')"
      ]
     },
     "execution_count": 8,
     "metadata": {},
     "output_type": "execute_result"
    }
   ],
   "source": [
    "PasajerosAerolineas.columns"
   ]
  },
  {
   "cell_type": "markdown",
   "id": "3f02dcad",
   "metadata": {},
   "source": [
    "* Chequeamos si el Dataframe tiene valores faltantes y vemos las filas que los tienen."
   ]
  },
  {
   "cell_type": "code",
   "execution_count": 9,
   "id": "ee26fe2c",
   "metadata": {},
   "outputs": [
    {
     "data": {
      "text/plain": [
       "NumeroDePasajeros      0\n",
       "CanalDeVenta           0\n",
       "TipoDeViaje            0\n",
       "ClientePotencial       0\n",
       "Estadia                0\n",
       "HorarioDelVuelo        0\n",
       "DiaDelVuelo            0\n",
       "Ruta                   0\n",
       "OrigenReserva          0\n",
       "EquipajeExtra          0\n",
       "AsientosPreferido      0\n",
       "QuiereComidaEnVuelo    0\n",
       "DuracionDelVuelo       0\n",
       "ReservaCompleta        0\n",
       "dtype: int64"
      ]
     },
     "execution_count": 9,
     "metadata": {},
     "output_type": "execute_result"
    }
   ],
   "source": [
    "PasajerosAerolineas.isna().sum()"
   ]
  },
  {
   "cell_type": "markdown",
   "id": "9d0404b3",
   "metadata": {},
   "source": [
    "* No hay valores faltanes"
   ]
  },
  {
   "cell_type": "markdown",
   "id": "8a340524",
   "metadata": {},
   "source": [
    "* Descripcion estadistica del Dataframe PasajerosAerolinas, por columna"
   ]
  },
  {
   "cell_type": "code",
   "execution_count": 10,
   "id": "c5ce9797",
   "metadata": {},
   "outputs": [
    {
     "data": {
      "text/html": [
       "<div>\n",
       "<style scoped>\n",
       "    .dataframe tbody tr th:only-of-type {\n",
       "        vertical-align: middle;\n",
       "    }\n",
       "\n",
       "    .dataframe tbody tr th {\n",
       "        vertical-align: top;\n",
       "    }\n",
       "\n",
       "    .dataframe thead th {\n",
       "        text-align: right;\n",
       "    }\n",
       "</style>\n",
       "<table border=\"1\" class=\"dataframe\">\n",
       "  <thead>\n",
       "    <tr style=\"text-align: right;\">\n",
       "      <th></th>\n",
       "      <th>NumeroDePasajeros</th>\n",
       "      <th>ClientePotencial</th>\n",
       "      <th>Estadia</th>\n",
       "      <th>HorarioDelVuelo</th>\n",
       "      <th>EquipajeExtra</th>\n",
       "      <th>AsientosPreferido</th>\n",
       "      <th>QuiereComidaEnVuelo</th>\n",
       "      <th>DuracionDelVuelo</th>\n",
       "      <th>ReservaCompleta</th>\n",
       "    </tr>\n",
       "  </thead>\n",
       "  <tbody>\n",
       "    <tr>\n",
       "      <th>count</th>\n",
       "      <td>50002.000000</td>\n",
       "      <td>50002.000000</td>\n",
       "      <td>50002.000000</td>\n",
       "      <td>50002.000000</td>\n",
       "      <td>50002.000000</td>\n",
       "      <td>50002.000000</td>\n",
       "      <td>50002.000000</td>\n",
       "      <td>50002.000000</td>\n",
       "      <td>50002.000000</td>\n",
       "    </tr>\n",
       "    <tr>\n",
       "      <th>mean</th>\n",
       "      <td>1.591256</td>\n",
       "      <td>84.940582</td>\n",
       "      <td>23.044778</td>\n",
       "      <td>9.066277</td>\n",
       "      <td>0.668773</td>\n",
       "      <td>0.296968</td>\n",
       "      <td>0.427143</td>\n",
       "      <td>7.277524</td>\n",
       "      <td>0.149574</td>\n",
       "    </tr>\n",
       "    <tr>\n",
       "      <th>std</th>\n",
       "      <td>1.020167</td>\n",
       "      <td>90.450548</td>\n",
       "      <td>33.887171</td>\n",
       "      <td>5.412569</td>\n",
       "      <td>0.470659</td>\n",
       "      <td>0.456927</td>\n",
       "      <td>0.494668</td>\n",
       "      <td>1.496854</td>\n",
       "      <td>0.356657</td>\n",
       "    </tr>\n",
       "    <tr>\n",
       "      <th>min</th>\n",
       "      <td>1.000000</td>\n",
       "      <td>0.000000</td>\n",
       "      <td>0.000000</td>\n",
       "      <td>0.000000</td>\n",
       "      <td>0.000000</td>\n",
       "      <td>0.000000</td>\n",
       "      <td>0.000000</td>\n",
       "      <td>4.670000</td>\n",
       "      <td>0.000000</td>\n",
       "    </tr>\n",
       "    <tr>\n",
       "      <th>25%</th>\n",
       "      <td>1.000000</td>\n",
       "      <td>21.000000</td>\n",
       "      <td>5.000000</td>\n",
       "      <td>5.000000</td>\n",
       "      <td>0.000000</td>\n",
       "      <td>0.000000</td>\n",
       "      <td>0.000000</td>\n",
       "      <td>5.620000</td>\n",
       "      <td>0.000000</td>\n",
       "    </tr>\n",
       "    <tr>\n",
       "      <th>50%</th>\n",
       "      <td>1.000000</td>\n",
       "      <td>51.000000</td>\n",
       "      <td>17.000000</td>\n",
       "      <td>9.000000</td>\n",
       "      <td>1.000000</td>\n",
       "      <td>0.000000</td>\n",
       "      <td>0.000000</td>\n",
       "      <td>7.570000</td>\n",
       "      <td>0.000000</td>\n",
       "    </tr>\n",
       "    <tr>\n",
       "      <th>75%</th>\n",
       "      <td>2.000000</td>\n",
       "      <td>115.000000</td>\n",
       "      <td>28.000000</td>\n",
       "      <td>13.000000</td>\n",
       "      <td>1.000000</td>\n",
       "      <td>1.000000</td>\n",
       "      <td>1.000000</td>\n",
       "      <td>8.830000</td>\n",
       "      <td>0.000000</td>\n",
       "    </tr>\n",
       "    <tr>\n",
       "      <th>max</th>\n",
       "      <td>9.000000</td>\n",
       "      <td>867.000000</td>\n",
       "      <td>778.000000</td>\n",
       "      <td>23.000000</td>\n",
       "      <td>1.000000</td>\n",
       "      <td>1.000000</td>\n",
       "      <td>1.000000</td>\n",
       "      <td>9.500000</td>\n",
       "      <td>1.000000</td>\n",
       "    </tr>\n",
       "  </tbody>\n",
       "</table>\n",
       "</div>"
      ],
      "text/plain": [
       "       NumeroDePasajeros  ClientePotencial       Estadia  HorarioDelVuelo  \\\n",
       "count       50002.000000      50002.000000  50002.000000     50002.000000   \n",
       "mean            1.591256         84.940582     23.044778         9.066277   \n",
       "std             1.020167         90.450548     33.887171         5.412569   \n",
       "min             1.000000          0.000000      0.000000         0.000000   \n",
       "25%             1.000000         21.000000      5.000000         5.000000   \n",
       "50%             1.000000         51.000000     17.000000         9.000000   \n",
       "75%             2.000000        115.000000     28.000000        13.000000   \n",
       "max             9.000000        867.000000    778.000000        23.000000   \n",
       "\n",
       "       EquipajeExtra  AsientosPreferido  QuiereComidaEnVuelo  \\\n",
       "count   50002.000000       50002.000000         50002.000000   \n",
       "mean        0.668773           0.296968             0.427143   \n",
       "std         0.470659           0.456927             0.494668   \n",
       "min         0.000000           0.000000             0.000000   \n",
       "25%         0.000000           0.000000             0.000000   \n",
       "50%         1.000000           0.000000             0.000000   \n",
       "75%         1.000000           1.000000             1.000000   \n",
       "max         1.000000           1.000000             1.000000   \n",
       "\n",
       "       DuracionDelVuelo  ReservaCompleta  \n",
       "count      50002.000000     50002.000000  \n",
       "mean           7.277524         0.149574  \n",
       "std            1.496854         0.356657  \n",
       "min            4.670000         0.000000  \n",
       "25%            5.620000         0.000000  \n",
       "50%            7.570000         0.000000  \n",
       "75%            8.830000         0.000000  \n",
       "max            9.500000         1.000000  "
      ]
     },
     "execution_count": 10,
     "metadata": {},
     "output_type": "execute_result"
    }
   ],
   "source": [
    "PasajerosAerolineas.describe()"
   ]
  },
  {
   "cell_type": "markdown",
   "id": "f11aed21",
   "metadata": {},
   "source": [
    "* Exploramos los datos del Dataframe PasajerosAerolineas\n",
    "* Veamos los valores existentes dentro de las columnas"
   ]
  },
  {
   "cell_type": "code",
   "execution_count": 11,
   "id": "439d97b6",
   "metadata": {},
   "outputs": [
    {
     "data": {
      "text/plain": [
       "Index(['NumeroDePasajeros', 'CanalDeVenta', 'TipoDeViaje', 'ClientePotencial',\n",
       "       'Estadia', 'HorarioDelVuelo', 'DiaDelVuelo', 'Ruta', 'OrigenReserva',\n",
       "       'EquipajeExtra', 'AsientosPreferido', 'QuiereComidaEnVuelo',\n",
       "       'DuracionDelVuelo', 'ReservaCompleta'],\n",
       "      dtype='object')"
      ]
     },
     "execution_count": 11,
     "metadata": {},
     "output_type": "execute_result"
    }
   ],
   "source": [
    "PasajerosAerolineas.columns"
   ]
  },
  {
   "cell_type": "code",
   "execution_count": 12,
   "id": "8efd0a6a",
   "metadata": {},
   "outputs": [
    {
     "data": {
      "text/plain": [
       "1    31353\n",
       "2    12804\n",
       "3     2942\n",
       "4     1784\n",
       "5      561\n",
       "6      289\n",
       "7      114\n",
       "8       89\n",
       "9       66\n",
       "Name: NumeroDePasajeros, dtype: int64"
      ]
     },
     "execution_count": 12,
     "metadata": {},
     "output_type": "execute_result"
    }
   ],
   "source": [
    "PasajerosAerolineas[\"NumeroDePasajeros\"].value_counts()"
   ]
  },
  {
   "cell_type": "markdown",
   "id": "79ff9bc1",
   "metadata": {},
   "source": [
    "* Observamos que la mayoria de los vuelos son de 1 solo pasajero"
   ]
  },
  {
   "cell_type": "code",
   "execution_count": 13,
   "id": "823a9dae",
   "metadata": {},
   "outputs": [
    {
     "data": {
      "text/plain": [
       "Internet    44383\n",
       "Mobile       5619\n",
       "Name: CanalDeVenta, dtype: int64"
      ]
     },
     "execution_count": 13,
     "metadata": {},
     "output_type": "execute_result"
    }
   ],
   "source": [
    "PasajerosAerolineas[\"CanalDeVenta\"].value_counts()"
   ]
  },
  {
   "cell_type": "markdown",
   "id": "45f96cd2",
   "metadata": {},
   "source": [
    "* Visualizamos que el canal de preferencia es \"Internet\""
   ]
  },
  {
   "cell_type": "code",
   "execution_count": 14,
   "id": "26202a79",
   "metadata": {},
   "outputs": [
    {
     "data": {
      "text/plain": [
       "RoundTrip     49498\n",
       "OneWay          387\n",
       "CircleTrip      117\n",
       "Name: TipoDeViaje, dtype: int64"
      ]
     },
     "execution_count": 14,
     "metadata": {},
     "output_type": "execute_result"
    }
   ],
   "source": [
    "PasajerosAerolineas[\"TipoDeViaje\"].value_counts()"
   ]
  },
  {
   "cell_type": "markdown",
   "id": "2b0855c7",
   "metadata": {},
   "source": [
    "* La preferencia de los clientes es reservar pasajes de \"Ida y Vuelta\" / \"RoundTrip\""
   ]
  },
  {
   "cell_type": "code",
   "execution_count": 15,
   "id": "0d65b6b6",
   "metadata": {},
   "outputs": [
    {
     "data": {
      "text/plain": [
       "6      7757\n",
       "5      7286\n",
       "4      5655\n",
       "3      2839\n",
       "17     1849\n",
       "       ... \n",
       "379       1\n",
       "226       1\n",
       "415       1\n",
       "778       1\n",
       "12        1\n",
       "Name: Estadia, Length: 336, dtype: int64"
      ]
     },
     "execution_count": 15,
     "metadata": {},
     "output_type": "execute_result"
    }
   ],
   "source": [
    "PasajerosAerolineas[\"Estadia\"].value_counts()"
   ]
  },
  {
   "cell_type": "markdown",
   "id": "3a462dd2",
   "metadata": {},
   "source": [
    "* La estadia mas frecuente es de 6 dias de duracion"
   ]
  },
  {
   "cell_type": "code",
   "execution_count": 16,
   "id": "7edd9c9a",
   "metadata": {},
   "outputs": [
    {
     "data": {
      "text/plain": [
       "array([ 12,  19,  20,  22,  31,  48,  33,  30,  25,  43,  24,  17,  34,\n",
       "        18,  37,  29, 155,  88,  27,  21,  28,  47,  35,  82,  26,  90,\n",
       "        23,  84,  61,  40,  96,  69,  89,  58,  56, 110,  45, 165, 111,\n",
       "        38, 207,  91,   1, 274,  44,  57, 106,  68,  87,  51, 196,  77,\n",
       "        41, 278, 108, 180,  72,  32,  62,  50,  59, 125, 124,  46,  55,\n",
       "        60,  36,  65, 208, 204,  83,  42,  85,  64,  86,  54, 238, 275,\n",
       "        39,  95,  70,  93,  49, 107, 121, 203, 188,  78, 209, 126,  80,\n",
       "       200, 255,  63,  92, 118,  79, 181,  76,  94, 305, 149, 177, 183,\n",
       "       162,  71, 109,  52, 140,  66, 184, 152,  53, 291, 329,  75, 130,\n",
       "       142, 175,  73, 304, 186, 116, 101, 223, 415, 312, 143,  81, 144,\n",
       "       134, 135, 117, 120, 138, 153,  74, 261, 103, 104, 112, 157, 266,\n",
       "        98, 318,  67, 273, 105, 148, 102, 119, 122, 603, 465, 409, 128,\n",
       "       233,  99, 113, 147, 127,  97, 170, 156, 160, 182, 115, 158,   0,\n",
       "       357, 173, 228, 205, 178, 123, 352, 141, 139, 129, 301, 176, 332,\n",
       "       217, 358, 285, 163, 359, 348, 392, 179, 132, 431, 236, 353, 137,\n",
       "       146, 174, 224, 164, 306, 252, 171, 347, 185, 150, 361, 189, 343,\n",
       "       151, 133, 230, 215, 256, 365, 168, 335, 349, 355, 331, 199, 254,\n",
       "       100, 321, 245, 350, 326, 351, 356, 360, 262, 364, 229, 193, 194,\n",
       "       131, 114, 191, 235, 239, 225, 190, 166, 280, 136, 330, 169, 345,\n",
       "       362, 240, 145, 159, 267, 363, 192, 161, 322, 315, 289, 244, 327,\n",
       "       308, 610, 172, 260, 778, 167, 226, 379, 334, 313, 342, 284, 237,\n",
       "       532, 513, 201, 206, 221, 242, 369, 290, 297, 388, 282, 218, 286,\n",
       "       271, 259, 510, 272, 292, 197, 277, 268, 435, 276, 220, 338, 303,\n",
       "       222, 187, 247, 198, 195, 214, 337, 241, 311, 279, 316, 287, 478,\n",
       "       399, 210, 341, 250, 202, 573, 216, 211, 773, 339, 294, 154, 517,\n",
       "       462, 577, 231, 293, 213, 263,   2,   3,   4,   5,   6], dtype=int64)"
      ]
     },
     "execution_count": 16,
     "metadata": {},
     "output_type": "execute_result"
    }
   ],
   "source": [
    "PasajerosAerolineas[\"Estadia\"].unique()"
   ]
  },
  {
   "cell_type": "code",
   "execution_count": 17,
   "id": "da35a90c",
   "metadata": {},
   "outputs": [
    {
     "data": {
      "text/plain": [
       "8     3165\n",
       "12    3163\n",
       "9     3133\n",
       "7     3126\n",
       "11    3110\n",
       "13    3101\n",
       "10    3085\n",
       "6     3051\n",
       "5     2851\n",
       "4     2843\n",
       "14    2833\n",
       "3     2655\n",
       "2     2642\n",
       "15    2234\n",
       "1     2089\n",
       "16    1557\n",
       "0     1539\n",
       "23     986\n",
       "17     861\n",
       "22     579\n",
       "18     439\n",
       "21     389\n",
       "19     295\n",
       "20     276\n",
       "Name: HorarioDelVuelo, dtype: int64"
      ]
     },
     "execution_count": 17,
     "metadata": {},
     "output_type": "execute_result"
    }
   ],
   "source": [
    "PasajerosAerolineas[\"HorarioDelVuelo\"].value_counts()"
   ]
  },
  {
   "cell_type": "markdown",
   "id": "f4f5b3cb",
   "metadata": {},
   "source": [
    "* Los horarios de vuelo mas elegido son 8 AM, 12 AM y 9 AM"
   ]
  },
  {
   "cell_type": "code",
   "execution_count": 18,
   "id": "1ca8b342",
   "metadata": {},
   "outputs": [
    {
     "data": {
      "text/plain": [
       "Mon    8102\n",
       "Wed    7675\n",
       "Tue    7674\n",
       "Thu    7424\n",
       "Fri    6761\n",
       "Sun    6554\n",
       "Sat    5812\n",
       "Name: DiaDelVuelo, dtype: int64"
      ]
     },
     "execution_count": 18,
     "metadata": {},
     "output_type": "execute_result"
    }
   ],
   "source": [
    "PasajerosAerolineas[\"DiaDelVuelo\"].value_counts()"
   ]
  },
  {
   "cell_type": "markdown",
   "id": "9bf20f1e",
   "metadata": {},
   "source": [
    "* El dia mas elegido para volar es el dia lunes"
   ]
  },
  {
   "cell_type": "code",
   "execution_count": 19,
   "id": "eb966c2c",
   "metadata": {},
   "outputs": [
    {
     "data": {
      "text/plain": [
       "AKLKUL    2680\n",
       "PENTPE     924\n",
       "MELSGN     842\n",
       "ICNSIN     801\n",
       "DMKKIX     744\n",
       "          ... \n",
       "DELKBR       1\n",
       "LBUTPE       1\n",
       "KOSSYD       1\n",
       "OOLWUH       1\n",
       "MRUXIY       1\n",
       "Name: Ruta, Length: 799, dtype: int64"
      ]
     },
     "execution_count": 19,
     "metadata": {},
     "output_type": "execute_result"
    }
   ],
   "source": [
    "PasajerosAerolineas[\"Ruta\"].value_counts()"
   ]
  },
  {
   "cell_type": "code",
   "execution_count": 20,
   "id": "ccb0e56d",
   "metadata": {},
   "outputs": [
    {
     "data": {
      "text/plain": [
       "array(['AKLHGH', 'AKLDEL', 'AKLHND', 'AKLICN', 'AKLKIX', 'AKLKTM',\n",
       "       'AKLKUL', 'AKLMRU', 'AKLPEK', 'AKLPVG', 'AKLTPE', 'AORICN',\n",
       "       'AORKIX', 'AORKTM', 'AORMEL', 'BBIMEL', 'BBIOOL', 'BBIPER',\n",
       "       'BBISYD', 'BDOCTS', 'BDOCTU', 'BDOHGH', 'BDOICN', 'BDOIKA',\n",
       "       'BDOKIX', 'BDOMEL', 'BDOOOL', 'BDOPEK', 'BDOPER', 'BDOPUS',\n",
       "       'BDOPVG', 'BDOSYD', 'BDOTPE', 'BDOXIY', 'BKICKG', 'BKICTS',\n",
       "       'BKICTU', 'BKIHND', 'BKIICN', 'BKIKIX', 'BKIKTM', 'BKIMEL',\n",
       "       'BKIMRU', 'BKIOOL', 'BKIPEK', 'BKIPER', 'BKIPUS', 'BKIPVG',\n",
       "       'BKISYD', 'BKIXIY', 'BLRICN', 'BLRMEL', 'BLRPER', 'BLRSYD',\n",
       "       'BOMMEL', 'BOMOOL', 'BOMPER', 'BOMSYD', 'BTJJED', 'BTUICN',\n",
       "       'BTUPER', 'BTUSYD', 'BTUWUH', 'BWNCKG', 'BWNDEL', 'BWNHGH',\n",
       "       'BWNIKA', 'BWNKTM', 'BWNMEL', 'BWNOOL', 'BWNPER', 'BWNSYD',\n",
       "       'BWNTPE', 'CANDEL', 'CANIKA', 'CANMEL', 'CANMRU', 'CANOOL',\n",
       "       'CANPER', 'CANSYD', 'CCUMEL', 'CCUMRU', 'CCUOOL', 'CCUPER',\n",
       "       'CCUSYD', 'CCUTPE', 'CEBMEL', 'CEBOOL', 'CEBPER', 'CEBSYD',\n",
       "       'CGKCKG', 'CGKCTS', 'CGKCTU', 'CGKDEL', 'CGKHGH', 'CGKHND',\n",
       "       'CGKICN', 'CGKIKA', 'CGKJED', 'CGKKIX', 'CGKKTM', 'CGKMEL',\n",
       "       'CGKMRU', 'CGKOOL', 'CGKPEK', 'CGKPER', 'CGKPUS', 'CGKPVG',\n",
       "       'CGKSYD', 'CGKTPE', 'CGKWUH', 'CGKXIY', 'CKGCOK', 'CKGDPS',\n",
       "       'CKGJHB', 'CKGKCH', 'CKGLOP', 'CKGMAA', 'CKGMEL', 'CKGMYY',\n",
       "       'CKGOOL', 'CKGPEN', 'CKGPER', 'CKGPNH', 'CKGSBW', 'CKGSIN',\n",
       "       'CKGSUB', 'CKGSYD', 'CKGTGG', 'CKGTRZ', 'CKGTWU', 'CMBCTS',\n",
       "       'CMBCTU', 'CMBHGH', 'CMBHND', 'CMBICN', 'CMBKIX', 'CMBMEL',\n",
       "       'CMBMRU', 'CMBOOL', 'CMBPEK', 'CMBPER', 'CMBPVG', 'CMBSYD',\n",
       "       'CMBWUH', 'CNXHND', 'CNXICN', 'CNXKIX', 'CNXMEL', 'CNXOOL',\n",
       "       'CNXPEK', 'CNXPER', 'CNXPVG', 'CNXSYD', 'CNXTPE', 'COKCTU',\n",
       "       'COKHGH', 'COKICN', 'COKKIX', 'COKMEL', 'COKOOL', 'COKPER',\n",
       "       'COKPUS', 'COKSYD', 'COKTPE', 'COKWUH', 'CRKMEL', 'CRKOOL',\n",
       "       'CRKSYD', 'CSXPER', 'CTSDMK', 'CTSDPS', 'CTSHKT', 'CTSJHB',\n",
       "       'CTSKBR', 'CTSKCH', 'CTSKNO', 'CTSLGK', 'CTSMEL', 'CTSMYY',\n",
       "       'CTSOOL', 'CTSPEN', 'CTSPER', 'CTSSGN', 'CTSSIN', 'CTSSUB',\n",
       "       'CTSSYD', 'CTUDPS', 'CTUHKT', 'CTUIKA', 'CTUJHB', 'CTUKBV',\n",
       "       'CTUKCH', 'CTUKNO', 'CTUMAA', 'CTUMEL', 'CTUMRU', 'CTUMYY',\n",
       "       'CTUOOL', 'CTUPEN', 'CTUPER', 'CTUSBW', 'CTUSIN', 'CTUSUB',\n",
       "       'CTUSYD', 'CTUTGG', 'CTUTRZ', 'CTUTWU', 'CXRMEL', 'DACHGH',\n",
       "       'DACHND', 'DACICN', 'DACKIX', 'DACMEL', 'DACOOL', 'DACPER',\n",
       "       'DACSYD', 'DACTPE', 'DADMEL', 'DADOOL', 'DADSYD', 'DELDMK',\n",
       "       'DELDPS', 'DELHKG', 'DELHKT', 'DELHND', 'DELJHB', 'DELJOG',\n",
       "       'DELKBV', 'DELKCH', 'DELKIX', 'DELKNO', 'DELLGK', 'DELMEL',\n",
       "       'DELMFM', 'DELMNL', 'DELMRU', 'DELMYY', 'DELOOL', 'DELPEN',\n",
       "       'DELPER', 'DELPNH', 'DELSBW', 'DELSGN', 'DELSIN', 'DELSUB',\n",
       "       'DELSYD', 'DELSZX', 'DMKHGH', 'DMKHND', 'DMKICN', 'DMKIKA',\n",
       "       'DMKKIX', 'DMKKTM', 'DMKMEL', 'DMKMRU', 'DMKOOL', 'DMKPEK',\n",
       "       'DMKPER', 'DMKPUS', 'DMKPVG', 'DMKSYD', 'DMKTPE', 'DPSHGH',\n",
       "       'DPSHND', 'DPSICN', 'DPSIKA', 'DPSKIX', 'DPSKTM', 'DPSMEL',\n",
       "       'DPSMRU', 'DPSOOL', 'DPSPEK', 'DPSPUS', 'DPSPVG', 'DPSSYD',\n",
       "       'DPSTPE', 'DPSXIY', 'GOIKUL', 'GOIMEL', 'GOIOOL', 'GOIPER',\n",
       "       'GOISYD', 'HANKTM', 'HANMEL', 'HANOOL', 'HANPER', 'HANSYD',\n",
       "       'HDYHGH', 'HDYKTM', 'HDYMEL', 'HDYOOL', 'HDYPEK', 'HDYPER',\n",
       "       'HDYPVG', 'HDYSYD', 'HDYTPE', 'HGHHKT', 'HGHJHB', 'HGHJOG',\n",
       "       'HGHKBR', 'HGHKBV', 'HGHKCH', 'HGHKNO', 'HGHLGK', 'HGHLOP',\n",
       "       'HGHMAA', 'HGHMEL', 'HGHMYY', 'HGHOOL', 'HGHPEN', 'HGHPER',\n",
       "       'HGHSBW', 'HGHSUB', 'HGHSYD', 'HGHTRZ', 'HKGIKA', 'HKGKTM',\n",
       "       'HKGMEL', 'HKGMRU', 'HKGOOL', 'HKGPER', 'HKGSYD', 'HKTHND',\n",
       "       'HKTICN', 'HKTKIX', 'HKTKTM', 'HKTMEL', 'HKTMRU', 'HKTOOL',\n",
       "       'HKTPEK', 'HKTPER', 'HKTPUS', 'HKTPVG', 'HKTSYD', 'HKTTPE',\n",
       "       'HKTXIY', 'HNDIKA', 'HNDJOG', 'HNDKBR', 'HNDKBV', 'HNDKCH',\n",
       "       'HNDKNO', 'HNDKTM', 'HNDLGK', 'HNDLOP', 'HNDMAA', 'HNDMEL',\n",
       "       'HNDMLE', 'HNDOOL', 'HNDPEN', 'HNDPER', 'HNDPNH', 'HNDREP',\n",
       "       'HNDRGN', 'HNDSBW', 'HNDSGN', 'HNDSIN', 'HNDSUB', 'HNDSYD',\n",
       "       'HNDTRZ', 'HYDMEL', 'HYDOOL', 'HYDPER', 'HYDSYD', 'HYDWUH',\n",
       "       'ICNIKA', 'ICNJED', 'ICNJHB', 'ICNKBR', 'ICNKBV', 'ICNKCH',\n",
       "       'ICNKNO', 'ICNKTM', 'ICNLGK', 'ICNMAA', 'ICNMEL', 'ICNMLE',\n",
       "       'ICNMYY', 'ICNOOL', 'ICNPEN', 'ICNPER', 'ICNREP', 'ICNRGN',\n",
       "       'ICNSBW', 'ICNSDK', 'ICNSGN', 'ICNSIN', 'ICNSUB', 'ICNSYD',\n",
       "       'ICNTRZ', 'ICNVTZ', 'IKAKCH', 'IKAKIX', 'IKALOP', 'IKAMEL',\n",
       "       'IKAMFM', 'IKAMNL', 'IKAOOL', 'IKAPEK', 'IKAPEN', 'IKAPER',\n",
       "       'IKAPUS', 'IKAPVG', 'IKASGN', 'IKASIN', 'IKASUB', 'IKASYD',\n",
       "       'IKATPE', 'JEDJOG', 'JEDKNO', 'JEDMEL', 'JEDMNL', 'JEDPDG',\n",
       "       'JEDPEN', 'JEDSUB', 'JHBKIX', 'JHBKTM', 'JHBMEL', 'JHBMRU',\n",
       "       'JHBPEK', 'JHBPUS', 'JHBPVG', 'JHBSYD', 'JHBTPE', 'JHBWUH',\n",
       "       'JHBXIY', 'JOGKIX', 'JOGKTM', 'JOGMEL', 'JOGOOL', 'JOGPER',\n",
       "       'JOGPVG', 'JOGSYD', 'JOGTPE', 'KBRKIX', 'KBRKTM', 'KBRMEL',\n",
       "       'KBROOL', 'KBRPEK', 'KBRPER', 'KBRPVG', 'KBRSYD', 'KBRTPE',\n",
       "       'KBVKTM', 'KBVMEL', 'KBVOOL', 'KBVPEK', 'KBVPER', 'KBVPVG',\n",
       "       'KBVSYD', 'KCHKIX', 'KCHKTM', 'KCHMEL', 'KCHMRU', 'KCHOOL',\n",
       "       'KCHPEK', 'KCHPER', 'KCHPUS', 'KCHPVG', 'KCHSYD', 'KCHTPE',\n",
       "       'KCHXIY', 'KHHMEL', 'KHHOOL', 'KHHPER', 'KHHSYD', 'KIXKNO',\n",
       "       'KIXKTM', 'KIXLGK', 'KIXLOP', 'KIXMAA', 'KIXMEL', 'KIXMLE',\n",
       "       'KIXMYY', 'KIXOOL', 'KIXPEN', 'KIXPER', 'KIXPNH', 'KIXREP',\n",
       "       'KIXRGN', 'KIXSBW', 'KIXSGN', 'KIXSIN', 'KIXSUB', 'KIXSYD',\n",
       "       'KIXTGG', 'KIXTRZ', 'KLOMEL', 'KLOOOL', 'KNOKTM', 'KNOMEL',\n",
       "       'KNOOOL', 'KNOPEK', 'KNOPER', 'KNOPUS', 'KNOPVG', 'KNOSYD',\n",
       "       'KNOTPE', 'KNOXIY', 'KOSMEL', 'KOSOOL', 'KOSPEK', 'KOSSYD',\n",
       "       'KTMMEL', 'KTMMFM', 'KTMMYY', 'KTMPEN', 'KTMPER', 'KTMREP',\n",
       "       'KTMSGN', 'KTMSIN', 'KTMSUB', 'KTMSYD', 'KTMTGG', 'KTMTPE',\n",
       "       'KTMURT', 'KWLPER', 'LBUPER', 'LGKMEL', 'LGKOOL', 'LGKPER',\n",
       "       'LGKPUS', 'LGKPVG', 'LGKSYD', 'LGKTPE', 'LOPOOL', 'LOPPEK',\n",
       "       'LOPPVG', 'LOPSYD', 'LOPTPE', 'LOPXIY', 'LPQMEL', 'LPQOOL',\n",
       "       'LPQPER', 'LPQTPE', 'MAAMEL', 'MAAMRU', 'MAAOOL', 'MAAPER',\n",
       "       'MAAPVG', 'MAASYD', 'MAATPE', 'MAAWUH', 'MELMFM', 'MELMLE',\n",
       "       'MELMNL', 'MELMRU', 'MELMYY', 'MELPEK', 'MELPEN', 'MELPNH',\n",
       "       'MELPUS', 'MELPVG', 'MELREP', 'MELRGN', 'MELSBW', 'MELSGN',\n",
       "       'MELSIN', 'MELSUB', 'MELSWA', 'MELSZX', 'MELTGG', 'MELTPE',\n",
       "       'MELTRZ', 'MELTWU', 'MELURT', 'MELUTP', 'MELVTE', 'MELVTZ',\n",
       "       'MELWUH', 'MELXIY', 'MFMOOL', 'MFMPER', 'MFMSYD', 'MLEPEK',\n",
       "       'MLEPER', 'MLESYD', 'MNLMRU', 'MNLOOL', 'MNLPER', 'MNLSYD',\n",
       "       'MRUOOL', 'MRUPEK', 'MRUPEN', 'MRUPER', 'MRUPVG', 'MRUSGN',\n",
       "       'MRUSIN', 'MRUSUB', 'MRUSYD', 'MRUSZX', 'MYYOOL', 'MYYPER',\n",
       "       'MYYPUS', 'MYYSYD', 'MYYXIY', 'NRTSYD', 'OOLPEK', 'OOLPEN',\n",
       "       'OOLPNH', 'OOLPUS', 'OOLPVG', 'OOLREP', 'OOLRGN', 'OOLSBW',\n",
       "       'OOLSDK', 'OOLSGN', 'OOLSIN', 'OOLSUB', 'OOLSZX', 'OOLTGG',\n",
       "       'OOLTPE', 'OOLTRZ', 'OOLTWU', 'OOLURT', 'OOLUTP', 'OOLVTE',\n",
       "       'OOLWUH', 'OOLXIY', 'PEKPEN', 'PEKPER', 'PEKREP', 'PEKRGN',\n",
       "       'PEKSBW', 'PEKSIN', 'PEKSUB', 'PEKSYD', 'PEKTGG', 'PEKTRZ',\n",
       "       'PEKTWU', 'PENPER', 'PENPUS', 'PENPVG', 'PENSYD', 'PENTPE',\n",
       "       'PENWUH', 'PENXIY', 'PERPNH', 'PERPUS', 'PERPVG', 'PERREP',\n",
       "       'PERRGN', 'PERSBW', 'PERSDK', 'PERSGN', 'PERSIN', 'PERSWA',\n",
       "       'PERSZX', 'PERTGG', 'PERTPE', 'PERTRZ', 'PERTWU', 'PERUTP',\n",
       "       'PERVTE', 'PERVTZ', 'PERWUH', 'PERXIY', 'PNHSYD', 'PNHTPE',\n",
       "       'PNKTPE', 'PUSRGN', 'PUSSBW', 'PUSSGN', 'PUSSIN', 'PUSSUB',\n",
       "       'PUSSYD', 'PUSTRZ', 'PVGREP', 'PVGRGN', 'PVGSIN', 'PVGSUB',\n",
       "       'PVGSYD', 'PVGTGG', 'PVGTWU', 'PVGURT', 'REPSYD', 'REPTPE',\n",
       "       'RGNSYD', 'RGNTPE', 'SBWSYD', 'SBWTPE', 'SBWXIY', 'SDKSYD',\n",
       "       'SGNSYD', 'SGNXIY', 'SINSYD', 'SINTPE', 'SINWUH', 'SINXIY',\n",
       "       'SRGTPE', 'SUBSYD', 'SUBTPE', 'SUBXIY', 'SYDSZX', 'SYDTPE',\n",
       "       'SYDTRZ', 'SYDTWU', 'SYDVTE', 'SYDVTZ', 'SYDXIY', 'TGGTPE',\n",
       "       'TGGXIY', 'TPETRZ', 'TPEVTE', 'TRZWUH', 'TRZXIY', 'TWUXIY',\n",
       "       'HGHSGN', 'ICNTGG', 'JHBOOL', 'KBRXIY', 'KBVTPE', 'KIXTWU',\n",
       "       'LBUTPE', 'PVGSGN', 'SBWWUH', 'DELREP', 'DPSWUH', 'HKGJED',\n",
       "       'KBVKIX', 'KBVPUS', 'KIXLPQ', 'LGKPEK', 'LGKXIY', 'LOPPER',\n",
       "       'PEKSGN', 'PERSUB', 'TPETWU', 'BDOWUH', 'BKIDEL', 'CKGSGN',\n",
       "       'CTUKBR', 'CTULGK', 'CTUREP', 'DACMRU', 'DACPEK', 'DELRGN',\n",
       "       'HDYXIY', 'HGHTGG', 'HKTWUH', 'ICNVTE', 'KBRPUS', 'KCHWUH',\n",
       "       'KLOSYD', 'KNOWUH', 'MLETPE', 'SDKTPE', 'SUBWUH', 'TWUWUH',\n",
       "       'AORPUS', 'BTUCKG', 'BWNWUH', 'CKGKNO', 'CKGLGK', 'CNXDEL',\n",
       "       'CNXPUS', 'CTSJOG', 'CTSSBW', 'CTUDMK', 'CTULOP', 'DELKBR',\n",
       "       'DELURT', 'HDYKIX', 'HGHSIN', 'HGHTWU', 'HYDMRU', 'IKASZX',\n",
       "       'KBVWUH', 'KBVXIY', 'KIXLBU', 'LGKWUH', 'MELNRT', 'MLEOOL',\n",
       "       'MRUTPE', 'TPEURT', 'URTXIY', 'AORPER', 'CKGHKT', 'CKGMRU',\n",
       "       'CNXXIY', 'COKCTS', 'CSXMRU', 'CSXSYD', 'CTUMLE', 'CTUSGN',\n",
       "       'CTUSRG', 'CTUURT', 'DACPUS', 'HGHMRU', 'HKTIKA', 'HKTJED',\n",
       "       'ICNMRU', 'JEDMFM', 'KBRWUH', 'KIXMRU', 'KTMTWU', 'MLEPVG',\n",
       "       'MRUXIY'], dtype=object)"
      ]
     },
     "execution_count": 20,
     "metadata": {},
     "output_type": "execute_result"
    }
   ],
   "source": [
    "PasajerosAerolineas['Ruta'].unique()"
   ]
  },
  {
   "cell_type": "code",
   "execution_count": 21,
   "id": "f8e8b035",
   "metadata": {},
   "outputs": [],
   "source": [
    "#Podriamos tomar la decision de eliminar esta columnna ya que no es relevante para nuestra prediccion!!"
   ]
  },
  {
   "cell_type": "markdown",
   "id": "b715412e",
   "metadata": {},
   "source": [
    "* Separa los codigos en una nueva columna (iata)(icao)"
   ]
  },
  {
   "cell_type": "code",
   "execution_count": 22,
   "id": "2c1d8ea5",
   "metadata": {},
   "outputs": [
    {
     "data": {
      "text/plain": [
       "Australia               17873\n",
       "Malaysia                 7174\n",
       "South Korea              4559\n",
       "Japan                    3885\n",
       "China                    3387\n",
       "                        ...  \n",
       "Tanzania                    1\n",
       "Jordan                      1\n",
       "Lebanon                     1\n",
       "Bulgaria                    1\n",
       "Svalbard & Jan Mayen        1\n",
       "Name: OrigenReserva, Length: 104, dtype: int64"
      ]
     },
     "execution_count": 22,
     "metadata": {},
     "output_type": "execute_result"
    }
   ],
   "source": [
    "PasajerosAerolineas[\"OrigenReserva\"].value_counts()"
   ]
  },
  {
   "cell_type": "code",
   "execution_count": 23,
   "id": "7ec71fb2",
   "metadata": {},
   "outputs": [
    {
     "data": {
      "text/plain": [
       "Australia               35.744570\n",
       "Malaysia                14.347426\n",
       "South Korea              9.117635\n",
       "Japan                    7.769689\n",
       "China                    6.773729\n",
       "                          ...    \n",
       "Tanzania                 0.002000\n",
       "Jordan                   0.002000\n",
       "Lebanon                  0.002000\n",
       "Bulgaria                 0.002000\n",
       "Svalbard & Jan Mayen     0.002000\n",
       "Name: OrigenReserva, Length: 104, dtype: float64"
      ]
     },
     "execution_count": 23,
     "metadata": {},
     "output_type": "execute_result"
    }
   ],
   "source": [
    "PasajerosAerolineas[\"OrigenReserva\"].value_counts()/PasajerosAerolineas.shape[0] * 100"
   ]
  },
  {
   "cell_type": "markdown",
   "id": "3dda83f0",
   "metadata": {},
   "source": [
    "* El 35.74 % de las reservas se realizan desde Asutralia"
   ]
  },
  {
   "cell_type": "code",
   "execution_count": 24,
   "id": "8d1a39fd",
   "metadata": {},
   "outputs": [
    {
     "data": {
      "text/plain": [
       "array(['Australia', 'New Zealand', 'India', 'United Kingdom', 'China',\n",
       "       'South Korea', 'Canada', 'Japan', 'Malaysia', 'Singapore',\n",
       "       'Switzerland', 'Germany', 'Indonesia', 'Czech Republic', 'Vietnam',\n",
       "       'Thailand', 'Spain', 'Romania', 'Ireland', 'Italy', 'Slovakia',\n",
       "       'United Arab Emirates', 'Tonga', 'Réunion', '(not set)',\n",
       "       'Saudi Arabia', 'Netherlands', 'Qatar', 'Hong Kong', 'Philippines',\n",
       "       'Sri Lanka', 'France', 'Croatia', 'United States', 'Laos',\n",
       "       'Hungary', 'Portugal', 'Cyprus', 'Cambodia', 'Poland', 'Belgium',\n",
       "       'Oman', 'Bangladesh', 'Kazakhstan', 'Brazil', 'Turkey', 'Kenya',\n",
       "       'Taiwan', 'Brunei', 'Chile', 'Bulgaria', 'Ukraine', 'Denmark',\n",
       "       'Colombia', 'Iran', 'Bahrain', 'Solomon Islands', 'Slovenia',\n",
       "       'Mauritius', 'Nepal', 'Russia', 'Kuwait', 'Mexico', 'Sweden',\n",
       "       'Austria', 'Lebanon', 'Jordan', 'Greece', 'Mongolia', 'Tanzania',\n",
       "       'Peru', 'Timor-Leste', 'Argentina', 'New Caledonia', 'Macau',\n",
       "       'Myanmar (Burma)', 'Norway', 'Panama', 'Bhutan', 'Norfolk Island',\n",
       "       'Finland', 'Nicaragua', 'Maldives', 'Egypt', 'Israel', 'Tunisia',\n",
       "       'South Africa', 'Papua New Guinea', 'Paraguay', 'Estonia',\n",
       "       'Seychelles', 'Afghanistan', 'Guam', 'Czechia', 'Malta', 'Vanuatu',\n",
       "       'Belarus', 'Pakistan', 'Iraq', 'Ghana', 'Gibraltar', 'Guatemala',\n",
       "       'Algeria', 'Svalbard & Jan Mayen'], dtype=object)"
      ]
     },
     "execution_count": 24,
     "metadata": {},
     "output_type": "execute_result"
    }
   ],
   "source": [
    "PasajerosAerolineas[\"OrigenReserva\"].unique()"
   ]
  },
  {
   "cell_type": "code",
   "execution_count": 25,
   "id": "804d2eb0",
   "metadata": {},
   "outputs": [
    {
     "data": {
      "text/plain": [
       "1    33440\n",
       "0    16562\n",
       "Name: EquipajeExtra, dtype: int64"
      ]
     },
     "execution_count": 25,
     "metadata": {},
     "output_type": "execute_result"
    }
   ],
   "source": [
    "PasajerosAerolineas[\"EquipajeExtra\"].value_counts() "
   ]
  },
  {
   "cell_type": "markdown",
   "id": "0242df23",
   "metadata": {},
   "source": [
    "* Mas de la mitad de los pasajeron eligen llevar equipaje extra"
   ]
  },
  {
   "cell_type": "code",
   "execution_count": 26,
   "id": "024fd149",
   "metadata": {},
   "outputs": [
    {
     "data": {
      "text/plain": [
       "1    66.877325\n",
       "0    33.122675\n",
       "Name: EquipajeExtra, dtype: float64"
      ]
     },
     "execution_count": 26,
     "metadata": {},
     "output_type": "execute_result"
    }
   ],
   "source": [
    "PasajerosAerolineas['EquipajeExtra'].value_counts() / PasajerosAerolineas['EquipajeExtra'].shape[0] * 100"
   ]
  },
  {
   "cell_type": "code",
   "execution_count": 27,
   "id": "fb200376",
   "metadata": {},
   "outputs": [
    {
     "data": {
      "text/plain": [
       "0    35153\n",
       "1    14849\n",
       "Name: AsientosPreferido, dtype: int64"
      ]
     },
     "execution_count": 27,
     "metadata": {},
     "output_type": "execute_result"
    }
   ],
   "source": [
    "PasajerosAerolineas[\"AsientosPreferido\"].value_counts() "
   ]
  },
  {
   "cell_type": "markdown",
   "id": "95787ca7",
   "metadata": {},
   "source": [
    "* La eleccion del asiento parece no ser relevante "
   ]
  },
  {
   "cell_type": "code",
   "execution_count": 28,
   "id": "7888d892",
   "metadata": {},
   "outputs": [
    {
     "data": {
      "text/plain": [
       "0    28644\n",
       "1    21358\n",
       "Name: QuiereComidaEnVuelo, dtype: int64"
      ]
     },
     "execution_count": 28,
     "metadata": {},
     "output_type": "execute_result"
    }
   ],
   "source": [
    "PasajerosAerolineas[\"QuiereComidaEnVuelo\"].value_counts() "
   ]
  },
  {
   "cell_type": "markdown",
   "id": "0a8c6e44",
   "metadata": {},
   "source": [
    "* La mayoria de los pasajero prefieron no comer durante el vuelo"
   ]
  },
  {
   "cell_type": "code",
   "execution_count": 29,
   "id": "beaa4820",
   "metadata": {},
   "outputs": [
    {
     "data": {
      "text/plain": [
       "8.83    14520\n",
       "8.58     6965\n",
       "5.62     5524\n",
       "6.62     4721\n",
       "7.00     3374\n",
       "7.57     2835\n",
       "4.67     2743\n",
       "6.42     1737\n",
       "5.33     1554\n",
       "4.75     1255\n",
       "6.33     1190\n",
       "8.67      807\n",
       "5.52      668\n",
       "5.07      512\n",
       "4.72      502\n",
       "8.15      311\n",
       "5.00      241\n",
       "7.42      224\n",
       "4.83      156\n",
       "5.13      125\n",
       "9.50       37\n",
       "7.21        1\n",
       "Name: DuracionDelVuelo, dtype: int64"
      ]
     },
     "execution_count": 29,
     "metadata": {},
     "output_type": "execute_result"
    }
   ],
   "source": [
    "PasajerosAerolineas[\"DuracionDelVuelo\"].value_counts() "
   ]
  },
  {
   "cell_type": "markdown",
   "id": "5218c52c",
   "metadata": {},
   "source": [
    "* El promedio de duracion de los vuelos es de 8 hs"
   ]
  },
  {
   "cell_type": "code",
   "execution_count": 30,
   "id": "5ff079af",
   "metadata": {},
   "outputs": [
    {
     "data": {
      "text/plain": [
       "0    42523\n",
       "1     7479\n",
       "Name: ReservaCompleta, dtype: int64"
      ]
     },
     "execution_count": 30,
     "metadata": {},
     "output_type": "execute_result"
    }
   ],
   "source": [
    "PasajerosAerolineas[\"ReservaCompleta\"].value_counts() "
   ]
  },
  {
   "cell_type": "code",
   "execution_count": 31,
   "id": "0d3e5d13",
   "metadata": {},
   "outputs": [
    {
     "data": {
      "text/plain": [
       "CanalDeVenta  TipoDeViaje\n",
       "Internet      CircleTrip     7.834911\n",
       "              OneWay         8.003225\n",
       "              RoundTrip      7.290835\n",
       "Mobile        CircleTrip     5.746000\n",
       "              OneWay         7.219444\n",
       "              RoundTrip      7.115645\n",
       "Name: DuracionDelVuelo, dtype: float64"
      ]
     },
     "execution_count": 31,
     "metadata": {},
     "output_type": "execute_result"
    }
   ],
   "source": [
    "PasajerosAerolineas.groupby(by=['CanalDeVenta', 'TipoDeViaje'])['DuracionDelVuelo'].mean()"
   ]
  },
  {
   "cell_type": "code",
   "execution_count": 32,
   "id": "15a7cfd6",
   "metadata": {},
   "outputs": [
    {
     "data": {
      "text/plain": [
       "EquipajeExtra  Estadia\n",
       "0              0             2\n",
       "               1           143\n",
       "               2           577\n",
       "               3          1662\n",
       "               4          2740\n",
       "                          ... \n",
       "1              517           1\n",
       "               532           1\n",
       "               573           1\n",
       "               610           1\n",
       "               773           1\n",
       "Name: NumeroDePasajeros, Length: 514, dtype: int64"
      ]
     },
     "execution_count": 32,
     "metadata": {},
     "output_type": "execute_result"
    }
   ],
   "source": [
    "PasajerosAerolineas.groupby(by=['EquipajeExtra','Estadia'])['NumeroDePasajeros'].count()"
   ]
  },
  {
   "cell_type": "markdown",
   "id": "4857a6c6",
   "metadata": {},
   "source": [
    "## Visualización de datos"
   ]
  },
  {
   "cell_type": "code",
   "execution_count": 33,
   "id": "e41d8aa3",
   "metadata": {},
   "outputs": [
    {
     "data": {
      "text/plain": [
       "Index(['NumeroDePasajeros', 'CanalDeVenta', 'TipoDeViaje', 'ClientePotencial',\n",
       "       'Estadia', 'HorarioDelVuelo', 'DiaDelVuelo', 'Ruta', 'OrigenReserva',\n",
       "       'EquipajeExtra', 'AsientosPreferido', 'QuiereComidaEnVuelo',\n",
       "       'DuracionDelVuelo', 'ReservaCompleta'],\n",
       "      dtype='object')"
      ]
     },
     "execution_count": 33,
     "metadata": {},
     "output_type": "execute_result"
    }
   ],
   "source": [
    "PasajerosAerolineas.columns"
   ]
  },
  {
   "cell_type": "code",
   "execution_count": 34,
   "id": "a0f560cb",
   "metadata": {},
   "outputs": [
    {
     "data": {
      "image/png": "[encoded data removed]",
      "text/plain": [
       "<Figure size 640x480 with 1 Axes>"
      ]
     },
     "metadata": {},
     "output_type": "display_data"
    }
   ],
   "source": [
    "sns.countplot(x=PasajerosAerolineas['EquipajeExtra'], palette='Set1')\n",
    "sns.despine()"
   ]
  },
  {
   "cell_type": "code",
   "execution_count": 35,
   "id": "b333bb8e",
   "metadata": {},
   "outputs": [
    {
     "data": {
      "image/png": "[encoded data removed]",
      "text/plain": [
       "<Figure size 640x480 with 1 Axes>"
      ]
     },
     "metadata": {},
     "output_type": "display_data"
    }
   ],
   "source": [
    "sns.boxplot(y = PasajerosAerolineas['EquipajeExtra'], color = \"#8E44AD\")\n",
    "sns.despine()"
   ]
  },
  {
   "cell_type": "code",
   "execution_count": 36,
   "id": "76fc6daf",
   "metadata": {},
   "outputs": [
    {
     "name": "stdout",
     "output_type": "stream",
     "text": [
      "       Estadia       variable  value\n",
      "0           12  EquipajeExtra      0\n",
      "1           19  EquipajeExtra      1\n",
      "2           20  EquipajeExtra      0\n",
      "3           22  EquipajeExtra      1\n",
      "4           31  EquipajeExtra      0\n",
      "...        ...            ...    ...\n",
      "49997        6  EquipajeExtra      1\n",
      "49998        6  EquipajeExtra      0\n",
      "49999        6  EquipajeExtra      0\n",
      "50000        6  EquipajeExtra      1\n",
      "50001        6  EquipajeExtra      0\n",
      "\n",
      "[50002 rows x 3 columns]\n"
     ]
    }
   ],
   "source": [
    "boxplot_PasajerosAerolineas = PasajerosAerolineas.melt(id_vars='Estadia', value_vars=['EquipajeExtra'])\n",
    "print(boxplot_PasajerosAerolineas)"
   ]
  },
  {
   "cell_type": "code",
   "execution_count": 37,
   "id": "7a30d3f8",
   "metadata": {},
   "outputs": [
    {
     "data": {
      "text/html": [
       "<div>\n",
       "<style scoped>\n",
       "    .dataframe tbody tr th:only-of-type {\n",
       "        vertical-align: middle;\n",
       "    }\n",
       "\n",
       "    .dataframe tbody tr th {\n",
       "        vertical-align: top;\n",
       "    }\n",
       "\n",
       "    .dataframe thead th {\n",
       "        text-align: right;\n",
       "    }\n",
       "</style>\n",
       "<table border=\"1\" class=\"dataframe\">\n",
       "  <thead>\n",
       "    <tr style=\"text-align: right;\">\n",
       "      <th></th>\n",
       "      <th>Estadia</th>\n",
       "      <th>variable</th>\n",
       "      <th>value</th>\n",
       "    </tr>\n",
       "  </thead>\n",
       "  <tbody>\n",
       "    <tr>\n",
       "      <th>0</th>\n",
       "      <td>12</td>\n",
       "      <td>EquipajeExtra</td>\n",
       "      <td>0</td>\n",
       "    </tr>\n",
       "    <tr>\n",
       "      <th>1</th>\n",
       "      <td>19</td>\n",
       "      <td>EquipajeExtra</td>\n",
       "      <td>1</td>\n",
       "    </tr>\n",
       "    <tr>\n",
       "      <th>2</th>\n",
       "      <td>20</td>\n",
       "      <td>EquipajeExtra</td>\n",
       "      <td>0</td>\n",
       "    </tr>\n",
       "    <tr>\n",
       "      <th>3</th>\n",
       "      <td>22</td>\n",
       "      <td>EquipajeExtra</td>\n",
       "      <td>1</td>\n",
       "    </tr>\n",
       "    <tr>\n",
       "      <th>4</th>\n",
       "      <td>31</td>\n",
       "      <td>EquipajeExtra</td>\n",
       "      <td>0</td>\n",
       "    </tr>\n",
       "  </tbody>\n",
       "</table>\n",
       "</div>"
      ],
      "text/plain": [
       "   Estadia       variable  value\n",
       "0       12  EquipajeExtra      0\n",
       "1       19  EquipajeExtra      1\n",
       "2       20  EquipajeExtra      0\n",
       "3       22  EquipajeExtra      1\n",
       "4       31  EquipajeExtra      0"
      ]
     },
     "execution_count": 37,
     "metadata": {},
     "output_type": "execute_result"
    }
   ],
   "source": [
    "boxplot_PasajerosAerolineas.head()"
   ]
  },
  {
   "cell_type": "code",
   "execution_count": 38,
   "id": "d191df60",
   "metadata": {},
   "outputs": [
    {
     "name": "stderr",
     "output_type": "stream",
     "text": [
      "C:\\Users\\aldye\\AppData\\Local\\Temp\\ipykernel_13168\\1722011365.py:2: FutureWarning: The default value of numeric_only in DataFrame.corr is deprecated. In a future version, it will default to False. Select only valid columns or specify the value of numeric_only to silence this warning.\n",
      "  sns.heatmap(PasajerosAerolineas.corr(),annot=True, vmax=1, vmin=-1)\n"
     ]
    },
    {
     "data": {
      "image/png": "[encoded data removed]",
      "text/plain": [
       "<Figure size 1000x800 with 2 Axes>"
      ]
     },
     "metadata": {},
     "output_type": "display_data"
    }
   ],
   "source": [
    "plt.figure(figsize=(10,8)) \n",
    "sns.heatmap(PasajerosAerolineas.corr(),annot=True, vmax=1, vmin=-1)\n",
    "plt.title(\"Correlacion de cada columna \")\n",
    "plt.show()"
   ]
  },
  {
   "cell_type": "markdown",
   "id": "d0e4eefd",
   "metadata": {},
   "source": [
    "* Visualizamos la correlacion por cada columna"
   ]
  },
  {
   "cell_type": "markdown",
   "id": "71d49979",
   "metadata": {},
   "source": [
    "### Procesamiento y transformacion de los datos"
   ]
  },
  {
   "cell_type": "code",
   "execution_count": 39,
   "id": "7f23b07c",
   "metadata": {},
   "outputs": [],
   "source": [
    "PasajerosAerolineas['CanalDeVenta']= PasajerosAerolineas['CanalDeVenta'].apply(lambda x: 0 if x == 'Mobile' else 1)"
   ]
  },
  {
   "cell_type": "code",
   "execution_count": 40,
   "id": "35e8b0cb",
   "metadata": {},
   "outputs": [],
   "source": [
    "from sklearn.preprocessing import LabelEncoder\n"
   ]
  },
  {
   "cell_type": "code",
   "execution_count": 41,
   "id": "68c7ea3d",
   "metadata": {},
   "outputs": [],
   "source": [
    "TipoDeViaje = LabelEncoder()"
   ]
  },
  {
   "cell_type": "code",
   "execution_count": 42,
   "id": "60f44169",
   "metadata": {},
   "outputs": [],
   "source": [
    "PasajerosAerolineas['TipoDeViaje'] = TipoDeViaje.fit_transform(PasajerosAerolineas['TipoDeViaje'])"
   ]
  },
  {
   "cell_type": "code",
   "execution_count": 43,
   "id": "20316985",
   "metadata": {},
   "outputs": [],
   "source": [
    "DiaDelVuelo = LabelEncoder()"
   ]
  },
  {
   "cell_type": "code",
   "execution_count": 44,
   "id": "bbf0cd83",
   "metadata": {},
   "outputs": [],
   "source": [
    "PasajerosAerolineas['DiaDelVuelo'] = DiaDelVuelo.fit_transform(PasajerosAerolineas['DiaDelVuelo'])"
   ]
  },
  {
   "cell_type": "code",
   "execution_count": 45,
   "id": "3d48b287",
   "metadata": {},
   "outputs": [],
   "source": [
    "OrigenReserva = LabelEncoder()"
   ]
  },
  {
   "cell_type": "code",
   "execution_count": 46,
   "id": "db6be937",
   "metadata": {},
   "outputs": [],
   "source": [
    "PasajerosAerolineas['OrigenReserva'] = OrigenReserva.fit_transform(PasajerosAerolineas['OrigenReserva'])"
   ]
  },
  {
   "cell_type": "code",
   "execution_count": 47,
   "id": "c678cbfd",
   "metadata": {},
   "outputs": [],
   "source": [
    "Ruta = LabelEncoder()"
   ]
  },
  {
   "cell_type": "code",
   "execution_count": 48,
   "id": "716a4605",
   "metadata": {},
   "outputs": [],
   "source": [
    "PasajerosAerolineas['Ruta'] = Ruta.fit_transform(PasajerosAerolineas['Ruta'])"
   ]
  },
  {
   "cell_type": "code",
   "execution_count": 49,
   "id": "05c61d5a",
   "metadata": {},
   "outputs": [
    {
     "data": {
      "text/plain": [
       "NumeroDePasajeros        int64\n",
       "CanalDeVenta             int64\n",
       "TipoDeViaje              int32\n",
       "ClientePotencial         int64\n",
       "Estadia                  int64\n",
       "HorarioDelVuelo          int64\n",
       "DiaDelVuelo              int32\n",
       "Ruta                     int32\n",
       "OrigenReserva            int32\n",
       "EquipajeExtra            int64\n",
       "AsientosPreferido        int64\n",
       "QuiereComidaEnVuelo      int64\n",
       "DuracionDelVuelo       float64\n",
       "ReservaCompleta          int64\n",
       "dtype: object"
      ]
     },
     "execution_count": 49,
     "metadata": {},
     "output_type": "execute_result"
    }
   ],
   "source": [
    "PasajerosAerolineas.dtypes"
   ]
  },
  {
   "cell_type": "code",
   "execution_count": 50,
   "id": "37c113a9",
   "metadata": {},
   "outputs": [],
   "source": [
    "PasajerosAerolineas['DuracionDelVuelo'] = PasajerosAerolineas['DuracionDelVuelo'].round()"
   ]
  },
  {
   "cell_type": "code",
   "execution_count": 51,
   "id": "851ffc4d",
   "metadata": {},
   "outputs": [
    {
     "data": {
      "text/plain": [
       "0        7\n",
       "1        6\n",
       "2        6\n",
       "3        6\n",
       "4        6\n",
       "        ..\n",
       "49997    6\n",
       "49998    6\n",
       "49999    6\n",
       "50000    6\n",
       "50001    6\n",
       "Name: DuracionDelVuelo, Length: 50002, dtype: int32"
      ]
     },
     "execution_count": 51,
     "metadata": {},
     "output_type": "execute_result"
    }
   ],
   "source": [
    "PasajerosAerolineas['DuracionDelVuelo'].astype(int)"
   ]
  },
  {
   "cell_type": "markdown",
   "id": "022e931e",
   "metadata": {},
   "source": [
    "### Seleccion de target (y) y variables (X)"
   ]
  },
  {
   "cell_type": "code",
   "execution_count": 52,
   "id": "2068d6f9",
   "metadata": {},
   "outputs": [],
   "source": [
    "x = PasajerosAerolineas.drop(['EquipajeExtra'], axis=1)"
   ]
  },
  {
   "cell_type": "code",
   "execution_count": 53,
   "id": "e47fa806",
   "metadata": {},
   "outputs": [
    {
     "data": {
      "text/plain": [
       "(50002, 13)"
      ]
     },
     "execution_count": 53,
     "metadata": {},
     "output_type": "execute_result"
    }
   ],
   "source": [
    "x.shape"
   ]
  },
  {
   "cell_type": "code",
   "execution_count": 54,
   "id": "773d0799",
   "metadata": {},
   "outputs": [],
   "source": [
    "y = PasajerosAerolineas ['EquipajeExtra']"
   ]
  },
  {
   "cell_type": "code",
   "execution_count": 55,
   "id": "81b5debb",
   "metadata": {},
   "outputs": [],
   "source": [
    "x, y = np.array(x), np.array(y)"
   ]
  },
  {
   "cell_type": "markdown",
   "id": "4d1f65d8",
   "metadata": {},
   "source": [
    "#### Separando Train / Test"
   ]
  },
  {
   "cell_type": "code",
   "execution_count": 56,
   "id": "557f6b20",
   "metadata": {},
   "outputs": [],
   "source": [
    "# Importamos la librearia para separar el dataset.\n",
    "from sklearn.model_selection import train_test_split"
   ]
  },
  {
   "cell_type": "code",
   "execution_count": 57,
   "id": "81f9d37e",
   "metadata": {},
   "outputs": [],
   "source": [
    "X_train, X_test, y_train, y_test = train_test_split(x, y, test_size=0.2,\n",
    "                                                    random_state=42)"
   ]
  },
  {
   "cell_type": "code",
   "execution_count": 58,
   "id": "a4aca6bc",
   "metadata": {},
   "outputs": [
    {
     "data": {
      "text/plain": [
       "(40001, 13)"
      ]
     },
     "execution_count": 58,
     "metadata": {},
     "output_type": "execute_result"
    }
   ],
   "source": [
    "X_train.shape"
   ]
  },
  {
   "cell_type": "code",
   "execution_count": 59,
   "id": "58abefd9",
   "metadata": {},
   "outputs": [
    {
     "data": {
      "text/plain": [
       "(10001, 13)"
      ]
     },
     "execution_count": 59,
     "metadata": {},
     "output_type": "execute_result"
    }
   ],
   "source": [
    "X_test.shape"
   ]
  },
  {
   "cell_type": "markdown",
   "id": "6bad6f32",
   "metadata": {},
   "source": [
    "### Modelos"
   ]
  },
  {
   "cell_type": "code",
   "execution_count": 60,
   "id": "46bb1200",
   "metadata": {},
   "outputs": [],
   "source": [
    "from sklearn.neighbors import KNeighborsClassifier"
   ]
  },
  {
   "cell_type": "code",
   "execution_count": 61,
   "id": "816c70f6",
   "metadata": {},
   "outputs": [],
   "source": [
    "from sklearn.ensemble import RandomForestClassifier"
   ]
  },
  {
   "cell_type": "code",
   "execution_count": 62,
   "id": "8a10f058",
   "metadata": {},
   "outputs": [],
   "source": [
    "from sklearn.model_selection import GridSearchCV"
   ]
  },
  {
   "cell_type": "code",
   "execution_count": 63,
   "id": "af752c6c",
   "metadata": {},
   "outputs": [],
   "source": [
    "# metricas\n",
    "from sklearn.metrics import (\n",
    "    accuracy_score,\n",
    "    confusion_matrix,\n",
    "    precision_score,\n",
    "    recall_score,\n",
    "    f1_score\n",
    ")"
   ]
  },
  {
   "cell_type": "markdown",
   "id": "dd714a72",
   "metadata": {},
   "source": [
    "\n",
    "\n",
    "### Clasificador kNN"
   ]
  },
  {
   "cell_type": "code",
   "execution_count": 64,
   "id": "477aef2b",
   "metadata": {},
   "outputs": [],
   "source": [
    "knn = KNeighborsClassifier()"
   ]
  },
  {
   "cell_type": "code",
   "execution_count": 65,
   "id": "6a1e4029",
   "metadata": {
    "scrolled": true
   },
   "outputs": [],
   "source": [
    "# Entrenamos el modelo\n",
    "knn.fit(X_train, y_train);"
   ]
  },
  {
   "cell_type": "code",
   "execution_count": 66,
   "id": "65a980e6",
   "metadata": {},
   "outputs": [],
   "source": [
    "ACC_train = []\n",
    "ACC_test = []\n",
    "\n",
    "vecinos = [1, 3, 5, 10, 15, 20, 27, 50]\n",
    "for n in vecinos:\n",
    "    \n",
    "    clf = KNeighborsClassifier(n_neighbors=n)\n",
    "    \n",
    "    clf.fit(X_train, y_train)\n",
    "    y_train_pred = clf.predict(X_train)\n",
    "    \n",
    "    train_acc = accuracy_score(y_train, y_train_pred)\n",
    "    ACC_train.append(train_acc)\n",
    "    \n",
    "    y_test_pred = clf.predict(X_test)\n",
    "    test_acc = accuracy_score(y_test, y_test_pred)\n",
    "    ACC_test.append(test_acc)"
   ]
  },
  {
   "cell_type": "code",
   "execution_count": 67,
   "id": "e6e49511",
   "metadata": {},
   "outputs": [
    {
     "data": {
      "image/png": "[encoded data removed]",
      "text/plain": [
       "<Figure size 640x480 with 1 Axes>"
      ]
     },
     "metadata": {},
     "output_type": "display_data"
    }
   ],
   "source": [
    "plt.plot(vecinos,ACC_train,'o-',label='train', color='#DCE775')\n",
    "plt.plot(vecinos,ACC_test,'o-',label='test', color='#EC407A')\n",
    "plt.legend()\n",
    "sns.despine();"
   ]
  },
  {
   "cell_type": "code",
   "execution_count": 68,
   "id": "7398f95b",
   "metadata": {},
   "outputs": [],
   "source": [
    "# Predecimos\n",
    "#predicciones_pa = knn.predict(X_test)"
   ]
  },
  {
   "cell_type": "code",
   "execution_count": 69,
   "id": "ca8a03d6",
   "metadata": {},
   "outputs": [],
   "source": [
    "#predicciones_train = knn.predict(X_train)"
   ]
  },
  {
   "cell_type": "code",
   "execution_count": 71,
   "id": "2cbe6062",
   "metadata": {},
   "outputs": [
    {
     "name": "stdout",
     "output_type": "stream",
     "text": [
      "69.43%\n"
     ]
    }
   ],
   "source": [
    "accuracy = accuracy_score(y_train, y_train_pred)*100\n",
    "print(f'{round(accuracy, 2)}%')"
   ]
  },
  {
   "cell_type": "code",
   "execution_count": 73,
   "id": "004e8315",
   "metadata": {},
   "outputs": [
    {
     "name": "stdout",
     "output_type": "stream",
     "text": [
      "68.09%\n"
     ]
    }
   ],
   "source": [
    "accuracy = accuracy_score(y_test, y_test_pred)*100\n",
    "print(f'{round(accuracy, 2)}%')"
   ]
  },
  {
   "cell_type": "code",
   "execution_count": 89,
   "id": "e340934d",
   "metadata": {},
   "outputs": [
    {
     "name": "stdout",
     "output_type": "stream",
     "text": [
      "Accuracy: 68.09%\n",
      "Precision: 70.76%\n",
      "Recall: 89.11%\n",
      "F1 score: 78.88%\n"
     ]
    }
   ],
   "source": [
    "print(f\"Accuracy: {accuracy_score(y_test, y_test_pred)*100 :.2f}%\")\n",
    "print(f\"Precision: {precision_score(y_test, y_test_pred)*100 :.2f}%\")\n",
    "print(f\"Recall: {recall_score(y_test, y_test_pred)*100 :.2f}%\")\n",
    "print(f\"F1 score: {f1_score(y_test, y_test_pred)*100 :.2f}%\")"
   ]
  },
  {
   "cell_type": "markdown",
   "id": "82d6c1a2",
   "metadata": {},
   "source": [
    "### Random Forest"
   ]
  },
  {
   "cell_type": "code",
   "execution_count": 80,
   "id": "50ae4546",
   "metadata": {},
   "outputs": [],
   "source": [
    "rf_pa = RandomForestClassifier()"
   ]
  },
  {
   "cell_type": "code",
   "execution_count": 81,
   "id": "fecaa9b3",
   "metadata": {},
   "outputs": [
    {
     "data": {
      "text/html": [
       "<style>#sk-container-id-2 {color: black;background-color: white;}#sk-container-id-2 pre{padding: 0;}#sk-container-id-2 div.sk-toggleable {background-color: white;}#sk-container-id-2 label.sk-toggleable__label {cursor: pointer;display: block;width: 100%;margin-bottom: 0;padding: 0.3em;box-sizing: border-box;text-align: center;}#sk-container-id-2 label.sk-toggleable__label-arrow:before {content: \"▸\";float: left;margin-right: 0.25em;color: #696969;}#sk-container-id-2 label.sk-toggleable__label-arrow:hover:before {color: black;}#sk-container-id-2 div.sk-estimator:hover label.sk-toggleable__label-arrow:before {color: black;}#sk-container-id-2 div.sk-toggleable__content {max-height: 0;max-width: 0;overflow: hidden;text-align: left;background-color: #f0f8ff;}#sk-container-id-2 div.sk-toggleable__content pre {margin: 0.2em;color: black;border-radius: 0.25em;background-color: #f0f8ff;}#sk-container-id-2 input.sk-toggleable__control:checked~div.sk-toggleable__content {max-height: 200px;max-width: 100%;overflow: auto;}#sk-container-id-2 input.sk-toggleable__control:checked~label.sk-toggleable__label-arrow:before {content: \"▾\";}#sk-container-id-2 div.sk-estimator input.sk-toggleable__control:checked~label.sk-toggleable__label {background-color: #d4ebff;}#sk-container-id-2 div.sk-label input.sk-toggleable__control:checked~label.sk-toggleable__label {background-color: #d4ebff;}#sk-container-id-2 input.sk-hidden--visually {border: 0;clip: rect(1px 1px 1px 1px);clip: rect(1px, 1px, 1px, 1px);height: 1px;margin: -1px;overflow: hidden;padding: 0;position: absolute;width: 1px;}#sk-container-id-2 div.sk-estimator {font-family: monospace;background-color: #f0f8ff;border: 1px dotted black;border-radius: 0.25em;box-sizing: border-box;margin-bottom: 0.5em;}#sk-container-id-2 div.sk-estimator:hover {background-color: #d4ebff;}#sk-container-id-2 div.sk-parallel-item::after {content: \"\";width: 100%;border-bottom: 1px solid gray;flex-grow: 1;}#sk-container-id-2 div.sk-label:hover label.sk-toggleable__label {background-color: #d4ebff;}#sk-container-id-2 div.sk-serial::before {content: \"\";position: absolute;border-left: 1px solid gray;box-sizing: border-box;top: 0;bottom: 0;left: 50%;z-index: 0;}#sk-container-id-2 div.sk-serial {display: flex;flex-direction: column;align-items: center;background-color: white;padding-right: 0.2em;padding-left: 0.2em;position: relative;}#sk-container-id-2 div.sk-item {position: relative;z-index: 1;}#sk-container-id-2 div.sk-parallel {display: flex;align-items: stretch;justify-content: center;background-color: white;position: relative;}#sk-container-id-2 div.sk-item::before, #sk-container-id-2 div.sk-parallel-item::before {content: \"\";position: absolute;border-left: 1px solid gray;box-sizing: border-box;top: 0;bottom: 0;left: 50%;z-index: -1;}#sk-container-id-2 div.sk-parallel-item {display: flex;flex-direction: column;z-index: 1;position: relative;background-color: white;}#sk-container-id-2 div.sk-parallel-item:first-child::after {align-self: flex-end;width: 50%;}#sk-container-id-2 div.sk-parallel-item:last-child::after {align-self: flex-start;width: 50%;}#sk-container-id-2 div.sk-parallel-item:only-child::after {width: 0;}#sk-container-id-2 div.sk-dashed-wrapped {border: 1px dashed gray;margin: 0 0.4em 0.5em 0.4em;box-sizing: border-box;padding-bottom: 0.4em;background-color: white;}#sk-container-id-2 div.sk-label label {font-family: monospace;font-weight: bold;display: inline-block;line-height: 1.2em;}#sk-container-id-2 div.sk-label-container {text-align: center;}#sk-container-id-2 div.sk-container {/* jupyter's `normalize.less` sets `[hidden] { display: none; }` but bootstrap.min.css set `[hidden] { display: none !important; }` so we also need the `!important` here to be able to override the default hidden behavior on the sphinx rendered scikit-learn.org. See: https://github.com/scikit-learn/scikit-learn/issues/21755 */display: inline-block !important;position: relative;}#sk-container-id-2 div.sk-text-repr-fallback {display: none;}</style><div id=\"sk-container-id-2\" class=\"sk-top-container\"><div class=\"sk-text-repr-fallback\"><pre>RandomForestClassifier()</pre><b>In a Jupyter environment, please rerun this cell to show the HTML representation or trust the notebook. <br />On GitHub, the HTML representation is unable to render, please try loading this page with nbviewer.org.</b></div><div class=\"sk-container\" hidden><div class=\"sk-item\"><div class=\"sk-estimator sk-toggleable\"><input class=\"sk-toggleable__control sk-hidden--visually\" id=\"sk-estimator-id-2\" type=\"checkbox\" checked><label for=\"sk-estimator-id-2\" class=\"sk-toggleable__label sk-toggleable__label-arrow\">RandomForestClassifier</label><div class=\"sk-toggleable__content\"><pre>RandomForestClassifier()</pre></div></div></div></div></div>"
      ],
      "text/plain": [
       "RandomForestClassifier()"
      ]
     },
     "execution_count": 81,
     "metadata": {},
     "output_type": "execute_result"
    }
   ],
   "source": [
    "rf_pa.fit(X_train, y_train)"
   ]
  },
  {
   "cell_type": "code",
   "execution_count": 82,
   "id": "ab019f29",
   "metadata": {},
   "outputs": [],
   "source": [
    "# Predecimos\n",
    "predicciones_pa= rf_pa.predict(X_test)"
   ]
  },
  {
   "cell_type": "code",
   "execution_count": 83,
   "id": "6531a09f",
   "metadata": {},
   "outputs": [],
   "source": [
    "predicciones_train= rf_pa.predict(X_train)"
   ]
  },
  {
   "cell_type": "code",
   "execution_count": 84,
   "id": "064c3b83",
   "metadata": {},
   "outputs": [
    {
     "name": "stdout",
     "output_type": "stream",
     "text": [
      "73.21%\n"
     ]
    }
   ],
   "source": [
    "accuracy = accuracy_score(y_test, predicciones_pa)*100\n",
    "print(f'{round(accuracy, 2)}%')"
   ]
  },
  {
   "cell_type": "code",
   "execution_count": 85,
   "id": "c0de0ea9",
   "metadata": {},
   "outputs": [
    {
     "name": "stdout",
     "output_type": "stream",
     "text": [
      "99.9%\n"
     ]
    }
   ],
   "source": [
    "accuracy = accuracy_score(y_train, predicciones_train)*100\n",
    "print(f'{round(accuracy, 2)}%')"
   ]
  },
  {
   "cell_type": "markdown",
   "id": "11e89c47",
   "metadata": {},
   "source": [
    "**Metricas**\n",
    "\n",
    "Matriz de confusión:\n",
    "\n",
    "True Negative (TN)  |  False positive (FP)   \n",
    "= = = = = = = = = = = = = = = = = = = = =       \n",
    "False negative (FN) | True positive (TP) "
   ]
  },
  {
   "cell_type": "code",
   "execution_count": 86,
   "id": "b2f1a3da",
   "metadata": {},
   "outputs": [
    {
     "data": {
      "image/png": "[encoded data removed]",
      "text/plain": [
       "<Figure size 640x480 with 2 Axes>"
      ]
     },
     "metadata": {},
     "output_type": "display_data"
    }
   ],
   "source": [
    "plt.figure()\n",
    "random_confusion = confusion_matrix(y_test, predicciones_pa)\n",
    "sns.heatmap(random_confusion, cmap=\"YlGnBu\",annot=True);"
   ]
  },
  {
   "cell_type": "code",
   "execution_count": null,
   "id": "dc3aa473",
   "metadata": {},
   "outputs": [],
   "source": []
  }
 ],
 "metadata": {
  "kernelspec": {
   "display_name": "Python 3 (ipykernel)",
   "language": "python",
   "name": "python3"
  },
  "language_info": {
   "codemirror_mode": {
    "name": "ipython",
    "version": 3
   },
   "file_extension": ".py",
   "mimetype": "text/x-python",
   "name": "python",
   "nbconvert_exporter": "python",
   "pygments_lexer": "ipython3",
   "version": "3.10.9"
  }
 },
 "nbformat": 4,
 "nbformat_minor": 5
}
