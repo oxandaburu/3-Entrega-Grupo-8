{
  "cells": [
    {
      "cell_type": "markdown",
      "id": "8543752c",
      "metadata": {
        "id": "8543752c"
      },
      "source": [
        "##**Aprendizaje Supervisado**"
      ]
    },
    {
      "cell_type": "markdown",
      "id": "91f002e8",
      "metadata": {
        "id": "91f002e8"
      },
      "source": [
        "### Exploracion y procesamiento de los datos"
      ]
    },
    {
      "cell_type": "code",
      "execution_count": 1,
      "id": "fd5532ad",
      "metadata": {
        "id": "fd5532ad"
      },
      "outputs": [],
      "source": [
        "import pandas as pd\n",
        "import numpy as np\n",
        "import matplotlib.pyplot as plt\n",
        "import seaborn as sns"
      ]
    },
    {
      "cell_type": "code",
      "execution_count": 2,
      "id": "889e1971",
      "metadata": {
        "id": "889e1971"
      },
      "outputs": [],
      "source": [
        "PasajerosAerolineas = pd.read_csv('Passanger_booking_data.csv')"
      ]
    },
    {
      "cell_type": "markdown",
      "id": "42a515b1",
      "metadata": {
        "id": "42a515b1"
      },
      "source": [
        "* Vamos a visualizar el DataFrame y observa cuantas filas y columnas tiene."
      ]
    },
    {
      "cell_type": "code",
      "execution_count": 3,
      "id": "a9de0618",
      "metadata": {
        "colab": {
          "base_uri": "https://localhost:8080/",
          "height": 226
        },
        "id": "a9de0618",
        "outputId": "923fcc1b-dcd2-440b-d51a-449bdc690c18"
      },
      "outputs": [
        {
          "output_type": "execute_result",
          "data": {
            "text/plain": [
              "   num_passengers sales_channel  trip_type  purchase_lead  length_of_stay  \\\n",
              "0               1      Internet  RoundTrip             21              12   \n",
              "1               2      Internet  RoundTrip            262              19   \n",
              "2               1      Internet  RoundTrip            112              20   \n",
              "3               2      Internet  RoundTrip            243              22   \n",
              "4               1      Internet  RoundTrip             96              31   \n",
              "\n",
              "   flight_hour flight_day   route booking_origin  wants_extra_baggage  \\\n",
              "0            6        Tue  AKLHGH      Australia                    0   \n",
              "1            7        Sat  AKLDEL    New Zealand                    1   \n",
              "2            3        Sat  AKLDEL    New Zealand                    0   \n",
              "3           17        Wed  AKLDEL          India                    1   \n",
              "4            4        Sat  AKLDEL    New Zealand                    0   \n",
              "\n",
              "   wants_preferred_seat  wants_in_flight_meals  flight_duration  \\\n",
              "0                     0                      0             7.21   \n",
              "1                     0                      0             5.52   \n",
              "2                     0                      0             5.52   \n",
              "3                     1                      0             5.52   \n",
              "4                     0                      1             5.52   \n",
              "\n",
              "   booking_complete  \n",
              "0                 1  \n",
              "1                 0  \n",
              "2                 0  \n",
              "3                 0  \n",
              "4                 0  "
            ],
            "text/html": [
              "\n",
              "  <div id=\"df-7962fb77-2a43-455a-8d1b-1cfaeaf71839\" class=\"colab-df-container\">\n",
              "    <div>\n",
              "<style scoped>\n",
              "    .dataframe tbody tr th:only-of-type {\n",
              "        vertical-align: middle;\n",
              "    }\n",
              "\n",
              "    .dataframe tbody tr th {\n",
              "        vertical-align: top;\n",
              "    }\n",
              "\n",
              "    .dataframe thead th {\n",
              "        text-align: right;\n",
              "    }\n",
              "</style>\n",
              "<table border=\"1\" class=\"dataframe\">\n",
              "  <thead>\n",
              "    <tr style=\"text-align: right;\">\n",
              "      <th></th>\n",
              "      <th>num_passengers</th>\n",
              "      <th>sales_channel</th>\n",
              "      <th>trip_type</th>\n",
              "      <th>purchase_lead</th>\n",
              "      <th>length_of_stay</th>\n",
              "      <th>flight_hour</th>\n",
              "      <th>flight_day</th>\n",
              "      <th>route</th>\n",
              "      <th>booking_origin</th>\n",
              "      <th>wants_extra_baggage</th>\n",
              "      <th>wants_preferred_seat</th>\n",
              "      <th>wants_in_flight_meals</th>\n",
              "      <th>flight_duration</th>\n",
              "      <th>booking_complete</th>\n",
              "    </tr>\n",
              "  </thead>\n",
              "  <tbody>\n",
              "    <tr>\n",
              "      <th>0</th>\n",
              "      <td>1</td>\n",
              "      <td>Internet</td>\n",
              "      <td>RoundTrip</td>\n",
              "      <td>21</td>\n",
              "      <td>12</td>\n",
              "      <td>6</td>\n",
              "      <td>Tue</td>\n",
              "      <td>AKLHGH</td>\n",
              "      <td>Australia</td>\n",
              "      <td>0</td>\n",
              "      <td>0</td>\n",
              "      <td>0</td>\n",
              "      <td>7.21</td>\n",
              "      <td>1</td>\n",
              "    </tr>\n",
              "    <tr>\n",
              "      <th>1</th>\n",
              "      <td>2</td>\n",
              "      <td>Internet</td>\n",
              "      <td>RoundTrip</td>\n",
              "      <td>262</td>\n",
              "      <td>19</td>\n",
              "      <td>7</td>\n",
              "      <td>Sat</td>\n",
              "      <td>AKLDEL</td>\n",
              "      <td>New Zealand</td>\n",
              "      <td>1</td>\n",
              "      <td>0</td>\n",
              "      <td>0</td>\n",
              "      <td>5.52</td>\n",
              "      <td>0</td>\n",
              "    </tr>\n",
              "    <tr>\n",
              "      <th>2</th>\n",
              "      <td>1</td>\n",
              "      <td>Internet</td>\n",
              "      <td>RoundTrip</td>\n",
              "      <td>112</td>\n",
              "      <td>20</td>\n",
              "      <td>3</td>\n",
              "      <td>Sat</td>\n",
              "      <td>AKLDEL</td>\n",
              "      <td>New Zealand</td>\n",
              "      <td>0</td>\n",
              "      <td>0</td>\n",
              "      <td>0</td>\n",
              "      <td>5.52</td>\n",
              "      <td>0</td>\n",
              "    </tr>\n",
              "    <tr>\n",
              "      <th>3</th>\n",
              "      <td>2</td>\n",
              "      <td>Internet</td>\n",
              "      <td>RoundTrip</td>\n",
              "      <td>243</td>\n",
              "      <td>22</td>\n",
              "      <td>17</td>\n",
              "      <td>Wed</td>\n",
              "      <td>AKLDEL</td>\n",
              "      <td>India</td>\n",
              "      <td>1</td>\n",
              "      <td>1</td>\n",
              "      <td>0</td>\n",
              "      <td>5.52</td>\n",
              "      <td>0</td>\n",
              "    </tr>\n",
              "    <tr>\n",
              "      <th>4</th>\n",
              "      <td>1</td>\n",
              "      <td>Internet</td>\n",
              "      <td>RoundTrip</td>\n",
              "      <td>96</td>\n",
              "      <td>31</td>\n",
              "      <td>4</td>\n",
              "      <td>Sat</td>\n",
              "      <td>AKLDEL</td>\n",
              "      <td>New Zealand</td>\n",
              "      <td>0</td>\n",
              "      <td>0</td>\n",
              "      <td>1</td>\n",
              "      <td>5.52</td>\n",
              "      <td>0</td>\n",
              "    </tr>\n",
              "  </tbody>\n",
              "</table>\n",
              "</div>\n",
              "    <div class=\"colab-df-buttons\">\n",
              "\n",
              "  <div class=\"colab-df-container\">\n",
              "    <button class=\"colab-df-convert\" onclick=\"convertToInteractive('df-7962fb77-2a43-455a-8d1b-1cfaeaf71839')\"\n",
              "            title=\"Convert this dataframe to an interactive table.\"\n",
              "            style=\"display:none;\">\n",
              "\n",
              "  <svg xmlns=\"http://www.w3.org/2000/svg\" height=\"24px\" viewBox=\"0 -960 960 960\">\n",
              "    <path d=\"M120-120v-720h720v720H120Zm60-500h600v-160H180v160Zm220 220h160v-160H400v160Zm0 220h160v-160H400v160ZM180-400h160v-160H180v160Zm440 0h160v-160H620v160ZM180-180h160v-160H180v160Zm440 0h160v-160H620v160Z\"/>\n",
              "  </svg>\n",
              "    </button>\n",
              "\n",
              "  <style>\n",
              "    .colab-df-container {\n",
              "      display:flex;\n",
              "      gap: 12px;\n",
              "    }\n",
              "\n",
              "    .colab-df-convert {\n",
              "      background-color: #E8F0FE;\n",
              "      border: none;\n",
              "      border-radius: 50%;\n",
              "      cursor: pointer;\n",
              "      display: none;\n",
              "      fill: #1967D2;\n",
              "      height: 32px;\n",
              "      padding: 0 0 0 0;\n",
              "      width: 32px;\n",
              "    }\n",
              "\n",
              "    .colab-df-convert:hover {\n",
              "      background-color: #E2EBFA;\n",
              "      box-shadow: 0px 1px 2px rgba(60, 64, 67, 0.3), 0px 1px 3px 1px rgba(60, 64, 67, 0.15);\n",
              "      fill: #174EA6;\n",
              "    }\n",
              "\n",
              "    .colab-df-buttons div {\n",
              "      margin-bottom: 4px;\n",
              "    }\n",
              "\n",
              "    [theme=dark] .colab-df-convert {\n",
              "      background-color: #3B4455;\n",
              "      fill: #D2E3FC;\n",
              "    }\n",
              "\n",
              "    [theme=dark] .colab-df-convert:hover {\n",
              "      background-color: #434B5C;\n",
              "      box-shadow: 0px 1px 3px 1px rgba(0, 0, 0, 0.15);\n",
              "      filter: drop-shadow(0px 1px 2px rgba(0, 0, 0, 0.3));\n",
              "      fill: #FFFFFF;\n",
              "    }\n",
              "  </style>\n",
              "\n",
              "    <script>\n",
              "      const buttonEl =\n",
              "        document.querySelector('#df-7962fb77-2a43-455a-8d1b-1cfaeaf71839 button.colab-df-convert');\n",
              "      buttonEl.style.display =\n",
              "        google.colab.kernel.accessAllowed ? 'block' : 'none';\n",
              "\n",
              "      async function convertToInteractive(key) {\n",
              "        const element = document.querySelector('#df-7962fb77-2a43-455a-8d1b-1cfaeaf71839');\n",
              "        const dataTable =\n",
              "          await google.colab.kernel.invokeFunction('convertToInteractive',\n",
              "                                                    [key], {});\n",
              "        if (!dataTable) return;\n",
              "\n",
              "        const docLinkHtml = 'Like what you see? Visit the ' +\n",
              "          '<a target=\"_blank\" href=https://colab.research.google.com/notebooks/data_table.ipynb>data table notebook</a>'\n",
              "          + ' to learn more about interactive tables.';\n",
              "        element.innerHTML = '';\n",
              "        dataTable['output_type'] = 'display_data';\n",
              "        await google.colab.output.renderOutput(dataTable, element);\n",
              "        const docLink = document.createElement('div');\n",
              "        docLink.innerHTML = docLinkHtml;\n",
              "        element.appendChild(docLink);\n",
              "      }\n",
              "    </script>\n",
              "  </div>\n",
              "\n",
              "\n",
              "<div id=\"df-54de7ccb-71d0-4423-bce6-da7c48bdea2f\">\n",
              "  <button class=\"colab-df-quickchart\" onclick=\"quickchart('df-54de7ccb-71d0-4423-bce6-da7c48bdea2f')\"\n",
              "            title=\"Suggest charts.\"\n",
              "            style=\"display:none;\">\n",
              "\n",
              "<svg xmlns=\"http://www.w3.org/2000/svg\" height=\"24px\"viewBox=\"0 0 24 24\"\n",
              "     width=\"24px\">\n",
              "    <g>\n",
              "        <path d=\"M19 3H5c-1.1 0-2 .9-2 2v14c0 1.1.9 2 2 2h14c1.1 0 2-.9 2-2V5c0-1.1-.9-2-2-2zM9 17H7v-7h2v7zm4 0h-2V7h2v10zm4 0h-2v-4h2v4z\"/>\n",
              "    </g>\n",
              "</svg>\n",
              "  </button>\n",
              "\n",
              "<style>\n",
              "  .colab-df-quickchart {\n",
              "      --bg-color: #E8F0FE;\n",
              "      --fill-color: #1967D2;\n",
              "      --hover-bg-color: #E2EBFA;\n",
              "      --hover-fill-color: #174EA6;\n",
              "      --disabled-fill-color: #AAA;\n",
              "      --disabled-bg-color: #DDD;\n",
              "  }\n",
              "\n",
              "  [theme=dark] .colab-df-quickchart {\n",
              "      --bg-color: #3B4455;\n",
              "      --fill-color: #D2E3FC;\n",
              "      --hover-bg-color: #434B5C;\n",
              "      --hover-fill-color: #FFFFFF;\n",
              "      --disabled-bg-color: #3B4455;\n",
              "      --disabled-fill-color: #666;\n",
              "  }\n",
              "\n",
              "  .colab-df-quickchart {\n",
              "    background-color: var(--bg-color);\n",
              "    border: none;\n",
              "    border-radius: 50%;\n",
              "    cursor: pointer;\n",
              "    display: none;\n",
              "    fill: var(--fill-color);\n",
              "    height: 32px;\n",
              "    padding: 0;\n",
              "    width: 32px;\n",
              "  }\n",
              "\n",
              "  .colab-df-quickchart:hover {\n",
              "    background-color: var(--hover-bg-color);\n",
              "    box-shadow: 0 1px 2px rgba(60, 64, 67, 0.3), 0 1px 3px 1px rgba(60, 64, 67, 0.15);\n",
              "    fill: var(--button-hover-fill-color);\n",
              "  }\n",
              "\n",
              "  .colab-df-quickchart-complete:disabled,\n",
              "  .colab-df-quickchart-complete:disabled:hover {\n",
              "    background-color: var(--disabled-bg-color);\n",
              "    fill: var(--disabled-fill-color);\n",
              "    box-shadow: none;\n",
              "  }\n",
              "\n",
              "  .colab-df-spinner {\n",
              "    border: 2px solid var(--fill-color);\n",
              "    border-color: transparent;\n",
              "    border-bottom-color: var(--fill-color);\n",
              "    animation:\n",
              "      spin 1s steps(1) infinite;\n",
              "  }\n",
              "\n",
              "  @keyframes spin {\n",
              "    0% {\n",
              "      border-color: transparent;\n",
              "      border-bottom-color: var(--fill-color);\n",
              "      border-left-color: var(--fill-color);\n",
              "    }\n",
              "    20% {\n",
              "      border-color: transparent;\n",
              "      border-left-color: var(--fill-color);\n",
              "      border-top-color: var(--fill-color);\n",
              "    }\n",
              "    30% {\n",
              "      border-color: transparent;\n",
              "      border-left-color: var(--fill-color);\n",
              "      border-top-color: var(--fill-color);\n",
              "      border-right-color: var(--fill-color);\n",
              "    }\n",
              "    40% {\n",
              "      border-color: transparent;\n",
              "      border-right-color: var(--fill-color);\n",
              "      border-top-color: var(--fill-color);\n",
              "    }\n",
              "    60% {\n",
              "      border-color: transparent;\n",
              "      border-right-color: var(--fill-color);\n",
              "    }\n",
              "    80% {\n",
              "      border-color: transparent;\n",
              "      border-right-color: var(--fill-color);\n",
              "      border-bottom-color: var(--fill-color);\n",
              "    }\n",
              "    90% {\n",
              "      border-color: transparent;\n",
              "      border-bottom-color: var(--fill-color);\n",
              "    }\n",
              "  }\n",
              "</style>\n",
              "\n",
              "  <script>\n",
              "    async function quickchart(key) {\n",
              "      const quickchartButtonEl =\n",
              "        document.querySelector('#' + key + ' button');\n",
              "      quickchartButtonEl.disabled = true;  // To prevent multiple clicks.\n",
              "      quickchartButtonEl.classList.add('colab-df-spinner');\n",
              "      try {\n",
              "        const charts = await google.colab.kernel.invokeFunction(\n",
              "            'suggestCharts', [key], {});\n",
              "      } catch (error) {\n",
              "        console.error('Error during call to suggestCharts:', error);\n",
              "      }\n",
              "      quickchartButtonEl.classList.remove('colab-df-spinner');\n",
              "      quickchartButtonEl.classList.add('colab-df-quickchart-complete');\n",
              "    }\n",
              "    (() => {\n",
              "      let quickchartButtonEl =\n",
              "        document.querySelector('#df-54de7ccb-71d0-4423-bce6-da7c48bdea2f button');\n",
              "      quickchartButtonEl.style.display =\n",
              "        google.colab.kernel.accessAllowed ? 'block' : 'none';\n",
              "    })();\n",
              "  </script>\n",
              "</div>\n",
              "    </div>\n",
              "  </div>\n"
            ]
          },
          "metadata": {},
          "execution_count": 3
        }
      ],
      "source": [
        "PasajerosAerolineas.head()"
      ]
    },
    {
      "cell_type": "code",
      "execution_count": 6,
      "id": "c2e11a75",
      "metadata": {
        "colab": {
          "base_uri": "https://localhost:8080/"
        },
        "id": "c2e11a75",
        "outputId": "cf69adb5-db84-4b37-82c2-2f596c07f601"
      },
      "outputs": [
        {
          "output_type": "execute_result",
          "data": {
            "text/plain": [
              "(50002, 14)"
            ]
          },
          "metadata": {},
          "execution_count": 6
        }
      ],
      "source": [
        "PasajerosAerolineas.shape"
      ]
    },
    {
      "cell_type": "markdown",
      "id": "8c7369e2",
      "metadata": {
        "id": "8c7369e2"
      },
      "source": [
        "* Veamos el nombre y tipo de datos de las columnas contenidas en el Dataset"
      ]
    },
    {
      "cell_type": "code",
      "execution_count": 7,
      "id": "2f1af6e3",
      "metadata": {
        "colab": {
          "base_uri": "https://localhost:8080/"
        },
        "id": "2f1af6e3",
        "outputId": "1c0bcb6a-07af-44fd-da35-fc3750840f2f"
      },
      "outputs": [
        {
          "output_type": "execute_result",
          "data": {
            "text/plain": [
              "Index(['num_passengers', 'sales_channel', 'trip_type', 'purchase_lead',\n",
              "       'length_of_stay', 'flight_hour', 'flight_day', 'route',\n",
              "       'booking_origin', 'wants_extra_baggage', 'wants_preferred_seat',\n",
              "       'wants_in_flight_meals', 'flight_duration', 'booking_complete'],\n",
              "      dtype='object')"
            ]
          },
          "metadata": {},
          "execution_count": 7
        }
      ],
      "source": [
        "PasajerosAerolineas.columns"
      ]
    },
    {
      "cell_type": "code",
      "execution_count": null,
      "id": "95447c95",
      "metadata": {
        "id": "95447c95",
        "outputId": "cdb224ae-5858-4d18-c79d-bc3851fca2b3"
      },
      "outputs": [
        {
          "data": {
            "text/plain": [
              "num_passengers             int64\n",
              "sales_channel             object\n",
              "trip_type                 object\n",
              "purchase_lead              int64\n",
              "length_of_stay             int64\n",
              "flight_hour                int64\n",
              "flight_day                object\n",
              "route                     object\n",
              "booking_origin            object\n",
              "wants_extra_baggage        int64\n",
              "wants_preferred_seat       int64\n",
              "wants_in_flight_meals      int64\n",
              "flight_duration          float64\n",
              "booking_complete           int64\n",
              "dtype: object"
            ]
          },
          "execution_count": 6,
          "metadata": {},
          "output_type": "execute_result"
        }
      ],
      "source": [
        "PasajerosAerolineas.dtypes"
      ]
    },
    {
      "cell_type": "markdown",
      "id": "7d2b52bc",
      "metadata": {
        "id": "7d2b52bc"
      },
      "source": [
        "* Modificamos el nombre de las columnas para que sea mas comodo trabajar"
      ]
    },
    {
      "cell_type": "code",
      "execution_count": 8,
      "id": "7d12fc9c",
      "metadata": {
        "id": "7d12fc9c"
      },
      "outputs": [],
      "source": [
        "PasajerosAerolineas = PasajerosAerolineas.rename(columns=\n",
        "                           {'num_passengers':'NumeroDePasajeros',\n",
        "                            'sales_channel' : 'CanalDeVenta',\n",
        "                            'trip_type'     : 'TipoDeViaje',\n",
        "                            'purchase_lead' : 'ClientePotencial',\n",
        "                            'length_of_stay': 'Estadia',\n",
        "                            'flight_hour'   : 'HorarioDelVuelo',\n",
        "                            'flight_day'    : 'DiaDelVuelo',\n",
        "                            'route'         : 'Ruta',\n",
        "                            'booking_origin': 'OrigenReserva',\n",
        "                            'wants_extra_baggage' : 'EquipajeExtra',\n",
        "                            'wants_preferred_seat': 'AsientosPreferido',\n",
        "                            'wants_in_flight_meals': 'QuiereComidaEnVuelo',\n",
        "                            'flight_duration'      : 'DuracionDelVuelo',\n",
        "                            'booking_complete'     : 'ReservaCompleta'\n",
        "                            })"
      ]
    },
    {
      "cell_type": "markdown",
      "id": "33aed91a",
      "metadata": {
        "id": "33aed91a"
      },
      "source": [
        "* Vemos como quedaron las columnas con el nuevo nombre asignado"
      ]
    },
    {
      "cell_type": "code",
      "execution_count": 9,
      "id": "23cf3c62",
      "metadata": {
        "colab": {
          "base_uri": "https://localhost:8080/"
        },
        "id": "23cf3c62",
        "outputId": "a6b828f9-32bf-4dc0-fb5d-2a5407c834d4"
      },
      "outputs": [
        {
          "output_type": "execute_result",
          "data": {
            "text/plain": [
              "Index(['NumeroDePasajeros', 'CanalDeVenta', 'TipoDeViaje', 'ClientePotencial',\n",
              "       'Estadia', 'HorarioDelVuelo', 'DiaDelVuelo', 'Ruta', 'OrigenReserva',\n",
              "       'EquipajeExtra', 'AsientosPreferido', 'QuiereComidaEnVuelo',\n",
              "       'DuracionDelVuelo', 'ReservaCompleta'],\n",
              "      dtype='object')"
            ]
          },
          "metadata": {},
          "execution_count": 9
        }
      ],
      "source": [
        "PasajerosAerolineas.columns"
      ]
    },
    {
      "cell_type": "markdown",
      "id": "3f02dcad",
      "metadata": {
        "id": "3f02dcad"
      },
      "source": [
        "* Chequeamos si el Dataframe tiene valores faltantes y vemos las filas que los tienen."
      ]
    },
    {
      "cell_type": "code",
      "execution_count": 10,
      "id": "ee26fe2c",
      "metadata": {
        "colab": {
          "base_uri": "https://localhost:8080/"
        },
        "id": "ee26fe2c",
        "outputId": "c9a4ecdd-c2b1-4ffd-eb08-dc3965e50de6"
      },
      "outputs": [
        {
          "output_type": "execute_result",
          "data": {
            "text/plain": [
              "NumeroDePasajeros      0\n",
              "CanalDeVenta           0\n",
              "TipoDeViaje            0\n",
              "ClientePotencial       0\n",
              "Estadia                0\n",
              "HorarioDelVuelo        0\n",
              "DiaDelVuelo            0\n",
              "Ruta                   0\n",
              "OrigenReserva          0\n",
              "EquipajeExtra          0\n",
              "AsientosPreferido      0\n",
              "QuiereComidaEnVuelo    0\n",
              "DuracionDelVuelo       0\n",
              "ReservaCompleta        0\n",
              "dtype: int64"
            ]
          },
          "metadata": {},
          "execution_count": 10
        }
      ],
      "source": [
        "PasajerosAerolineas.isna().sum()"
      ]
    },
    {
      "cell_type": "markdown",
      "id": "9d0404b3",
      "metadata": {
        "id": "9d0404b3"
      },
      "source": [
        "* No hay valores faltanes"
      ]
    },
    {
      "cell_type": "markdown",
      "id": "8a340524",
      "metadata": {
        "id": "8a340524"
      },
      "source": [
        "* Descripcion estadistica del Dataframe PasajerosAerolinas, por columna"
      ]
    },
    {
      "cell_type": "code",
      "execution_count": 11,
      "id": "c5ce9797",
      "metadata": {
        "colab": {
          "base_uri": "https://localhost:8080/",
          "height": 320
        },
        "id": "c5ce9797",
        "outputId": "1a8274b4-13c6-4187-8fcd-ab2b193cd797"
      },
      "outputs": [
        {
          "output_type": "execute_result",
          "data": {
            "text/plain": [
              "       NumeroDePasajeros  ClientePotencial       Estadia  HorarioDelVuelo  \\\n",
              "count       50002.000000      50002.000000  50002.000000     50002.000000   \n",
              "mean            1.591256         84.940582     23.044778         9.066277   \n",
              "std             1.020167         90.450548     33.887171         5.412569   \n",
              "min             1.000000          0.000000      0.000000         0.000000   \n",
              "25%             1.000000         21.000000      5.000000         5.000000   \n",
              "50%             1.000000         51.000000     17.000000         9.000000   \n",
              "75%             2.000000        115.000000     28.000000        13.000000   \n",
              "max             9.000000        867.000000    778.000000        23.000000   \n",
              "\n",
              "       EquipajeExtra  AsientosPreferido  QuiereComidaEnVuelo  \\\n",
              "count   50002.000000       50002.000000         50002.000000   \n",
              "mean        0.668773           0.296968             0.427143   \n",
              "std         0.470659           0.456927             0.494668   \n",
              "min         0.000000           0.000000             0.000000   \n",
              "25%         0.000000           0.000000             0.000000   \n",
              "50%         1.000000           0.000000             0.000000   \n",
              "75%         1.000000           1.000000             1.000000   \n",
              "max         1.000000           1.000000             1.000000   \n",
              "\n",
              "       DuracionDelVuelo  ReservaCompleta  \n",
              "count      50002.000000     50002.000000  \n",
              "mean           7.277524         0.149574  \n",
              "std            1.496854         0.356657  \n",
              "min            4.670000         0.000000  \n",
              "25%            5.620000         0.000000  \n",
              "50%            7.570000         0.000000  \n",
              "75%            8.830000         0.000000  \n",
              "max            9.500000         1.000000  "
            ],
            "text/html": [
              "\n",
              "  <div id=\"df-56b1702d-514c-42cf-939f-0ec4f792dc68\" class=\"colab-df-container\">\n",
              "    <div>\n",
              "<style scoped>\n",
              "    .dataframe tbody tr th:only-of-type {\n",
              "        vertical-align: middle;\n",
              "    }\n",
              "\n",
              "    .dataframe tbody tr th {\n",
              "        vertical-align: top;\n",
              "    }\n",
              "\n",
              "    .dataframe thead th {\n",
              "        text-align: right;\n",
              "    }\n",
              "</style>\n",
              "<table border=\"1\" class=\"dataframe\">\n",
              "  <thead>\n",
              "    <tr style=\"text-align: right;\">\n",
              "      <th></th>\n",
              "      <th>NumeroDePasajeros</th>\n",
              "      <th>ClientePotencial</th>\n",
              "      <th>Estadia</th>\n",
              "      <th>HorarioDelVuelo</th>\n",
              "      <th>EquipajeExtra</th>\n",
              "      <th>AsientosPreferido</th>\n",
              "      <th>QuiereComidaEnVuelo</th>\n",
              "      <th>DuracionDelVuelo</th>\n",
              "      <th>ReservaCompleta</th>\n",
              "    </tr>\n",
              "  </thead>\n",
              "  <tbody>\n",
              "    <tr>\n",
              "      <th>count</th>\n",
              "      <td>50002.000000</td>\n",
              "      <td>50002.000000</td>\n",
              "      <td>50002.000000</td>\n",
              "      <td>50002.000000</td>\n",
              "      <td>50002.000000</td>\n",
              "      <td>50002.000000</td>\n",
              "      <td>50002.000000</td>\n",
              "      <td>50002.000000</td>\n",
              "      <td>50002.000000</td>\n",
              "    </tr>\n",
              "    <tr>\n",
              "      <th>mean</th>\n",
              "      <td>1.591256</td>\n",
              "      <td>84.940582</td>\n",
              "      <td>23.044778</td>\n",
              "      <td>9.066277</td>\n",
              "      <td>0.668773</td>\n",
              "      <td>0.296968</td>\n",
              "      <td>0.427143</td>\n",
              "      <td>7.277524</td>\n",
              "      <td>0.149574</td>\n",
              "    </tr>\n",
              "    <tr>\n",
              "      <th>std</th>\n",
              "      <td>1.020167</td>\n",
              "      <td>90.450548</td>\n",
              "      <td>33.887171</td>\n",
              "      <td>5.412569</td>\n",
              "      <td>0.470659</td>\n",
              "      <td>0.456927</td>\n",
              "      <td>0.494668</td>\n",
              "      <td>1.496854</td>\n",
              "      <td>0.356657</td>\n",
              "    </tr>\n",
              "    <tr>\n",
              "      <th>min</th>\n",
              "      <td>1.000000</td>\n",
              "      <td>0.000000</td>\n",
              "      <td>0.000000</td>\n",
              "      <td>0.000000</td>\n",
              "      <td>0.000000</td>\n",
              "      <td>0.000000</td>\n",
              "      <td>0.000000</td>\n",
              "      <td>4.670000</td>\n",
              "      <td>0.000000</td>\n",
              "    </tr>\n",
              "    <tr>\n",
              "      <th>25%</th>\n",
              "      <td>1.000000</td>\n",
              "      <td>21.000000</td>\n",
              "      <td>5.000000</td>\n",
              "      <td>5.000000</td>\n",
              "      <td>0.000000</td>\n",
              "      <td>0.000000</td>\n",
              "      <td>0.000000</td>\n",
              "      <td>5.620000</td>\n",
              "      <td>0.000000</td>\n",
              "    </tr>\n",
              "    <tr>\n",
              "      <th>50%</th>\n",
              "      <td>1.000000</td>\n",
              "      <td>51.000000</td>\n",
              "      <td>17.000000</td>\n",
              "      <td>9.000000</td>\n",
              "      <td>1.000000</td>\n",
              "      <td>0.000000</td>\n",
              "      <td>0.000000</td>\n",
              "      <td>7.570000</td>\n",
              "      <td>0.000000</td>\n",
              "    </tr>\n",
              "    <tr>\n",
              "      <th>75%</th>\n",
              "      <td>2.000000</td>\n",
              "      <td>115.000000</td>\n",
              "      <td>28.000000</td>\n",
              "      <td>13.000000</td>\n",
              "      <td>1.000000</td>\n",
              "      <td>1.000000</td>\n",
              "      <td>1.000000</td>\n",
              "      <td>8.830000</td>\n",
              "      <td>0.000000</td>\n",
              "    </tr>\n",
              "    <tr>\n",
              "      <th>max</th>\n",
              "      <td>9.000000</td>\n",
              "      <td>867.000000</td>\n",
              "      <td>778.000000</td>\n",
              "      <td>23.000000</td>\n",
              "      <td>1.000000</td>\n",
              "      <td>1.000000</td>\n",
              "      <td>1.000000</td>\n",
              "      <td>9.500000</td>\n",
              "      <td>1.000000</td>\n",
              "    </tr>\n",
              "  </tbody>\n",
              "</table>\n",
              "</div>\n",
              "    <div class=\"colab-df-buttons\">\n",
              "\n",
              "  <div class=\"colab-df-container\">\n",
              "    <button class=\"colab-df-convert\" onclick=\"convertToInteractive('df-56b1702d-514c-42cf-939f-0ec4f792dc68')\"\n",
              "            title=\"Convert this dataframe to an interactive table.\"\n",
              "            style=\"display:none;\">\n",
              "\n",
              "  <svg xmlns=\"http://www.w3.org/2000/svg\" height=\"24px\" viewBox=\"0 -960 960 960\">\n",
              "    <path d=\"M120-120v-720h720v720H120Zm60-500h600v-160H180v160Zm220 220h160v-160H400v160Zm0 220h160v-160H400v160ZM180-400h160v-160H180v160Zm440 0h160v-160H620v160ZM180-180h160v-160H180v160Zm440 0h160v-160H620v160Z\"/>\n",
              "  </svg>\n",
              "    </button>\n",
              "\n",
              "  <style>\n",
              "    .colab-df-container {\n",
              "      display:flex;\n",
              "      gap: 12px;\n",
              "    }\n",
              "\n",
              "    .colab-df-convert {\n",
              "      background-color: #E8F0FE;\n",
              "      border: none;\n",
              "      border-radius: 50%;\n",
              "      cursor: pointer;\n",
              "      display: none;\n",
              "      fill: #1967D2;\n",
              "      height: 32px;\n",
              "      padding: 0 0 0 0;\n",
              "      width: 32px;\n",
              "    }\n",
              "\n",
              "    .colab-df-convert:hover {\n",
              "      background-color: #E2EBFA;\n",
              "      box-shadow: 0px 1px 2px rgba(60, 64, 67, 0.3), 0px 1px 3px 1px rgba(60, 64, 67, 0.15);\n",
              "      fill: #174EA6;\n",
              "    }\n",
              "\n",
              "    .colab-df-buttons div {\n",
              "      margin-bottom: 4px;\n",
              "    }\n",
              "\n",
              "    [theme=dark] .colab-df-convert {\n",
              "      background-color: #3B4455;\n",
              "      fill: #D2E3FC;\n",
              "    }\n",
              "\n",
              "    [theme=dark] .colab-df-convert:hover {\n",
              "      background-color: #434B5C;\n",
              "      box-shadow: 0px 1px 3px 1px rgba(0, 0, 0, 0.15);\n",
              "      filter: drop-shadow(0px 1px 2px rgba(0, 0, 0, 0.3));\n",
              "      fill: #FFFFFF;\n",
              "    }\n",
              "  </style>\n",
              "\n",
              "    <script>\n",
              "      const buttonEl =\n",
              "        document.querySelector('#df-56b1702d-514c-42cf-939f-0ec4f792dc68 button.colab-df-convert');\n",
              "      buttonEl.style.display =\n",
              "        google.colab.kernel.accessAllowed ? 'block' : 'none';\n",
              "\n",
              "      async function convertToInteractive(key) {\n",
              "        const element = document.querySelector('#df-56b1702d-514c-42cf-939f-0ec4f792dc68');\n",
              "        const dataTable =\n",
              "          await google.colab.kernel.invokeFunction('convertToInteractive',\n",
              "                                                    [key], {});\n",
              "        if (!dataTable) return;\n",
              "\n",
              "        const docLinkHtml = 'Like what you see? Visit the ' +\n",
              "          '<a target=\"_blank\" href=https://colab.research.google.com/notebooks/data_table.ipynb>data table notebook</a>'\n",
              "          + ' to learn more about interactive tables.';\n",
              "        element.innerHTML = '';\n",
              "        dataTable['output_type'] = 'display_data';\n",
              "        await google.colab.output.renderOutput(dataTable, element);\n",
              "        const docLink = document.createElement('div');\n",
              "        docLink.innerHTML = docLinkHtml;\n",
              "        element.appendChild(docLink);\n",
              "      }\n",
              "    </script>\n",
              "  </div>\n",
              "\n",
              "\n",
              "<div id=\"df-9d08ed2c-4574-4112-9c9e-cf23d1b48d41\">\n",
              "  <button class=\"colab-df-quickchart\" onclick=\"quickchart('df-9d08ed2c-4574-4112-9c9e-cf23d1b48d41')\"\n",
              "            title=\"Suggest charts.\"\n",
              "            style=\"display:none;\">\n",
              "\n",
              "<svg xmlns=\"http://www.w3.org/2000/svg\" height=\"24px\"viewBox=\"0 0 24 24\"\n",
              "     width=\"24px\">\n",
              "    <g>\n",
              "        <path d=\"M19 3H5c-1.1 0-2 .9-2 2v14c0 1.1.9 2 2 2h14c1.1 0 2-.9 2-2V5c0-1.1-.9-2-2-2zM9 17H7v-7h2v7zm4 0h-2V7h2v10zm4 0h-2v-4h2v4z\"/>\n",
              "    </g>\n",
              "</svg>\n",
              "  </button>\n",
              "\n",
              "<style>\n",
              "  .colab-df-quickchart {\n",
              "      --bg-color: #E8F0FE;\n",
              "      --fill-color: #1967D2;\n",
              "      --hover-bg-color: #E2EBFA;\n",
              "      --hover-fill-color: #174EA6;\n",
              "      --disabled-fill-color: #AAA;\n",
              "      --disabled-bg-color: #DDD;\n",
              "  }\n",
              "\n",
              "  [theme=dark] .colab-df-quickchart {\n",
              "      --bg-color: #3B4455;\n",
              "      --fill-color: #D2E3FC;\n",
              "      --hover-bg-color: #434B5C;\n",
              "      --hover-fill-color: #FFFFFF;\n",
              "      --disabled-bg-color: #3B4455;\n",
              "      --disabled-fill-color: #666;\n",
              "  }\n",
              "\n",
              "  .colab-df-quickchart {\n",
              "    background-color: var(--bg-color);\n",
              "    border: none;\n",
              "    border-radius: 50%;\n",
              "    cursor: pointer;\n",
              "    display: none;\n",
              "    fill: var(--fill-color);\n",
              "    height: 32px;\n",
              "    padding: 0;\n",
              "    width: 32px;\n",
              "  }\n",
              "\n",
              "  .colab-df-quickchart:hover {\n",
              "    background-color: var(--hover-bg-color);\n",
              "    box-shadow: 0 1px 2px rgba(60, 64, 67, 0.3), 0 1px 3px 1px rgba(60, 64, 67, 0.15);\n",
              "    fill: var(--button-hover-fill-color);\n",
              "  }\n",
              "\n",
              "  .colab-df-quickchart-complete:disabled,\n",
              "  .colab-df-quickchart-complete:disabled:hover {\n",
              "    background-color: var(--disabled-bg-color);\n",
              "    fill: var(--disabled-fill-color);\n",
              "    box-shadow: none;\n",
              "  }\n",
              "\n",
              "  .colab-df-spinner {\n",
              "    border: 2px solid var(--fill-color);\n",
              "    border-color: transparent;\n",
              "    border-bottom-color: var(--fill-color);\n",
              "    animation:\n",
              "      spin 1s steps(1) infinite;\n",
              "  }\n",
              "\n",
              "  @keyframes spin {\n",
              "    0% {\n",
              "      border-color: transparent;\n",
              "      border-bottom-color: var(--fill-color);\n",
              "      border-left-color: var(--fill-color);\n",
              "    }\n",
              "    20% {\n",
              "      border-color: transparent;\n",
              "      border-left-color: var(--fill-color);\n",
              "      border-top-color: var(--fill-color);\n",
              "    }\n",
              "    30% {\n",
              "      border-color: transparent;\n",
              "      border-left-color: var(--fill-color);\n",
              "      border-top-color: var(--fill-color);\n",
              "      border-right-color: var(--fill-color);\n",
              "    }\n",
              "    40% {\n",
              "      border-color: transparent;\n",
              "      border-right-color: var(--fill-color);\n",
              "      border-top-color: var(--fill-color);\n",
              "    }\n",
              "    60% {\n",
              "      border-color: transparent;\n",
              "      border-right-color: var(--fill-color);\n",
              "    }\n",
              "    80% {\n",
              "      border-color: transparent;\n",
              "      border-right-color: var(--fill-color);\n",
              "      border-bottom-color: var(--fill-color);\n",
              "    }\n",
              "    90% {\n",
              "      border-color: transparent;\n",
              "      border-bottom-color: var(--fill-color);\n",
              "    }\n",
              "  }\n",
              "</style>\n",
              "\n",
              "  <script>\n",
              "    async function quickchart(key) {\n",
              "      const quickchartButtonEl =\n",
              "        document.querySelector('#' + key + ' button');\n",
              "      quickchartButtonEl.disabled = true;  // To prevent multiple clicks.\n",
              "      quickchartButtonEl.classList.add('colab-df-spinner');\n",
              "      try {\n",
              "        const charts = await google.colab.kernel.invokeFunction(\n",
              "            'suggestCharts', [key], {});\n",
              "      } catch (error) {\n",
              "        console.error('Error during call to suggestCharts:', error);\n",
              "      }\n",
              "      quickchartButtonEl.classList.remove('colab-df-spinner');\n",
              "      quickchartButtonEl.classList.add('colab-df-quickchart-complete');\n",
              "    }\n",
              "    (() => {\n",
              "      let quickchartButtonEl =\n",
              "        document.querySelector('#df-9d08ed2c-4574-4112-9c9e-cf23d1b48d41 button');\n",
              "      quickchartButtonEl.style.display =\n",
              "        google.colab.kernel.accessAllowed ? 'block' : 'none';\n",
              "    })();\n",
              "  </script>\n",
              "</div>\n",
              "    </div>\n",
              "  </div>\n"
            ]
          },
          "metadata": {},
          "execution_count": 11
        }
      ],
      "source": [
        "PasajerosAerolineas.describe()"
      ]
    },
    {
      "cell_type": "markdown",
      "id": "f11aed21",
      "metadata": {
        "id": "f11aed21"
      },
      "source": [
        "* Exploramos los datos del Dataframe PasajerosAerolineas\n",
        "* Veamos los valores existentes dentro de las columnas"
      ]
    },
    {
      "cell_type": "code",
      "execution_count": 12,
      "id": "439d97b6",
      "metadata": {
        "colab": {
          "base_uri": "https://localhost:8080/"
        },
        "id": "439d97b6",
        "outputId": "7222a4da-86b7-4e53-c14e-a55e0127979c"
      },
      "outputs": [
        {
          "output_type": "execute_result",
          "data": {
            "text/plain": [
              "Index(['NumeroDePasajeros', 'CanalDeVenta', 'TipoDeViaje', 'ClientePotencial',\n",
              "       'Estadia', 'HorarioDelVuelo', 'DiaDelVuelo', 'Ruta', 'OrigenReserva',\n",
              "       'EquipajeExtra', 'AsientosPreferido', 'QuiereComidaEnVuelo',\n",
              "       'DuracionDelVuelo', 'ReservaCompleta'],\n",
              "      dtype='object')"
            ]
          },
          "metadata": {},
          "execution_count": 12
        }
      ],
      "source": [
        "PasajerosAerolineas.columns"
      ]
    },
    {
      "cell_type": "code",
      "execution_count": 13,
      "id": "8efd0a6a",
      "metadata": {
        "colab": {
          "base_uri": "https://localhost:8080/"
        },
        "id": "8efd0a6a",
        "outputId": "8ee5e022-3b4f-4b2e-82c5-7217b5b8c704"
      },
      "outputs": [
        {
          "output_type": "execute_result",
          "data": {
            "text/plain": [
              "1    31353\n",
              "2    12804\n",
              "3     2942\n",
              "4     1784\n",
              "5      561\n",
              "6      289\n",
              "7      114\n",
              "8       89\n",
              "9       66\n",
              "Name: NumeroDePasajeros, dtype: int64"
            ]
          },
          "metadata": {},
          "execution_count": 13
        }
      ],
      "source": [
        "PasajerosAerolineas[\"NumeroDePasajeros\"].value_counts()"
      ]
    },
    {
      "cell_type": "markdown",
      "id": "79ff9bc1",
      "metadata": {
        "id": "79ff9bc1"
      },
      "source": [
        "* Observamos que la mayoria de los vuelos son de 1 solo pasajero"
      ]
    },
    {
      "cell_type": "code",
      "execution_count": 14,
      "id": "823a9dae",
      "metadata": {
        "colab": {
          "base_uri": "https://localhost:8080/"
        },
        "id": "823a9dae",
        "outputId": "65a291b4-eb5b-49f8-b5ce-997cd9df6085"
      },
      "outputs": [
        {
          "output_type": "execute_result",
          "data": {
            "text/plain": [
              "Internet    44383\n",
              "Mobile       5619\n",
              "Name: CanalDeVenta, dtype: int64"
            ]
          },
          "metadata": {},
          "execution_count": 14
        }
      ],
      "source": [
        "PasajerosAerolineas[\"CanalDeVenta\"].value_counts()"
      ]
    },
    {
      "cell_type": "markdown",
      "id": "45f96cd2",
      "metadata": {
        "id": "45f96cd2"
      },
      "source": [
        "* Visualizamos que el canal de preferencia es \"Internet\""
      ]
    },
    {
      "cell_type": "code",
      "execution_count": 15,
      "id": "26202a79",
      "metadata": {
        "colab": {
          "base_uri": "https://localhost:8080/"
        },
        "id": "26202a79",
        "outputId": "b6579449-59c4-4614-e0f2-020c9195dc70"
      },
      "outputs": [
        {
          "output_type": "execute_result",
          "data": {
            "text/plain": [
              "RoundTrip     49498\n",
              "OneWay          387\n",
              "CircleTrip      117\n",
              "Name: TipoDeViaje, dtype: int64"
            ]
          },
          "metadata": {},
          "execution_count": 15
        }
      ],
      "source": [
        "PasajerosAerolineas[\"TipoDeViaje\"].value_counts()"
      ]
    },
    {
      "cell_type": "markdown",
      "id": "2b0855c7",
      "metadata": {
        "id": "2b0855c7"
      },
      "source": [
        "* La preferencia de los clientes es reservar pasajes de \"Ida y Vuelta\" / \"RoundTrip\""
      ]
    },
    {
      "cell_type": "code",
      "execution_count": 16,
      "id": "0d65b6b6",
      "metadata": {
        "colab": {
          "base_uri": "https://localhost:8080/"
        },
        "id": "0d65b6b6",
        "outputId": "086b3bc6-5d72-481d-aeef-4a8f3ac90f05"
      },
      "outputs": [
        {
          "output_type": "execute_result",
          "data": {
            "text/plain": [
              "6      7757\n",
              "5      7286\n",
              "4      5655\n",
              "3      2839\n",
              "17     1849\n",
              "       ... \n",
              "379       1\n",
              "226       1\n",
              "415       1\n",
              "778       1\n",
              "12        1\n",
              "Name: Estadia, Length: 336, dtype: int64"
            ]
          },
          "metadata": {},
          "execution_count": 16
        }
      ],
      "source": [
        "PasajerosAerolineas[\"Estadia\"].value_counts()"
      ]
    },
    {
      "cell_type": "markdown",
      "id": "3a462dd2",
      "metadata": {
        "id": "3a462dd2"
      },
      "source": [
        "* La estadia mas frecuente es de 6 dias de duracion"
      ]
    },
    {
      "cell_type": "code",
      "execution_count": 17,
      "id": "7edd9c9a",
      "metadata": {
        "colab": {
          "base_uri": "https://localhost:8080/"
        },
        "id": "7edd9c9a",
        "outputId": "72e4f05c-7583-428d-a46d-f6f51580a174"
      },
      "outputs": [
        {
          "output_type": "execute_result",
          "data": {
            "text/plain": [
              "array([ 12,  19,  20,  22,  31,  48,  33,  30,  25,  43,  24,  17,  34,\n",
              "        18,  37,  29, 155,  88,  27,  21,  28,  47,  35,  82,  26,  90,\n",
              "        23,  84,  61,  40,  96,  69,  89,  58,  56, 110,  45, 165, 111,\n",
              "        38, 207,  91,   1, 274,  44,  57, 106,  68,  87,  51, 196,  77,\n",
              "        41, 278, 108, 180,  72,  32,  62,  50,  59, 125, 124,  46,  55,\n",
              "        60,  36,  65, 208, 204,  83,  42,  85,  64,  86,  54, 238, 275,\n",
              "        39,  95,  70,  93,  49, 107, 121, 203, 188,  78, 209, 126,  80,\n",
              "       200, 255,  63,  92, 118,  79, 181,  76,  94, 305, 149, 177, 183,\n",
              "       162,  71, 109,  52, 140,  66, 184, 152,  53, 291, 329,  75, 130,\n",
              "       142, 175,  73, 304, 186, 116, 101, 223, 415, 312, 143,  81, 144,\n",
              "       134, 135, 117, 120, 138, 153,  74, 261, 103, 104, 112, 157, 266,\n",
              "        98, 318,  67, 273, 105, 148, 102, 119, 122, 603, 465, 409, 128,\n",
              "       233,  99, 113, 147, 127,  97, 170, 156, 160, 182, 115, 158,   0,\n",
              "       357, 173, 228, 205, 178, 123, 352, 141, 139, 129, 301, 176, 332,\n",
              "       217, 358, 285, 163, 359, 348, 392, 179, 132, 431, 236, 353, 137,\n",
              "       146, 174, 224, 164, 306, 252, 171, 347, 185, 150, 361, 189, 343,\n",
              "       151, 133, 230, 215, 256, 365, 168, 335, 349, 355, 331, 199, 254,\n",
              "       100, 321, 245, 350, 326, 351, 356, 360, 262, 364, 229, 193, 194,\n",
              "       131, 114, 191, 235, 239, 225, 190, 166, 280, 136, 330, 169, 345,\n",
              "       362, 240, 145, 159, 267, 363, 192, 161, 322, 315, 289, 244, 327,\n",
              "       308, 610, 172, 260, 778, 167, 226, 379, 334, 313, 342, 284, 237,\n",
              "       532, 513, 201, 206, 221, 242, 369, 290, 297, 388, 282, 218, 286,\n",
              "       271, 259, 510, 272, 292, 197, 277, 268, 435, 276, 220, 338, 303,\n",
              "       222, 187, 247, 198, 195, 214, 337, 241, 311, 279, 316, 287, 478,\n",
              "       399, 210, 341, 250, 202, 573, 216, 211, 773, 339, 294, 154, 517,\n",
              "       462, 577, 231, 293, 213, 263,   2,   3,   4,   5,   6])"
            ]
          },
          "metadata": {},
          "execution_count": 17
        }
      ],
      "source": [
        "PasajerosAerolineas[\"Estadia\"].unique()"
      ]
    },
    {
      "cell_type": "code",
      "execution_count": 18,
      "id": "da35a90c",
      "metadata": {
        "colab": {
          "base_uri": "https://localhost:8080/"
        },
        "id": "da35a90c",
        "outputId": "199bd8fb-6b41-4412-d119-840ddaa34b07"
      },
      "outputs": [
        {
          "output_type": "execute_result",
          "data": {
            "text/plain": [
              "8     3165\n",
              "12    3163\n",
              "9     3133\n",
              "7     3126\n",
              "11    3110\n",
              "13    3101\n",
              "10    3085\n",
              "6     3051\n",
              "5     2851\n",
              "4     2843\n",
              "14    2833\n",
              "3     2655\n",
              "2     2642\n",
              "15    2234\n",
              "1     2089\n",
              "16    1557\n",
              "0     1539\n",
              "23     986\n",
              "17     861\n",
              "22     579\n",
              "18     439\n",
              "21     389\n",
              "19     295\n",
              "20     276\n",
              "Name: HorarioDelVuelo, dtype: int64"
            ]
          },
          "metadata": {},
          "execution_count": 18
        }
      ],
      "source": [
        "PasajerosAerolineas[\"HorarioDelVuelo\"].value_counts()"
      ]
    },
    {
      "cell_type": "markdown",
      "id": "f4f5b3cb",
      "metadata": {
        "id": "f4f5b3cb"
      },
      "source": [
        "* Los horarios de vuelo mas elegido son 8 AM, 12 AM y 9 AM"
      ]
    },
    {
      "cell_type": "code",
      "execution_count": 19,
      "id": "1ca8b342",
      "metadata": {
        "colab": {
          "base_uri": "https://localhost:8080/"
        },
        "id": "1ca8b342",
        "outputId": "250c43cd-1eaa-4b8d-911f-fb9c6ea4fc8c"
      },
      "outputs": [
        {
          "output_type": "execute_result",
          "data": {
            "text/plain": [
              "Mon    8102\n",
              "Wed    7675\n",
              "Tue    7674\n",
              "Thu    7424\n",
              "Fri    6761\n",
              "Sun    6554\n",
              "Sat    5812\n",
              "Name: DiaDelVuelo, dtype: int64"
            ]
          },
          "metadata": {},
          "execution_count": 19
        }
      ],
      "source": [
        "PasajerosAerolineas[\"DiaDelVuelo\"].value_counts()"
      ]
    },
    {
      "cell_type": "markdown",
      "id": "9bf20f1e",
      "metadata": {
        "id": "9bf20f1e"
      },
      "source": [
        "* El dia mas elegido para volar es el dia lunes"
      ]
    },
    {
      "cell_type": "code",
      "execution_count": 20,
      "id": "eb966c2c",
      "metadata": {
        "colab": {
          "base_uri": "https://localhost:8080/"
        },
        "id": "eb966c2c",
        "outputId": "aa97405f-34b0-40d0-dea9-a08a021da1c8"
      },
      "outputs": [
        {
          "output_type": "execute_result",
          "data": {
            "text/plain": [
              "AKLKUL    2680\n",
              "PENTPE     924\n",
              "MELSGN     842\n",
              "ICNSIN     801\n",
              "DMKKIX     744\n",
              "          ... \n",
              "DELKBR       1\n",
              "LBUTPE       1\n",
              "KOSSYD       1\n",
              "OOLWUH       1\n",
              "MRUXIY       1\n",
              "Name: Ruta, Length: 799, dtype: int64"
            ]
          },
          "metadata": {},
          "execution_count": 20
        }
      ],
      "source": [
        "PasajerosAerolineas[\"Ruta\"].value_counts()"
      ]
    },
    {
      "cell_type": "code",
      "execution_count": 21,
      "id": "ccb0e56d",
      "metadata": {
        "colab": {
          "base_uri": "https://localhost:8080/"
        },
        "id": "ccb0e56d",
        "outputId": "f4640d63-f2d1-421a-e1be-5f236f1b3ee4"
      },
      "outputs": [
        {
          "output_type": "execute_result",
          "data": {
            "text/plain": [
              "array(['AKLHGH', 'AKLDEL', 'AKLHND', 'AKLICN', 'AKLKIX', 'AKLKTM',\n",
              "       'AKLKUL', 'AKLMRU', 'AKLPEK', 'AKLPVG', 'AKLTPE', 'AORICN',\n",
              "       'AORKIX', 'AORKTM', 'AORMEL', 'BBIMEL', 'BBIOOL', 'BBIPER',\n",
              "       'BBISYD', 'BDOCTS', 'BDOCTU', 'BDOHGH', 'BDOICN', 'BDOIKA',\n",
              "       'BDOKIX', 'BDOMEL', 'BDOOOL', 'BDOPEK', 'BDOPER', 'BDOPUS',\n",
              "       'BDOPVG', 'BDOSYD', 'BDOTPE', 'BDOXIY', 'BKICKG', 'BKICTS',\n",
              "       'BKICTU', 'BKIHND', 'BKIICN', 'BKIKIX', 'BKIKTM', 'BKIMEL',\n",
              "       'BKIMRU', 'BKIOOL', 'BKIPEK', 'BKIPER', 'BKIPUS', 'BKIPVG',\n",
              "       'BKISYD', 'BKIXIY', 'BLRICN', 'BLRMEL', 'BLRPER', 'BLRSYD',\n",
              "       'BOMMEL', 'BOMOOL', 'BOMPER', 'BOMSYD', 'BTJJED', 'BTUICN',\n",
              "       'BTUPER', 'BTUSYD', 'BTUWUH', 'BWNCKG', 'BWNDEL', 'BWNHGH',\n",
              "       'BWNIKA', 'BWNKTM', 'BWNMEL', 'BWNOOL', 'BWNPER', 'BWNSYD',\n",
              "       'BWNTPE', 'CANDEL', 'CANIKA', 'CANMEL', 'CANMRU', 'CANOOL',\n",
              "       'CANPER', 'CANSYD', 'CCUMEL', 'CCUMRU', 'CCUOOL', 'CCUPER',\n",
              "       'CCUSYD', 'CCUTPE', 'CEBMEL', 'CEBOOL', 'CEBPER', 'CEBSYD',\n",
              "       'CGKCKG', 'CGKCTS', 'CGKCTU', 'CGKDEL', 'CGKHGH', 'CGKHND',\n",
              "       'CGKICN', 'CGKIKA', 'CGKJED', 'CGKKIX', 'CGKKTM', 'CGKMEL',\n",
              "       'CGKMRU', 'CGKOOL', 'CGKPEK', 'CGKPER', 'CGKPUS', 'CGKPVG',\n",
              "       'CGKSYD', 'CGKTPE', 'CGKWUH', 'CGKXIY', 'CKGCOK', 'CKGDPS',\n",
              "       'CKGJHB', 'CKGKCH', 'CKGLOP', 'CKGMAA', 'CKGMEL', 'CKGMYY',\n",
              "       'CKGOOL', 'CKGPEN', 'CKGPER', 'CKGPNH', 'CKGSBW', 'CKGSIN',\n",
              "       'CKGSUB', 'CKGSYD', 'CKGTGG', 'CKGTRZ', 'CKGTWU', 'CMBCTS',\n",
              "       'CMBCTU', 'CMBHGH', 'CMBHND', 'CMBICN', 'CMBKIX', 'CMBMEL',\n",
              "       'CMBMRU', 'CMBOOL', 'CMBPEK', 'CMBPER', 'CMBPVG', 'CMBSYD',\n",
              "       'CMBWUH', 'CNXHND', 'CNXICN', 'CNXKIX', 'CNXMEL', 'CNXOOL',\n",
              "       'CNXPEK', 'CNXPER', 'CNXPVG', 'CNXSYD', 'CNXTPE', 'COKCTU',\n",
              "       'COKHGH', 'COKICN', 'COKKIX', 'COKMEL', 'COKOOL', 'COKPER',\n",
              "       'COKPUS', 'COKSYD', 'COKTPE', 'COKWUH', 'CRKMEL', 'CRKOOL',\n",
              "       'CRKSYD', 'CSXPER', 'CTSDMK', 'CTSDPS', 'CTSHKT', 'CTSJHB',\n",
              "       'CTSKBR', 'CTSKCH', 'CTSKNO', 'CTSLGK', 'CTSMEL', 'CTSMYY',\n",
              "       'CTSOOL', 'CTSPEN', 'CTSPER', 'CTSSGN', 'CTSSIN', 'CTSSUB',\n",
              "       'CTSSYD', 'CTUDPS', 'CTUHKT', 'CTUIKA', 'CTUJHB', 'CTUKBV',\n",
              "       'CTUKCH', 'CTUKNO', 'CTUMAA', 'CTUMEL', 'CTUMRU', 'CTUMYY',\n",
              "       'CTUOOL', 'CTUPEN', 'CTUPER', 'CTUSBW', 'CTUSIN', 'CTUSUB',\n",
              "       'CTUSYD', 'CTUTGG', 'CTUTRZ', 'CTUTWU', 'CXRMEL', 'DACHGH',\n",
              "       'DACHND', 'DACICN', 'DACKIX', 'DACMEL', 'DACOOL', 'DACPER',\n",
              "       'DACSYD', 'DACTPE', 'DADMEL', 'DADOOL', 'DADSYD', 'DELDMK',\n",
              "       'DELDPS', 'DELHKG', 'DELHKT', 'DELHND', 'DELJHB', 'DELJOG',\n",
              "       'DELKBV', 'DELKCH', 'DELKIX', 'DELKNO', 'DELLGK', 'DELMEL',\n",
              "       'DELMFM', 'DELMNL', 'DELMRU', 'DELMYY', 'DELOOL', 'DELPEN',\n",
              "       'DELPER', 'DELPNH', 'DELSBW', 'DELSGN', 'DELSIN', 'DELSUB',\n",
              "       'DELSYD', 'DELSZX', 'DMKHGH', 'DMKHND', 'DMKICN', 'DMKIKA',\n",
              "       'DMKKIX', 'DMKKTM', 'DMKMEL', 'DMKMRU', 'DMKOOL', 'DMKPEK',\n",
              "       'DMKPER', 'DMKPUS', 'DMKPVG', 'DMKSYD', 'DMKTPE', 'DPSHGH',\n",
              "       'DPSHND', 'DPSICN', 'DPSIKA', 'DPSKIX', 'DPSKTM', 'DPSMEL',\n",
              "       'DPSMRU', 'DPSOOL', 'DPSPEK', 'DPSPUS', 'DPSPVG', 'DPSSYD',\n",
              "       'DPSTPE', 'DPSXIY', 'GOIKUL', 'GOIMEL', 'GOIOOL', 'GOIPER',\n",
              "       'GOISYD', 'HANKTM', 'HANMEL', 'HANOOL', 'HANPER', 'HANSYD',\n",
              "       'HDYHGH', 'HDYKTM', 'HDYMEL', 'HDYOOL', 'HDYPEK', 'HDYPER',\n",
              "       'HDYPVG', 'HDYSYD', 'HDYTPE', 'HGHHKT', 'HGHJHB', 'HGHJOG',\n",
              "       'HGHKBR', 'HGHKBV', 'HGHKCH', 'HGHKNO', 'HGHLGK', 'HGHLOP',\n",
              "       'HGHMAA', 'HGHMEL', 'HGHMYY', 'HGHOOL', 'HGHPEN', 'HGHPER',\n",
              "       'HGHSBW', 'HGHSUB', 'HGHSYD', 'HGHTRZ', 'HKGIKA', 'HKGKTM',\n",
              "       'HKGMEL', 'HKGMRU', 'HKGOOL', 'HKGPER', 'HKGSYD', 'HKTHND',\n",
              "       'HKTICN', 'HKTKIX', 'HKTKTM', 'HKTMEL', 'HKTMRU', 'HKTOOL',\n",
              "       'HKTPEK', 'HKTPER', 'HKTPUS', 'HKTPVG', 'HKTSYD', 'HKTTPE',\n",
              "       'HKTXIY', 'HNDIKA', 'HNDJOG', 'HNDKBR', 'HNDKBV', 'HNDKCH',\n",
              "       'HNDKNO', 'HNDKTM', 'HNDLGK', 'HNDLOP', 'HNDMAA', 'HNDMEL',\n",
              "       'HNDMLE', 'HNDOOL', 'HNDPEN', 'HNDPER', 'HNDPNH', 'HNDREP',\n",
              "       'HNDRGN', 'HNDSBW', 'HNDSGN', 'HNDSIN', 'HNDSUB', 'HNDSYD',\n",
              "       'HNDTRZ', 'HYDMEL', 'HYDOOL', 'HYDPER', 'HYDSYD', 'HYDWUH',\n",
              "       'ICNIKA', 'ICNJED', 'ICNJHB', 'ICNKBR', 'ICNKBV', 'ICNKCH',\n",
              "       'ICNKNO', 'ICNKTM', 'ICNLGK', 'ICNMAA', 'ICNMEL', 'ICNMLE',\n",
              "       'ICNMYY', 'ICNOOL', 'ICNPEN', 'ICNPER', 'ICNREP', 'ICNRGN',\n",
              "       'ICNSBW', 'ICNSDK', 'ICNSGN', 'ICNSIN', 'ICNSUB', 'ICNSYD',\n",
              "       'ICNTRZ', 'ICNVTZ', 'IKAKCH', 'IKAKIX', 'IKALOP', 'IKAMEL',\n",
              "       'IKAMFM', 'IKAMNL', 'IKAOOL', 'IKAPEK', 'IKAPEN', 'IKAPER',\n",
              "       'IKAPUS', 'IKAPVG', 'IKASGN', 'IKASIN', 'IKASUB', 'IKASYD',\n",
              "       'IKATPE', 'JEDJOG', 'JEDKNO', 'JEDMEL', 'JEDMNL', 'JEDPDG',\n",
              "       'JEDPEN', 'JEDSUB', 'JHBKIX', 'JHBKTM', 'JHBMEL', 'JHBMRU',\n",
              "       'JHBPEK', 'JHBPUS', 'JHBPVG', 'JHBSYD', 'JHBTPE', 'JHBWUH',\n",
              "       'JHBXIY', 'JOGKIX', 'JOGKTM', 'JOGMEL', 'JOGOOL', 'JOGPER',\n",
              "       'JOGPVG', 'JOGSYD', 'JOGTPE', 'KBRKIX', 'KBRKTM', 'KBRMEL',\n",
              "       'KBROOL', 'KBRPEK', 'KBRPER', 'KBRPVG', 'KBRSYD', 'KBRTPE',\n",
              "       'KBVKTM', 'KBVMEL', 'KBVOOL', 'KBVPEK', 'KBVPER', 'KBVPVG',\n",
              "       'KBVSYD', 'KCHKIX', 'KCHKTM', 'KCHMEL', 'KCHMRU', 'KCHOOL',\n",
              "       'KCHPEK', 'KCHPER', 'KCHPUS', 'KCHPVG', 'KCHSYD', 'KCHTPE',\n",
              "       'KCHXIY', 'KHHMEL', 'KHHOOL', 'KHHPER', 'KHHSYD', 'KIXKNO',\n",
              "       'KIXKTM', 'KIXLGK', 'KIXLOP', 'KIXMAA', 'KIXMEL', 'KIXMLE',\n",
              "       'KIXMYY', 'KIXOOL', 'KIXPEN', 'KIXPER', 'KIXPNH', 'KIXREP',\n",
              "       'KIXRGN', 'KIXSBW', 'KIXSGN', 'KIXSIN', 'KIXSUB', 'KIXSYD',\n",
              "       'KIXTGG', 'KIXTRZ', 'KLOMEL', 'KLOOOL', 'KNOKTM', 'KNOMEL',\n",
              "       'KNOOOL', 'KNOPEK', 'KNOPER', 'KNOPUS', 'KNOPVG', 'KNOSYD',\n",
              "       'KNOTPE', 'KNOXIY', 'KOSMEL', 'KOSOOL', 'KOSPEK', 'KOSSYD',\n",
              "       'KTMMEL', 'KTMMFM', 'KTMMYY', 'KTMPEN', 'KTMPER', 'KTMREP',\n",
              "       'KTMSGN', 'KTMSIN', 'KTMSUB', 'KTMSYD', 'KTMTGG', 'KTMTPE',\n",
              "       'KTMURT', 'KWLPER', 'LBUPER', 'LGKMEL', 'LGKOOL', 'LGKPER',\n",
              "       'LGKPUS', 'LGKPVG', 'LGKSYD', 'LGKTPE', 'LOPOOL', 'LOPPEK',\n",
              "       'LOPPVG', 'LOPSYD', 'LOPTPE', 'LOPXIY', 'LPQMEL', 'LPQOOL',\n",
              "       'LPQPER', 'LPQTPE', 'MAAMEL', 'MAAMRU', 'MAAOOL', 'MAAPER',\n",
              "       'MAAPVG', 'MAASYD', 'MAATPE', 'MAAWUH', 'MELMFM', 'MELMLE',\n",
              "       'MELMNL', 'MELMRU', 'MELMYY', 'MELPEK', 'MELPEN', 'MELPNH',\n",
              "       'MELPUS', 'MELPVG', 'MELREP', 'MELRGN', 'MELSBW', 'MELSGN',\n",
              "       'MELSIN', 'MELSUB', 'MELSWA', 'MELSZX', 'MELTGG', 'MELTPE',\n",
              "       'MELTRZ', 'MELTWU', 'MELURT', 'MELUTP', 'MELVTE', 'MELVTZ',\n",
              "       'MELWUH', 'MELXIY', 'MFMOOL', 'MFMPER', 'MFMSYD', 'MLEPEK',\n",
              "       'MLEPER', 'MLESYD', 'MNLMRU', 'MNLOOL', 'MNLPER', 'MNLSYD',\n",
              "       'MRUOOL', 'MRUPEK', 'MRUPEN', 'MRUPER', 'MRUPVG', 'MRUSGN',\n",
              "       'MRUSIN', 'MRUSUB', 'MRUSYD', 'MRUSZX', 'MYYOOL', 'MYYPER',\n",
              "       'MYYPUS', 'MYYSYD', 'MYYXIY', 'NRTSYD', 'OOLPEK', 'OOLPEN',\n",
              "       'OOLPNH', 'OOLPUS', 'OOLPVG', 'OOLREP', 'OOLRGN', 'OOLSBW',\n",
              "       'OOLSDK', 'OOLSGN', 'OOLSIN', 'OOLSUB', 'OOLSZX', 'OOLTGG',\n",
              "       'OOLTPE', 'OOLTRZ', 'OOLTWU', 'OOLURT', 'OOLUTP', 'OOLVTE',\n",
              "       'OOLWUH', 'OOLXIY', 'PEKPEN', 'PEKPER', 'PEKREP', 'PEKRGN',\n",
              "       'PEKSBW', 'PEKSIN', 'PEKSUB', 'PEKSYD', 'PEKTGG', 'PEKTRZ',\n",
              "       'PEKTWU', 'PENPER', 'PENPUS', 'PENPVG', 'PENSYD', 'PENTPE',\n",
              "       'PENWUH', 'PENXIY', 'PERPNH', 'PERPUS', 'PERPVG', 'PERREP',\n",
              "       'PERRGN', 'PERSBW', 'PERSDK', 'PERSGN', 'PERSIN', 'PERSWA',\n",
              "       'PERSZX', 'PERTGG', 'PERTPE', 'PERTRZ', 'PERTWU', 'PERUTP',\n",
              "       'PERVTE', 'PERVTZ', 'PERWUH', 'PERXIY', 'PNHSYD', 'PNHTPE',\n",
              "       'PNKTPE', 'PUSRGN', 'PUSSBW', 'PUSSGN', 'PUSSIN', 'PUSSUB',\n",
              "       'PUSSYD', 'PUSTRZ', 'PVGREP', 'PVGRGN', 'PVGSIN', 'PVGSUB',\n",
              "       'PVGSYD', 'PVGTGG', 'PVGTWU', 'PVGURT', 'REPSYD', 'REPTPE',\n",
              "       'RGNSYD', 'RGNTPE', 'SBWSYD', 'SBWTPE', 'SBWXIY', 'SDKSYD',\n",
              "       'SGNSYD', 'SGNXIY', 'SINSYD', 'SINTPE', 'SINWUH', 'SINXIY',\n",
              "       'SRGTPE', 'SUBSYD', 'SUBTPE', 'SUBXIY', 'SYDSZX', 'SYDTPE',\n",
              "       'SYDTRZ', 'SYDTWU', 'SYDVTE', 'SYDVTZ', 'SYDXIY', 'TGGTPE',\n",
              "       'TGGXIY', 'TPETRZ', 'TPEVTE', 'TRZWUH', 'TRZXIY', 'TWUXIY',\n",
              "       'HGHSGN', 'ICNTGG', 'JHBOOL', 'KBRXIY', 'KBVTPE', 'KIXTWU',\n",
              "       'LBUTPE', 'PVGSGN', 'SBWWUH', 'DELREP', 'DPSWUH', 'HKGJED',\n",
              "       'KBVKIX', 'KBVPUS', 'KIXLPQ', 'LGKPEK', 'LGKXIY', 'LOPPER',\n",
              "       'PEKSGN', 'PERSUB', 'TPETWU', 'BDOWUH', 'BKIDEL', 'CKGSGN',\n",
              "       'CTUKBR', 'CTULGK', 'CTUREP', 'DACMRU', 'DACPEK', 'DELRGN',\n",
              "       'HDYXIY', 'HGHTGG', 'HKTWUH', 'ICNVTE', 'KBRPUS', 'KCHWUH',\n",
              "       'KLOSYD', 'KNOWUH', 'MLETPE', 'SDKTPE', 'SUBWUH', 'TWUWUH',\n",
              "       'AORPUS', 'BTUCKG', 'BWNWUH', 'CKGKNO', 'CKGLGK', 'CNXDEL',\n",
              "       'CNXPUS', 'CTSJOG', 'CTSSBW', 'CTUDMK', 'CTULOP', 'DELKBR',\n",
              "       'DELURT', 'HDYKIX', 'HGHSIN', 'HGHTWU', 'HYDMRU', 'IKASZX',\n",
              "       'KBVWUH', 'KBVXIY', 'KIXLBU', 'LGKWUH', 'MELNRT', 'MLEOOL',\n",
              "       'MRUTPE', 'TPEURT', 'URTXIY', 'AORPER', 'CKGHKT', 'CKGMRU',\n",
              "       'CNXXIY', 'COKCTS', 'CSXMRU', 'CSXSYD', 'CTUMLE', 'CTUSGN',\n",
              "       'CTUSRG', 'CTUURT', 'DACPUS', 'HGHMRU', 'HKTIKA', 'HKTJED',\n",
              "       'ICNMRU', 'JEDMFM', 'KBRWUH', 'KIXMRU', 'KTMTWU', 'MLEPVG',\n",
              "       'MRUXIY'], dtype=object)"
            ]
          },
          "metadata": {},
          "execution_count": 21
        }
      ],
      "source": [
        "PasajerosAerolineas['Ruta'].unique()"
      ]
    },
    {
      "cell_type": "code",
      "execution_count": null,
      "id": "f8e8b035",
      "metadata": {
        "id": "f8e8b035"
      },
      "outputs": [],
      "source": [
        "#Podriamos tomar la decision de eliminar esta columnna ya que no es relevante para nuestra prediccion!!"
      ]
    },
    {
      "cell_type": "markdown",
      "id": "b715412e",
      "metadata": {
        "id": "b715412e"
      },
      "source": [
        "* Separa los codigos en una nueva columna (iata)(icao)"
      ]
    },
    {
      "cell_type": "code",
      "execution_count": 22,
      "id": "2c1d8ea5",
      "metadata": {
        "colab": {
          "base_uri": "https://localhost:8080/"
        },
        "id": "2c1d8ea5",
        "outputId": "d65b156a-6020-46f0-e32b-6bfd215f075c"
      },
      "outputs": [
        {
          "output_type": "execute_result",
          "data": {
            "text/plain": [
              "Australia               17873\n",
              "Malaysia                 7174\n",
              "South Korea              4559\n",
              "Japan                    3885\n",
              "China                    3387\n",
              "                        ...  \n",
              "Tanzania                    1\n",
              "Jordan                      1\n",
              "Lebanon                     1\n",
              "Bulgaria                    1\n",
              "Svalbard & Jan Mayen        1\n",
              "Name: OrigenReserva, Length: 104, dtype: int64"
            ]
          },
          "metadata": {},
          "execution_count": 22
        }
      ],
      "source": [
        "PasajerosAerolineas[\"OrigenReserva\"].value_counts()"
      ]
    },
    {
      "cell_type": "code",
      "execution_count": 23,
      "id": "7ec71fb2",
      "metadata": {
        "colab": {
          "base_uri": "https://localhost:8080/"
        },
        "id": "7ec71fb2",
        "outputId": "781fd913-53a3-449a-931f-df35dc7ee380"
      },
      "outputs": [
        {
          "output_type": "execute_result",
          "data": {
            "text/plain": [
              "Australia               35.744570\n",
              "Malaysia                14.347426\n",
              "South Korea              9.117635\n",
              "Japan                    7.769689\n",
              "China                    6.773729\n",
              "                          ...    \n",
              "Tanzania                 0.002000\n",
              "Jordan                   0.002000\n",
              "Lebanon                  0.002000\n",
              "Bulgaria                 0.002000\n",
              "Svalbard & Jan Mayen     0.002000\n",
              "Name: OrigenReserva, Length: 104, dtype: float64"
            ]
          },
          "metadata": {},
          "execution_count": 23
        }
      ],
      "source": [
        "PasajerosAerolineas[\"OrigenReserva\"].value_counts()/PasajerosAerolineas.shape[0] * 100"
      ]
    },
    {
      "cell_type": "markdown",
      "id": "3dda83f0",
      "metadata": {
        "id": "3dda83f0"
      },
      "source": [
        "* El 35.74 % de las reservas se realizan desde Asutralia"
      ]
    },
    {
      "cell_type": "code",
      "execution_count": 24,
      "id": "8d1a39fd",
      "metadata": {
        "colab": {
          "base_uri": "https://localhost:8080/"
        },
        "id": "8d1a39fd",
        "outputId": "2b8f6f92-468e-4a56-c181-9b7867a0c38f"
      },
      "outputs": [
        {
          "output_type": "execute_result",
          "data": {
            "text/plain": [
              "array(['Australia', 'New Zealand', 'India', 'United Kingdom', 'China',\n",
              "       'South Korea', 'Canada', 'Japan', 'Malaysia', 'Singapore',\n",
              "       'Switzerland', 'Germany', 'Indonesia', 'Czech Republic', 'Vietnam',\n",
              "       'Thailand', 'Spain', 'Romania', 'Ireland', 'Italy', 'Slovakia',\n",
              "       'United Arab Emirates', 'Tonga', 'Réunion', '(not set)',\n",
              "       'Saudi Arabia', 'Netherlands', 'Qatar', 'Hong Kong', 'Philippines',\n",
              "       'Sri Lanka', 'France', 'Croatia', 'United States', 'Laos',\n",
              "       'Hungary', 'Portugal', 'Cyprus', 'Cambodia', 'Poland', 'Belgium',\n",
              "       'Oman', 'Bangladesh', 'Kazakhstan', 'Brazil', 'Turkey', 'Kenya',\n",
              "       'Taiwan', 'Brunei', 'Chile', 'Bulgaria', 'Ukraine', 'Denmark',\n",
              "       'Colombia', 'Iran', 'Bahrain', 'Solomon Islands', 'Slovenia',\n",
              "       'Mauritius', 'Nepal', 'Russia', 'Kuwait', 'Mexico', 'Sweden',\n",
              "       'Austria', 'Lebanon', 'Jordan', 'Greece', 'Mongolia', 'Tanzania',\n",
              "       'Peru', 'Timor-Leste', 'Argentina', 'New Caledonia', 'Macau',\n",
              "       'Myanmar (Burma)', 'Norway', 'Panama', 'Bhutan', 'Norfolk Island',\n",
              "       'Finland', 'Nicaragua', 'Maldives', 'Egypt', 'Israel', 'Tunisia',\n",
              "       'South Africa', 'Papua New Guinea', 'Paraguay', 'Estonia',\n",
              "       'Seychelles', 'Afghanistan', 'Guam', 'Czechia', 'Malta', 'Vanuatu',\n",
              "       'Belarus', 'Pakistan', 'Iraq', 'Ghana', 'Gibraltar', 'Guatemala',\n",
              "       'Algeria', 'Svalbard & Jan Mayen'], dtype=object)"
            ]
          },
          "metadata": {},
          "execution_count": 24
        }
      ],
      "source": [
        "PasajerosAerolineas[\"OrigenReserva\"].unique()"
      ]
    },
    {
      "cell_type": "code",
      "execution_count": 25,
      "id": "804d2eb0",
      "metadata": {
        "colab": {
          "base_uri": "https://localhost:8080/"
        },
        "id": "804d2eb0",
        "outputId": "ab6ca72d-64f5-49ec-cb8d-4317f5b9e859"
      },
      "outputs": [
        {
          "output_type": "execute_result",
          "data": {
            "text/plain": [
              "1    33440\n",
              "0    16562\n",
              "Name: EquipajeExtra, dtype: int64"
            ]
          },
          "metadata": {},
          "execution_count": 25
        }
      ],
      "source": [
        "PasajerosAerolineas[\"EquipajeExtra\"].value_counts()"
      ]
    },
    {
      "cell_type": "markdown",
      "id": "0242df23",
      "metadata": {
        "id": "0242df23"
      },
      "source": [
        "* Mas de la mitad de los pasajeron eligen llevar equipaje extra"
      ]
    },
    {
      "cell_type": "code",
      "execution_count": 26,
      "id": "024fd149",
      "metadata": {
        "colab": {
          "base_uri": "https://localhost:8080/"
        },
        "id": "024fd149",
        "outputId": "68516f53-15bd-4f33-dc38-6c14cfcd7644"
      },
      "outputs": [
        {
          "output_type": "execute_result",
          "data": {
            "text/plain": [
              "1    66.877325\n",
              "0    33.122675\n",
              "Name: EquipajeExtra, dtype: float64"
            ]
          },
          "metadata": {},
          "execution_count": 26
        }
      ],
      "source": [
        "PasajerosAerolineas['EquipajeExtra'].value_counts() / PasajerosAerolineas['EquipajeExtra'].shape[0] * 100"
      ]
    },
    {
      "cell_type": "code",
      "execution_count": 27,
      "id": "fb200376",
      "metadata": {
        "colab": {
          "base_uri": "https://localhost:8080/"
        },
        "id": "fb200376",
        "outputId": "205013ca-805d-435c-c33f-fc09492203b2"
      },
      "outputs": [
        {
          "output_type": "execute_result",
          "data": {
            "text/plain": [
              "0    35153\n",
              "1    14849\n",
              "Name: AsientosPreferido, dtype: int64"
            ]
          },
          "metadata": {},
          "execution_count": 27
        }
      ],
      "source": [
        "PasajerosAerolineas[\"AsientosPreferido\"].value_counts()"
      ]
    },
    {
      "cell_type": "markdown",
      "id": "95787ca7",
      "metadata": {
        "id": "95787ca7"
      },
      "source": [
        "* La eleccion del asiento parece no ser relevante"
      ]
    },
    {
      "cell_type": "code",
      "execution_count": 28,
      "id": "7888d892",
      "metadata": {
        "colab": {
          "base_uri": "https://localhost:8080/"
        },
        "id": "7888d892",
        "outputId": "de80159e-b1c5-4f02-bd77-7c0baef03f17"
      },
      "outputs": [
        {
          "output_type": "execute_result",
          "data": {
            "text/plain": [
              "0    28644\n",
              "1    21358\n",
              "Name: QuiereComidaEnVuelo, dtype: int64"
            ]
          },
          "metadata": {},
          "execution_count": 28
        }
      ],
      "source": [
        "PasajerosAerolineas[\"QuiereComidaEnVuelo\"].value_counts()"
      ]
    },
    {
      "cell_type": "markdown",
      "id": "0a8c6e44",
      "metadata": {
        "id": "0a8c6e44"
      },
      "source": [
        "* La mayoria de los pasajero prefieron no comer durante el vuelo"
      ]
    },
    {
      "cell_type": "code",
      "execution_count": 29,
      "id": "beaa4820",
      "metadata": {
        "colab": {
          "base_uri": "https://localhost:8080/"
        },
        "id": "beaa4820",
        "outputId": "ddaf6f6b-847d-4f59-e968-9a559a4dfb5b"
      },
      "outputs": [
        {
          "output_type": "execute_result",
          "data": {
            "text/plain": [
              "8.83    14520\n",
              "8.58     6965\n",
              "5.62     5524\n",
              "6.62     4721\n",
              "7.00     3374\n",
              "7.57     2835\n",
              "4.67     2743\n",
              "6.42     1737\n",
              "5.33     1554\n",
              "4.75     1255\n",
              "6.33     1190\n",
              "8.67      807\n",
              "5.52      668\n",
              "5.07      512\n",
              "4.72      502\n",
              "8.15      311\n",
              "5.00      241\n",
              "7.42      224\n",
              "4.83      156\n",
              "5.13      125\n",
              "9.50       37\n",
              "7.21        1\n",
              "Name: DuracionDelVuelo, dtype: int64"
            ]
          },
          "metadata": {},
          "execution_count": 29
        }
      ],
      "source": [
        "PasajerosAerolineas[\"DuracionDelVuelo\"].value_counts()"
      ]
    },
    {
      "cell_type": "markdown",
      "id": "5218c52c",
      "metadata": {
        "id": "5218c52c"
      },
      "source": [
        "* El promedio de duracion de los vuelos es de 8 hs"
      ]
    },
    {
      "cell_type": "code",
      "execution_count": 30,
      "id": "5ff079af",
      "metadata": {
        "colab": {
          "base_uri": "https://localhost:8080/"
        },
        "id": "5ff079af",
        "outputId": "b4794932-8116-499b-86e0-3924a13ff404"
      },
      "outputs": [
        {
          "output_type": "execute_result",
          "data": {
            "text/plain": [
              "0    42523\n",
              "1     7479\n",
              "Name: ReservaCompleta, dtype: int64"
            ]
          },
          "metadata": {},
          "execution_count": 30
        }
      ],
      "source": [
        "PasajerosAerolineas[\"ReservaCompleta\"].value_counts()"
      ]
    },
    {
      "cell_type": "code",
      "execution_count": 31,
      "id": "0d3e5d13",
      "metadata": {
        "colab": {
          "base_uri": "https://localhost:8080/"
        },
        "id": "0d3e5d13",
        "outputId": "24517477-e631-45e7-908b-38d3187c82fa"
      },
      "outputs": [
        {
          "output_type": "execute_result",
          "data": {
            "text/plain": [
              "CanalDeVenta  TipoDeViaje\n",
              "Internet      CircleTrip     7.834911\n",
              "              OneWay         8.003225\n",
              "              RoundTrip      7.290835\n",
              "Mobile        CircleTrip     5.746000\n",
              "              OneWay         7.219444\n",
              "              RoundTrip      7.115645\n",
              "Name: DuracionDelVuelo, dtype: float64"
            ]
          },
          "metadata": {},
          "execution_count": 31
        }
      ],
      "source": [
        "PasajerosAerolineas.groupby(by=['CanalDeVenta', 'TipoDeViaje'])['DuracionDelVuelo'].mean()"
      ]
    },
    {
      "cell_type": "code",
      "execution_count": 32,
      "id": "15a7cfd6",
      "metadata": {
        "colab": {
          "base_uri": "https://localhost:8080/"
        },
        "id": "15a7cfd6",
        "outputId": "42e8b831-b3b7-42eb-884f-f469b9c369eb"
      },
      "outputs": [
        {
          "output_type": "execute_result",
          "data": {
            "text/plain": [
              "EquipajeExtra  Estadia\n",
              "0              0             2\n",
              "               1           143\n",
              "               2           577\n",
              "               3          1662\n",
              "               4          2740\n",
              "                          ... \n",
              "1              517           1\n",
              "               532           1\n",
              "               573           1\n",
              "               610           1\n",
              "               773           1\n",
              "Name: NumeroDePasajeros, Length: 514, dtype: int64"
            ]
          },
          "metadata": {},
          "execution_count": 32
        }
      ],
      "source": [
        "PasajerosAerolineas.groupby(by=['EquipajeExtra','Estadia'])['NumeroDePasajeros'].count()"
      ]
    },
    {
      "cell_type": "markdown",
      "id": "4857a6c6",
      "metadata": {
        "id": "4857a6c6"
      },
      "source": [
        "## Visualización de datos"
      ]
    },
    {
      "cell_type": "code",
      "execution_count": 33,
      "id": "e41d8aa3",
      "metadata": {
        "colab": {
          "base_uri": "https://localhost:8080/"
        },
        "id": "e41d8aa3",
        "outputId": "9e4b0f3c-8bf4-437a-aa28-1637d12b2c04"
      },
      "outputs": [
        {
          "output_type": "execute_result",
          "data": {
            "text/plain": [
              "Index(['NumeroDePasajeros', 'CanalDeVenta', 'TipoDeViaje', 'ClientePotencial',\n",
              "       'Estadia', 'HorarioDelVuelo', 'DiaDelVuelo', 'Ruta', 'OrigenReserva',\n",
              "       'EquipajeExtra', 'AsientosPreferido', 'QuiereComidaEnVuelo',\n",
              "       'DuracionDelVuelo', 'ReservaCompleta'],\n",
              "      dtype='object')"
            ]
          },
          "metadata": {},
          "execution_count": 33
        }
      ],
      "source": [
        "PasajerosAerolineas.columns"
      ]
    },
    {
      "cell_type": "code",
      "execution_count": 34,
      "id": "a0f560cb",
      "metadata": {
        "colab": {
          "base_uri": "https://localhost:8080/",
          "height": 454
        },
        "id": "a0f560cb",
        "outputId": "c53fa43a-3ed6-49d3-b0f0-b2b770bdc20e"
      },
      "outputs": [
        {
          "output_type": "display_data",
          "data": {
            "text/plain": [
              "<Figure size 640x480 with 1 Axes>"
            ],
            "image/png": "[encoded data removed]"
          },
          "metadata": {}
        }
      ],
      "source": [
        "sns.countplot(x=PasajerosAerolineas['EquipajeExtra'], palette='Set1')\n",
        "sns.despine()"
      ]
    },
    {
      "cell_type": "code",
      "execution_count": 35,
      "id": "b333bb8e",
      "metadata": {
        "colab": {
          "base_uri": "https://localhost:8080/",
          "height": 411
        },
        "id": "b333bb8e",
        "outputId": "2ed49ac6-b8ae-4447-a99b-79540620076d"
      },
      "outputs": [
        {
          "output_type": "display_data",
          "data": {
            "text/plain": [
              "<Figure size 640x480 with 1 Axes>"
            ],
            "image/png": "[encoded data removed]"
          },
          "metadata": {}
        }
      ],
      "source": [
        "sns.boxplot(y = PasajerosAerolineas['EquipajeExtra'], color = \"#8E44AD\")\n",
        "sns.despine()"
      ]
    },
    {
      "cell_type": "code",
      "execution_count": 36,
      "id": "76fc6daf",
      "metadata": {
        "colab": {
          "base_uri": "https://localhost:8080/"
        },
        "id": "76fc6daf",
        "outputId": "1daf0107-7650-458b-c5ea-d7dec0e1b4dd"
      },
      "outputs": [
        {
          "output_type": "stream",
          "name": "stdout",
          "text": [
            "       Estadia       variable  value\n",
            "0           12  EquipajeExtra      0\n",
            "1           19  EquipajeExtra      1\n",
            "2           20  EquipajeExtra      0\n",
            "3           22  EquipajeExtra      1\n",
            "4           31  EquipajeExtra      0\n",
            "...        ...            ...    ...\n",
            "49997        6  EquipajeExtra      1\n",
            "49998        6  EquipajeExtra      0\n",
            "49999        6  EquipajeExtra      0\n",
            "50000        6  EquipajeExtra      1\n",
            "50001        6  EquipajeExtra      0\n",
            "\n",
            "[50002 rows x 3 columns]\n"
          ]
        }
      ],
      "source": [
        "boxplot_PasajerosAerolineas = PasajerosAerolineas.melt(id_vars='Estadia', value_vars=['EquipajeExtra'])\n",
        "print(boxplot_PasajerosAerolineas)"
      ]
    },
    {
      "cell_type": "code",
      "execution_count": 37,
      "id": "7a30d3f8",
      "metadata": {
        "colab": {
          "base_uri": "https://localhost:8080/",
          "height": 206
        },
        "id": "7a30d3f8",
        "outputId": "14513489-07de-41a4-e665-700ba15bdbf1"
      },
      "outputs": [
        {
          "output_type": "execute_result",
          "data": {
            "text/plain": [
              "   Estadia       variable  value\n",
              "0       12  EquipajeExtra      0\n",
              "1       19  EquipajeExtra      1\n",
              "2       20  EquipajeExtra      0\n",
              "3       22  EquipajeExtra      1\n",
              "4       31  EquipajeExtra      0"
            ],
            "text/html": [
              "\n",
              "  <div id=\"df-a308a5df-9897-41d0-814d-4126b2b3f9d5\" class=\"colab-df-container\">\n",
              "    <div>\n",
              "<style scoped>\n",
              "    .dataframe tbody tr th:only-of-type {\n",
              "        vertical-align: middle;\n",
              "    }\n",
              "\n",
              "    .dataframe tbody tr th {\n",
              "        vertical-align: top;\n",
              "    }\n",
              "\n",
              "    .dataframe thead th {\n",
              "        text-align: right;\n",
              "    }\n",
              "</style>\n",
              "<table border=\"1\" class=\"dataframe\">\n",
              "  <thead>\n",
              "    <tr style=\"text-align: right;\">\n",
              "      <th></th>\n",
              "      <th>Estadia</th>\n",
              "      <th>variable</th>\n",
              "      <th>value</th>\n",
              "    </tr>\n",
              "  </thead>\n",
              "  <tbody>\n",
              "    <tr>\n",
              "      <th>0</th>\n",
              "      <td>12</td>\n",
              "      <td>EquipajeExtra</td>\n",
              "      <td>0</td>\n",
              "    </tr>\n",
              "    <tr>\n",
              "      <th>1</th>\n",
              "      <td>19</td>\n",
              "      <td>EquipajeExtra</td>\n",
              "      <td>1</td>\n",
              "    </tr>\n",
              "    <tr>\n",
              "      <th>2</th>\n",
              "      <td>20</td>\n",
              "      <td>EquipajeExtra</td>\n",
              "      <td>0</td>\n",
              "    </tr>\n",
              "    <tr>\n",
              "      <th>3</th>\n",
              "      <td>22</td>\n",
              "      <td>EquipajeExtra</td>\n",
              "      <td>1</td>\n",
              "    </tr>\n",
              "    <tr>\n",
              "      <th>4</th>\n",
              "      <td>31</td>\n",
              "      <td>EquipajeExtra</td>\n",
              "      <td>0</td>\n",
              "    </tr>\n",
              "  </tbody>\n",
              "</table>\n",
              "</div>\n",
              "    <div class=\"colab-df-buttons\">\n",
              "\n",
              "  <div class=\"colab-df-container\">\n",
              "    <button class=\"colab-df-convert\" onclick=\"convertToInteractive('df-a308a5df-9897-41d0-814d-4126b2b3f9d5')\"\n",
              "            title=\"Convert this dataframe to an interactive table.\"\n",
              "            style=\"display:none;\">\n",
              "\n",
              "  <svg xmlns=\"http://www.w3.org/2000/svg\" height=\"24px\" viewBox=\"0 -960 960 960\">\n",
              "    <path d=\"M120-120v-720h720v720H120Zm60-500h600v-160H180v160Zm220 220h160v-160H400v160Zm0 220h160v-160H400v160ZM180-400h160v-160H180v160Zm440 0h160v-160H620v160ZM180-180h160v-160H180v160Zm440 0h160v-160H620v160Z\"/>\n",
              "  </svg>\n",
              "    </button>\n",
              "\n",
              "  <style>\n",
              "    .colab-df-container {\n",
              "      display:flex;\n",
              "      gap: 12px;\n",
              "    }\n",
              "\n",
              "    .colab-df-convert {\n",
              "      background-color: #E8F0FE;\n",
              "      border: none;\n",
              "      border-radius: 50%;\n",
              "      cursor: pointer;\n",
              "      display: none;\n",
              "      fill: #1967D2;\n",
              "      height: 32px;\n",
              "      padding: 0 0 0 0;\n",
              "      width: 32px;\n",
              "    }\n",
              "\n",
              "    .colab-df-convert:hover {\n",
              "      background-color: #E2EBFA;\n",
              "      box-shadow: 0px 1px 2px rgba(60, 64, 67, 0.3), 0px 1px 3px 1px rgba(60, 64, 67, 0.15);\n",
              "      fill: #174EA6;\n",
              "    }\n",
              "\n",
              "    .colab-df-buttons div {\n",
              "      margin-bottom: 4px;\n",
              "    }\n",
              "\n",
              "    [theme=dark] .colab-df-convert {\n",
              "      background-color: #3B4455;\n",
              "      fill: #D2E3FC;\n",
              "    }\n",
              "\n",
              "    [theme=dark] .colab-df-convert:hover {\n",
              "      background-color: #434B5C;\n",
              "      box-shadow: 0px 1px 3px 1px rgba(0, 0, 0, 0.15);\n",
              "      filter: drop-shadow(0px 1px 2px rgba(0, 0, 0, 0.3));\n",
              "      fill: #FFFFFF;\n",
              "    }\n",
              "  </style>\n",
              "\n",
              "    <script>\n",
              "      const buttonEl =\n",
              "        document.querySelector('#df-a308a5df-9897-41d0-814d-4126b2b3f9d5 button.colab-df-convert');\n",
              "      buttonEl.style.display =\n",
              "        google.colab.kernel.accessAllowed ? 'block' : 'none';\n",
              "\n",
              "      async function convertToInteractive(key) {\n",
              "        const element = document.querySelector('#df-a308a5df-9897-41d0-814d-4126b2b3f9d5');\n",
              "        const dataTable =\n",
              "          await google.colab.kernel.invokeFunction('convertToInteractive',\n",
              "                                                    [key], {});\n",
              "        if (!dataTable) return;\n",
              "\n",
              "        const docLinkHtml = 'Like what you see? Visit the ' +\n",
              "          '<a target=\"_blank\" href=https://colab.research.google.com/notebooks/data_table.ipynb>data table notebook</a>'\n",
              "          + ' to learn more about interactive tables.';\n",
              "        element.innerHTML = '';\n",
              "        dataTable['output_type'] = 'display_data';\n",
              "        await google.colab.output.renderOutput(dataTable, element);\n",
              "        const docLink = document.createElement('div');\n",
              "        docLink.innerHTML = docLinkHtml;\n",
              "        element.appendChild(docLink);\n",
              "      }\n",
              "    </script>\n",
              "  </div>\n",
              "\n",
              "\n",
              "<div id=\"df-59596f39-653e-4f40-8eb1-27e185ca6d93\">\n",
              "  <button class=\"colab-df-quickchart\" onclick=\"quickchart('df-59596f39-653e-4f40-8eb1-27e185ca6d93')\"\n",
              "            title=\"Suggest charts.\"\n",
              "            style=\"display:none;\">\n",
              "\n",
              "<svg xmlns=\"http://www.w3.org/2000/svg\" height=\"24px\"viewBox=\"0 0 24 24\"\n",
              "     width=\"24px\">\n",
              "    <g>\n",
              "        <path d=\"M19 3H5c-1.1 0-2 .9-2 2v14c0 1.1.9 2 2 2h14c1.1 0 2-.9 2-2V5c0-1.1-.9-2-2-2zM9 17H7v-7h2v7zm4 0h-2V7h2v10zm4 0h-2v-4h2v4z\"/>\n",
              "    </g>\n",
              "</svg>\n",
              "  </button>\n",
              "\n",
              "<style>\n",
              "  .colab-df-quickchart {\n",
              "      --bg-color: #E8F0FE;\n",
              "      --fill-color: #1967D2;\n",
              "      --hover-bg-color: #E2EBFA;\n",
              "      --hover-fill-color: #174EA6;\n",
              "      --disabled-fill-color: #AAA;\n",
              "      --disabled-bg-color: #DDD;\n",
              "  }\n",
              "\n",
              "  [theme=dark] .colab-df-quickchart {\n",
              "      --bg-color: #3B4455;\n",
              "      --fill-color: #D2E3FC;\n",
              "      --hover-bg-color: #434B5C;\n",
              "      --hover-fill-color: #FFFFFF;\n",
              "      --disabled-bg-color: #3B4455;\n",
              "      --disabled-fill-color: #666;\n",
              "  }\n",
              "\n",
              "  .colab-df-quickchart {\n",
              "    background-color: var(--bg-color);\n",
              "    border: none;\n",
              "    border-radius: 50%;\n",
              "    cursor: pointer;\n",
              "    display: none;\n",
              "    fill: var(--fill-color);\n",
              "    height: 32px;\n",
              "    padding: 0;\n",
              "    width: 32px;\n",
              "  }\n",
              "\n",
              "  .colab-df-quickchart:hover {\n",
              "    background-color: var(--hover-bg-color);\n",
              "    box-shadow: 0 1px 2px rgba(60, 64, 67, 0.3), 0 1px 3px 1px rgba(60, 64, 67, 0.15);\n",
              "    fill: var(--button-hover-fill-color);\n",
              "  }\n",
              "\n",
              "  .colab-df-quickchart-complete:disabled,\n",
              "  .colab-df-quickchart-complete:disabled:hover {\n",
              "    background-color: var(--disabled-bg-color);\n",
              "    fill: var(--disabled-fill-color);\n",
              "    box-shadow: none;\n",
              "  }\n",
              "\n",
              "  .colab-df-spinner {\n",
              "    border: 2px solid var(--fill-color);\n",
              "    border-color: transparent;\n",
              "    border-bottom-color: var(--fill-color);\n",
              "    animation:\n",
              "      spin 1s steps(1) infinite;\n",
              "  }\n",
              "\n",
              "  @keyframes spin {\n",
              "    0% {\n",
              "      border-color: transparent;\n",
              "      border-bottom-color: var(--fill-color);\n",
              "      border-left-color: var(--fill-color);\n",
              "    }\n",
              "    20% {\n",
              "      border-color: transparent;\n",
              "      border-left-color: var(--fill-color);\n",
              "      border-top-color: var(--fill-color);\n",
              "    }\n",
              "    30% {\n",
              "      border-color: transparent;\n",
              "      border-left-color: var(--fill-color);\n",
              "      border-top-color: var(--fill-color);\n",
              "      border-right-color: var(--fill-color);\n",
              "    }\n",
              "    40% {\n",
              "      border-color: transparent;\n",
              "      border-right-color: var(--fill-color);\n",
              "      border-top-color: var(--fill-color);\n",
              "    }\n",
              "    60% {\n",
              "      border-color: transparent;\n",
              "      border-right-color: var(--fill-color);\n",
              "    }\n",
              "    80% {\n",
              "      border-color: transparent;\n",
              "      border-right-color: var(--fill-color);\n",
              "      border-bottom-color: var(--fill-color);\n",
              "    }\n",
              "    90% {\n",
              "      border-color: transparent;\n",
              "      border-bottom-color: var(--fill-color);\n",
              "    }\n",
              "  }\n",
              "</style>\n",
              "\n",
              "  <script>\n",
              "    async function quickchart(key) {\n",
              "      const quickchartButtonEl =\n",
              "        document.querySelector('#' + key + ' button');\n",
              "      quickchartButtonEl.disabled = true;  // To prevent multiple clicks.\n",
              "      quickchartButtonEl.classList.add('colab-df-spinner');\n",
              "      try {\n",
              "        const charts = await google.colab.kernel.invokeFunction(\n",
              "            'suggestCharts', [key], {});\n",
              "      } catch (error) {\n",
              "        console.error('Error during call to suggestCharts:', error);\n",
              "      }\n",
              "      quickchartButtonEl.classList.remove('colab-df-spinner');\n",
              "      quickchartButtonEl.classList.add('colab-df-quickchart-complete');\n",
              "    }\n",
              "    (() => {\n",
              "      let quickchartButtonEl =\n",
              "        document.querySelector('#df-59596f39-653e-4f40-8eb1-27e185ca6d93 button');\n",
              "      quickchartButtonEl.style.display =\n",
              "        google.colab.kernel.accessAllowed ? 'block' : 'none';\n",
              "    })();\n",
              "  </script>\n",
              "</div>\n",
              "    </div>\n",
              "  </div>\n"
            ]
          },
          "metadata": {},
          "execution_count": 37
        }
      ],
      "source": [
        "boxplot_PasajerosAerolineas.head()"
      ]
    },
    {
      "cell_type": "code",
      "execution_count": 38,
      "id": "d191df60",
      "metadata": {
        "colab": {
          "base_uri": "https://localhost:8080/",
          "height": 894
        },
        "id": "d191df60",
        "outputId": "a5e4be2d-c9d9-4f48-eb1b-973cdb6c05a4"
      },
      "outputs": [
        {
          "output_type": "stream",
          "name": "stderr",
          "text": [
            "<ipython-input-38-e2d7b6c1a7bd>:2: FutureWarning: The default value of numeric_only in DataFrame.corr is deprecated. In a future version, it will default to False. Select only valid columns or specify the value of numeric_only to silence this warning.\n",
            "  sns.heatmap(PasajerosAerolineas.corr(),annot=True, vmax=1, vmin=-1)\n"
          ]
        },
        {
          "output_type": "display_data",
          "data": {
            "text/plain": [
              "<Figure size 1000x800 with 2 Axes>"
            ],
            "image/png": "[encoded data removed]"
          },
          "metadata": {}
        }
      ],
      "source": [
        "plt.figure(figsize=(10,8))\n",
        "sns.heatmap(PasajerosAerolineas.corr(),annot=True, vmax=1, vmin=-1)\n",
        "plt.title(\"Correlacion de cada columna \")\n",
        "plt.show()"
      ]
    },
    {
      "cell_type": "markdown",
      "id": "d0e4eefd",
      "metadata": {
        "id": "d0e4eefd"
      },
      "source": [
        "* Visualizamos la correlacion por cada columna"
      ]
    },
    {
      "cell_type": "markdown",
      "id": "71d49979",
      "metadata": {
        "id": "71d49979"
      },
      "source": [
        "### Procesamiento y transformacion de los datos"
      ]
    },
    {
      "cell_type": "code",
      "execution_count": 39,
      "id": "7f23b07c",
      "metadata": {
        "id": "7f23b07c"
      },
      "outputs": [],
      "source": [
        "PasajerosAerolineas['CanalDeVenta']= PasajerosAerolineas['CanalDeVenta'].apply(lambda x: 0 if x == 'Mobile' else 1)"
      ]
    },
    {
      "cell_type": "code",
      "execution_count": 40,
      "id": "35e8b0cb",
      "metadata": {
        "id": "35e8b0cb"
      },
      "outputs": [],
      "source": [
        "from sklearn.preprocessing import LabelEncoder\n"
      ]
    },
    {
      "cell_type": "code",
      "execution_count": 41,
      "id": "68c7ea3d",
      "metadata": {
        "id": "68c7ea3d"
      },
      "outputs": [],
      "source": [
        "TipoDeViaje = LabelEncoder()"
      ]
    },
    {
      "cell_type": "code",
      "execution_count": 42,
      "id": "60f44169",
      "metadata": {
        "id": "60f44169"
      },
      "outputs": [],
      "source": [
        "PasajerosAerolineas['TipoDeViaje'] = TipoDeViaje.fit_transform(PasajerosAerolineas['TipoDeViaje'])"
      ]
    },
    {
      "cell_type": "code",
      "execution_count": 43,
      "id": "20316985",
      "metadata": {
        "id": "20316985"
      },
      "outputs": [],
      "source": [
        "DiaDelVuelo = LabelEncoder()"
      ]
    },
    {
      "cell_type": "code",
      "execution_count": 44,
      "id": "bbf0cd83",
      "metadata": {
        "id": "bbf0cd83"
      },
      "outputs": [],
      "source": [
        "PasajerosAerolineas['DiaDelVuelo'] = DiaDelVuelo.fit_transform(PasajerosAerolineas['DiaDelVuelo'])"
      ]
    },
    {
      "cell_type": "code",
      "execution_count": 45,
      "id": "3d48b287",
      "metadata": {
        "id": "3d48b287"
      },
      "outputs": [],
      "source": [
        "OrigenReserva = LabelEncoder()"
      ]
    },
    {
      "cell_type": "code",
      "execution_count": 46,
      "id": "db6be937",
      "metadata": {
        "id": "db6be937"
      },
      "outputs": [],
      "source": [
        "PasajerosAerolineas['OrigenReserva'] = OrigenReserva.fit_transform(PasajerosAerolineas['OrigenReserva'])"
      ]
    },
    {
      "cell_type": "code",
      "execution_count": 47,
      "id": "c678cbfd",
      "metadata": {
        "id": "c678cbfd"
      },
      "outputs": [],
      "source": [
        "Ruta = LabelEncoder()"
      ]
    },
    {
      "cell_type": "code",
      "execution_count": 48,
      "id": "716a4605",
      "metadata": {
        "id": "716a4605"
      },
      "outputs": [],
      "source": [
        "PasajerosAerolineas['Ruta'] = Ruta.fit_transform(PasajerosAerolineas['Ruta'])"
      ]
    },
    {
      "cell_type": "code",
      "execution_count": 49,
      "id": "05c61d5a",
      "metadata": {
        "colab": {
          "base_uri": "https://localhost:8080/"
        },
        "id": "05c61d5a",
        "outputId": "df503e0d-35da-4ac3-9c68-71fe3c071349"
      },
      "outputs": [
        {
          "output_type": "execute_result",
          "data": {
            "text/plain": [
              "NumeroDePasajeros        int64\n",
              "CanalDeVenta             int64\n",
              "TipoDeViaje              int64\n",
              "ClientePotencial         int64\n",
              "Estadia                  int64\n",
              "HorarioDelVuelo          int64\n",
              "DiaDelVuelo              int64\n",
              "Ruta                     int64\n",
              "OrigenReserva            int64\n",
              "EquipajeExtra            int64\n",
              "AsientosPreferido        int64\n",
              "QuiereComidaEnVuelo      int64\n",
              "DuracionDelVuelo       float64\n",
              "ReservaCompleta          int64\n",
              "dtype: object"
            ]
          },
          "metadata": {},
          "execution_count": 49
        }
      ],
      "source": [
        "PasajerosAerolineas.dtypes"
      ]
    },
    {
      "cell_type": "code",
      "execution_count": 50,
      "id": "37c113a9",
      "metadata": {
        "id": "37c113a9"
      },
      "outputs": [],
      "source": [
        "PasajerosAerolineas['DuracionDelVuelo'] = PasajerosAerolineas['DuracionDelVuelo'].round()"
      ]
    },
    {
      "cell_type": "code",
      "execution_count": 51,
      "id": "851ffc4d",
      "metadata": {
        "colab": {
          "base_uri": "https://localhost:8080/"
        },
        "id": "851ffc4d",
        "outputId": "3f38935c-e42a-4721-ef8a-1cf3dd1681ea"
      },
      "outputs": [
        {
          "output_type": "execute_result",
          "data": {
            "text/plain": [
              "0        7\n",
              "1        6\n",
              "2        6\n",
              "3        6\n",
              "4        6\n",
              "        ..\n",
              "49997    6\n",
              "49998    6\n",
              "49999    6\n",
              "50000    6\n",
              "50001    6\n",
              "Name: DuracionDelVuelo, Length: 50002, dtype: int64"
            ]
          },
          "metadata": {},
          "execution_count": 51
        }
      ],
      "source": [
        "PasajerosAerolineas['DuracionDelVuelo'].astype(int)"
      ]
    },
    {
      "cell_type": "markdown",
      "id": "022e931e",
      "metadata": {
        "id": "022e931e"
      },
      "source": [
        "### Seleccion de target (y) y variables (X)"
      ]
    },
    {
      "cell_type": "code",
      "execution_count": 52,
      "id": "2068d6f9",
      "metadata": {
        "id": "2068d6f9"
      },
      "outputs": [],
      "source": [
        "x = PasajerosAerolineas.drop(['EquipajeExtra'], axis=1)"
      ]
    },
    {
      "cell_type": "code",
      "execution_count": 53,
      "id": "e47fa806",
      "metadata": {
        "colab": {
          "base_uri": "https://localhost:8080/"
        },
        "id": "e47fa806",
        "outputId": "e58a0c4f-5a28-4be0-aec1-d9065c6ea095"
      },
      "outputs": [
        {
          "output_type": "execute_result",
          "data": {
            "text/plain": [
              "(50002, 13)"
            ]
          },
          "metadata": {},
          "execution_count": 53
        }
      ],
      "source": [
        "x.shape"
      ]
    },
    {
      "cell_type": "code",
      "execution_count": 54,
      "id": "773d0799",
      "metadata": {
        "id": "773d0799"
      },
      "outputs": [],
      "source": [
        "y = PasajerosAerolineas ['EquipajeExtra']"
      ]
    },
    {
      "cell_type": "code",
      "execution_count": 55,
      "id": "81b5debb",
      "metadata": {
        "id": "81b5debb"
      },
      "outputs": [],
      "source": [
        "x, y = np.array(x), np.array(y)"
      ]
    },
    {
      "cell_type": "markdown",
      "id": "4d1f65d8",
      "metadata": {
        "id": "4d1f65d8"
      },
      "source": [
        "### Separando Train / Test"
      ]
    },
    {
      "cell_type": "markdown",
      "source": [
        "####Importamos la libreria para separar el dataset"
      ],
      "metadata": {
        "id": "8ViE_D0_kkER"
      },
      "id": "8ViE_D0_kkER"
    },
    {
      "cell_type": "code",
      "execution_count": 57,
      "id": "557f6b20",
      "metadata": {
        "id": "557f6b20"
      },
      "outputs": [],
      "source": [
        "from sklearn.model_selection import train_test_split"
      ]
    },
    {
      "cell_type": "code",
      "execution_count": 58,
      "id": "81f9d37e",
      "metadata": {
        "id": "81f9d37e"
      },
      "outputs": [],
      "source": [
        "X_train, X_test, y_train, y_test = train_test_split(x, y, test_size=0.2,\n",
        "                                                    random_state=42)"
      ]
    },
    {
      "cell_type": "code",
      "execution_count": 59,
      "id": "a4aca6bc",
      "metadata": {
        "colab": {
          "base_uri": "https://localhost:8080/"
        },
        "id": "a4aca6bc",
        "outputId": "f0a3d26d-a6f6-4228-9856-a734c2f98e22"
      },
      "outputs": [
        {
          "output_type": "execute_result",
          "data": {
            "text/plain": [
              "(40001, 13)"
            ]
          },
          "metadata": {},
          "execution_count": 59
        }
      ],
      "source": [
        "X_train.shape"
      ]
    },
    {
      "cell_type": "code",
      "execution_count": 60,
      "id": "58abefd9",
      "metadata": {
        "colab": {
          "base_uri": "https://localhost:8080/"
        },
        "id": "58abefd9",
        "outputId": "99c049bc-fea6-4e0b-a767-bea0da1bad28"
      },
      "outputs": [
        {
          "output_type": "execute_result",
          "data": {
            "text/plain": [
              "(10001, 13)"
            ]
          },
          "metadata": {},
          "execution_count": 60
        }
      ],
      "source": [
        "X_test.shape"
      ]
    },
    {
      "cell_type": "markdown",
      "id": "6bad6f32",
      "metadata": {
        "id": "6bad6f32"
      },
      "source": [
        "### Modelos"
      ]
    },
    {
      "cell_type": "code",
      "execution_count": 61,
      "id": "46bb1200",
      "metadata": {
        "id": "46bb1200"
      },
      "outputs": [],
      "source": [
        "from sklearn.neighbors import KNeighborsClassifier"
      ]
    },
    {
      "cell_type": "code",
      "execution_count": 62,
      "id": "816c70f6",
      "metadata": {
        "id": "816c70f6"
      },
      "outputs": [],
      "source": [
        "from sklearn.ensemble import RandomForestClassifier"
      ]
    },
    {
      "cell_type": "code",
      "execution_count": 63,
      "id": "8a10f058",
      "metadata": {
        "id": "8a10f058"
      },
      "outputs": [],
      "source": [
        "from sklearn.model_selection import GridSearchCV"
      ]
    },
    {
      "cell_type": "code",
      "execution_count": 64,
      "id": "af752c6c",
      "metadata": {
        "id": "af752c6c"
      },
      "outputs": [],
      "source": [
        "# metricas\n",
        "from sklearn.metrics import (\n",
        "    accuracy_score,\n",
        "    confusion_matrix,\n",
        "    precision_score,\n",
        "    recall_score,\n",
        "    f1_score\n",
        ")"
      ]
    },
    {
      "cell_type": "markdown",
      "id": "dd714a72",
      "metadata": {
        "id": "dd714a72"
      },
      "source": [
        "\n",
        "\n",
        "### Clasificador kNN"
      ]
    },
    {
      "cell_type": "code",
      "execution_count": 65,
      "id": "477aef2b",
      "metadata": {
        "id": "477aef2b"
      },
      "outputs": [],
      "source": [
        "knn = KNeighborsClassifier()"
      ]
    },
    {
      "cell_type": "markdown",
      "source": [
        "###Entrenamos el Modelo"
      ],
      "metadata": {
        "id": "3BN46wUClLYD"
      },
      "id": "3BN46wUClLYD"
    },
    {
      "cell_type": "code",
      "execution_count": 68,
      "id": "6a1e4029",
      "metadata": {
        "scrolled": true,
        "id": "6a1e4029"
      },
      "outputs": [],
      "source": [
        "knn.fit(X_train, y_train);"
      ]
    },
    {
      "cell_type": "code",
      "execution_count": 67,
      "id": "65a980e6",
      "metadata": {
        "id": "65a980e6"
      },
      "outputs": [],
      "source": [
        "ACC_train = []\n",
        "ACC_test = []\n",
        "\n",
        "vecinos = [1, 3, 5, 10, 15, 20, 27, 50]\n",
        "for n in vecinos:\n",
        "\n",
        "    clf = KNeighborsClassifier(n_neighbors=n)\n",
        "\n",
        "    clf.fit(X_train, y_train)\n",
        "    y_train_pred = clf.predict(X_train)\n",
        "\n",
        "    train_acc = accuracy_score(y_train, y_train_pred)\n",
        "    ACC_train.append(train_acc)\n",
        "\n",
        "    y_test_pred = clf.predict(X_test)\n",
        "    test_acc = accuracy_score(y_test, y_test_pred)\n",
        "    ACC_test.append(test_acc)"
      ]
    },
    {
      "cell_type": "code",
      "execution_count": null,
      "id": "e6e49511",
      "metadata": {
        "id": "e6e49511",
        "outputId": "2e2e1daa-a1b0-4bbb-9d48-cfb380cf76d5"
      },
      "outputs": [
        {
          "data": {
            "image/png": "[encoded data removed]",
            "text/plain": [
              "<Figure size 640x480 with 1 Axes>"
            ]
          },
          "metadata": {},
          "output_type": "display_data"
        }
      ],
      "source": [
        "plt.plot(vecinos,ACC_train,'o-',label='train', color='#DCE775')\n",
        "plt.plot(vecinos,ACC_test,'o-',label='test', color='#EC407A')\n",
        "plt.legend()\n",
        "sns.despine();"
      ]
    },
    {
      "cell_type": "markdown",
      "source": [
        "###Predecimos"
      ],
      "metadata": {
        "id": "i5iIYWIBlZuV"
      },
      "id": "i5iIYWIBlZuV"
    },
    {
      "cell_type": "code",
      "execution_count": 69,
      "id": "7398f95b",
      "metadata": {
        "id": "7398f95b"
      },
      "outputs": [],
      "source": [
        "#predicciones_pa = knn.predict(X_test)"
      ]
    },
    {
      "cell_type": "code",
      "execution_count": 70,
      "id": "ca8a03d6",
      "metadata": {
        "id": "ca8a03d6"
      },
      "outputs": [],
      "source": [
        "#predicciones_train = knn.predict(X_train)"
      ]
    },
    {
      "cell_type": "code",
      "execution_count": 71,
      "id": "2cbe6062",
      "metadata": {
        "colab": {
          "base_uri": "https://localhost:8080/"
        },
        "id": "2cbe6062",
        "outputId": "2bc0aa60-6112-4b37-cd88-0684a08f0ea5"
      },
      "outputs": [
        {
          "output_type": "stream",
          "name": "stdout",
          "text": [
            "69.45%\n"
          ]
        }
      ],
      "source": [
        "accuracy = accuracy_score(y_train, y_train_pred)*100\n",
        "print(f'{round(accuracy, 2)}%')"
      ]
    },
    {
      "cell_type": "code",
      "execution_count": 72,
      "id": "004e8315",
      "metadata": {
        "colab": {
          "base_uri": "https://localhost:8080/"
        },
        "id": "004e8315",
        "outputId": "b9d22fa2-305c-4052-99f8-b2dab3207b0c"
      },
      "outputs": [
        {
          "output_type": "stream",
          "name": "stdout",
          "text": [
            "68.13%\n"
          ]
        }
      ],
      "source": [
        "accuracy = accuracy_score(y_test, y_test_pred)*100\n",
        "print(f'{round(accuracy, 2)}%')"
      ]
    },
    {
      "cell_type": "code",
      "execution_count": 73,
      "id": "e340934d",
      "metadata": {
        "colab": {
          "base_uri": "https://localhost:8080/"
        },
        "id": "e340934d",
        "outputId": "a455a7aa-b43a-4c7f-8c83-48bd6ebfea3d"
      },
      "outputs": [
        {
          "output_type": "stream",
          "name": "stdout",
          "text": [
            "Accuracy: 68.13%\n",
            "Precision: 70.77%\n",
            "Recall: 89.16%\n",
            "F1 score: 78.91%\n"
          ]
        }
      ],
      "source": [
        "print(f\"Accuracy: {accuracy_score(y_test, y_test_pred)*100 :.2f}%\")\n",
        "print(f\"Precision: {precision_score(y_test, y_test_pred)*100 :.2f}%\")\n",
        "print(f\"Recall: {recall_score(y_test, y_test_pred)*100 :.2f}%\")\n",
        "print(f\"F1 score: {f1_score(y_test, y_test_pred)*100 :.2f}%\")"
      ]
    },
    {
      "cell_type": "markdown",
      "id": "82d6c1a2",
      "metadata": {
        "id": "82d6c1a2"
      },
      "source": [
        "### Random Forest"
      ]
    },
    {
      "cell_type": "code",
      "execution_count": 74,
      "id": "50ae4546",
      "metadata": {
        "id": "50ae4546"
      },
      "outputs": [],
      "source": [
        "rf_pa = RandomForestClassifier()"
      ]
    },
    {
      "cell_type": "code",
      "execution_count": 75,
      "id": "fecaa9b3",
      "metadata": {
        "colab": {
          "base_uri": "https://localhost:8080/",
          "height": 75
        },
        "id": "fecaa9b3",
        "outputId": "da3b1be6-f0d0-4c3b-fd16-c3e48ee98155"
      },
      "outputs": [
        {
          "output_type": "execute_result",
          "data": {
            "text/plain": [
              "RandomForestClassifier()"
            ],
            "text/html": [
              "<style>#sk-container-id-1 {color: black;background-color: white;}#sk-container-id-1 pre{padding: 0;}#sk-container-id-1 div.sk-toggleable {background-color: white;}#sk-container-id-1 label.sk-toggleable__label {cursor: pointer;display: block;width: 100%;margin-bottom: 0;padding: 0.3em;box-sizing: border-box;text-align: center;}#sk-container-id-1 label.sk-toggleable__label-arrow:before {content: \"▸\";float: left;margin-right: 0.25em;color: #696969;}#sk-container-id-1 label.sk-toggleable__label-arrow:hover:before {color: black;}#sk-container-id-1 div.sk-estimator:hover label.sk-toggleable__label-arrow:before {color: black;}#sk-container-id-1 div.sk-toggleable__content {max-height: 0;max-width: 0;overflow: hidden;text-align: left;background-color: #f0f8ff;}#sk-container-id-1 div.sk-toggleable__content pre {margin: 0.2em;color: black;border-radius: 0.25em;background-color: #f0f8ff;}#sk-container-id-1 input.sk-toggleable__control:checked~div.sk-toggleable__content {max-height: 200px;max-width: 100%;overflow: auto;}#sk-container-id-1 input.sk-toggleable__control:checked~label.sk-toggleable__label-arrow:before {content: \"▾\";}#sk-container-id-1 div.sk-estimator input.sk-toggleable__control:checked~label.sk-toggleable__label {background-color: #d4ebff;}#sk-container-id-1 div.sk-label input.sk-toggleable__control:checked~label.sk-toggleable__label {background-color: #d4ebff;}#sk-container-id-1 input.sk-hidden--visually {border: 0;clip: rect(1px 1px 1px 1px);clip: rect(1px, 1px, 1px, 1px);height: 1px;margin: -1px;overflow: hidden;padding: 0;position: absolute;width: 1px;}#sk-container-id-1 div.sk-estimator {font-family: monospace;background-color: #f0f8ff;border: 1px dotted black;border-radius: 0.25em;box-sizing: border-box;margin-bottom: 0.5em;}#sk-container-id-1 div.sk-estimator:hover {background-color: #d4ebff;}#sk-container-id-1 div.sk-parallel-item::after {content: \"\";width: 100%;border-bottom: 1px solid gray;flex-grow: 1;}#sk-container-id-1 div.sk-label:hover label.sk-toggleable__label {background-color: #d4ebff;}#sk-container-id-1 div.sk-serial::before {content: \"\";position: absolute;border-left: 1px solid gray;box-sizing: border-box;top: 0;bottom: 0;left: 50%;z-index: 0;}#sk-container-id-1 div.sk-serial {display: flex;flex-direction: column;align-items: center;background-color: white;padding-right: 0.2em;padding-left: 0.2em;position: relative;}#sk-container-id-1 div.sk-item {position: relative;z-index: 1;}#sk-container-id-1 div.sk-parallel {display: flex;align-items: stretch;justify-content: center;background-color: white;position: relative;}#sk-container-id-1 div.sk-item::before, #sk-container-id-1 div.sk-parallel-item::before {content: \"\";position: absolute;border-left: 1px solid gray;box-sizing: border-box;top: 0;bottom: 0;left: 50%;z-index: -1;}#sk-container-id-1 div.sk-parallel-item {display: flex;flex-direction: column;z-index: 1;position: relative;background-color: white;}#sk-container-id-1 div.sk-parallel-item:first-child::after {align-self: flex-end;width: 50%;}#sk-container-id-1 div.sk-parallel-item:last-child::after {align-self: flex-start;width: 50%;}#sk-container-id-1 div.sk-parallel-item:only-child::after {width: 0;}#sk-container-id-1 div.sk-dashed-wrapped {border: 1px dashed gray;margin: 0 0.4em 0.5em 0.4em;box-sizing: border-box;padding-bottom: 0.4em;background-color: white;}#sk-container-id-1 div.sk-label label {font-family: monospace;font-weight: bold;display: inline-block;line-height: 1.2em;}#sk-container-id-1 div.sk-label-container {text-align: center;}#sk-container-id-1 div.sk-container {/* jupyter's `normalize.less` sets `[hidden] { display: none; }` but bootstrap.min.css set `[hidden] { display: none !important; }` so we also need the `!important` here to be able to override the default hidden behavior on the sphinx rendered scikit-learn.org. See: https://github.com/scikit-learn/scikit-learn/issues/21755 */display: inline-block !important;position: relative;}#sk-container-id-1 div.sk-text-repr-fallback {display: none;}</style><div id=\"sk-container-id-1\" class=\"sk-top-container\"><div class=\"sk-text-repr-fallback\"><pre>RandomForestClassifier()</pre><b>In a Jupyter environment, please rerun this cell to show the HTML representation or trust the notebook. <br />On GitHub, the HTML representation is unable to render, please try loading this page with nbviewer.org.</b></div><div class=\"sk-container\" hidden><div class=\"sk-item\"><div class=\"sk-estimator sk-toggleable\"><input class=\"sk-toggleable__control sk-hidden--visually\" id=\"sk-estimator-id-1\" type=\"checkbox\" checked><label for=\"sk-estimator-id-1\" class=\"sk-toggleable__label sk-toggleable__label-arrow\">RandomForestClassifier</label><div class=\"sk-toggleable__content\"><pre>RandomForestClassifier()</pre></div></div></div></div></div>"
            ]
          },
          "metadata": {},
          "execution_count": 75
        }
      ],
      "source": [
        "rf_pa.fit(X_train, y_train)"
      ]
    },
    {
      "cell_type": "markdown",
      "source": [
        "###Predecimos"
      ],
      "metadata": {
        "id": "lSqbx_xnlnhP"
      },
      "id": "lSqbx_xnlnhP"
    },
    {
      "cell_type": "code",
      "execution_count": 76,
      "id": "ab019f29",
      "metadata": {
        "id": "ab019f29"
      },
      "outputs": [],
      "source": [
        "predicciones_pa= rf_pa.predict(X_test)"
      ]
    },
    {
      "cell_type": "code",
      "execution_count": 77,
      "id": "6531a09f",
      "metadata": {
        "id": "6531a09f"
      },
      "outputs": [],
      "source": [
        "predicciones_train= rf_pa.predict(X_train)"
      ]
    },
    {
      "cell_type": "code",
      "execution_count": 78,
      "id": "064c3b83",
      "metadata": {
        "colab": {
          "base_uri": "https://localhost:8080/"
        },
        "id": "064c3b83",
        "outputId": "71e47f70-50e7-4014-853f-71cafe9337c6"
      },
      "outputs": [
        {
          "output_type": "stream",
          "name": "stdout",
          "text": [
            "72.58%\n"
          ]
        }
      ],
      "source": [
        "accuracy = accuracy_score(y_test, predicciones_pa)*100\n",
        "print(f'{round(accuracy, 2)}%')"
      ]
    },
    {
      "cell_type": "code",
      "execution_count": 79,
      "id": "c0de0ea9",
      "metadata": {
        "colab": {
          "base_uri": "https://localhost:8080/"
        },
        "id": "c0de0ea9",
        "outputId": "77324bb7-7adb-4fc7-bfc6-e940ffb81a8f"
      },
      "outputs": [
        {
          "output_type": "stream",
          "name": "stdout",
          "text": [
            "99.9%\n"
          ]
        }
      ],
      "source": [
        "accuracy = accuracy_score(y_train, predicciones_train)*100\n",
        "print(f'{round(accuracy, 2)}%')"
      ]
    },
    {
      "cell_type": "markdown",
      "id": "11e89c47",
      "metadata": {
        "id": "11e89c47"
      },
      "source": [
        "##**Metricas**\n",
        "\n",
        "Matriz de confusión:\n",
        "\n",
        "True Negative (TN)  |  False positive (FP)   \n",
        "= = = = = = = = = = = = = = = = = = = = =       \n",
        "False negative (FN) | True positive (TP)"
      ]
    },
    {
      "cell_type": "code",
      "execution_count": 80,
      "id": "b2f1a3da",
      "metadata": {
        "colab": {
          "base_uri": "https://localhost:8080/",
          "height": 430
        },
        "id": "b2f1a3da",
        "outputId": "4b6032df-8099-48cb-abd5-f0025d0e32a6"
      },
      "outputs": [
        {
          "output_type": "display_data",
          "data": {
            "text/plain": [
              "<Figure size 640x480 with 2 Axes>"
            ],
            "image/png": "[encoded data removed]"
          },
          "metadata": {}
        }
      ],
      "source": [
        "plt.figure()\n",
        "random_confusion = confusion_matrix(y_test, predicciones_pa)\n",
        "sns.heatmap(random_confusion, cmap=\"YlGnBu\",annot=True);"
      ]
    },
    {
      "cell_type": "code",
      "execution_count": null,
      "id": "dc3aa473",
      "metadata": {
        "id": "dc3aa473"
      },
      "outputs": [],
      "source": []
    }
  ],
  "metadata": {
    "kernelspec": {
      "display_name": "Python 3 (ipykernel)",
      "language": "python",
      "name": "python3"
    },
    "language_info": {
      "codemirror_mode": {
        "name": "ipython",
        "version": 3
      },
      "file_extension": ".py",
      "mimetype": "text/x-python",
      "name": "python",
      "nbconvert_exporter": "python",
      "pygments_lexer": "ipython3",
      "version": "3.10.9"
    },
    "colab": {
      "provenance": []
    }
  },
  "nbformat": 4,
  "nbformat_minor": 5
}